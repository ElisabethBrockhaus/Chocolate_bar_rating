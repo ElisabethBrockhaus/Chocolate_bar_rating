{
 "cells": [
  {
   "cell_type": "code",
   "execution_count": 1,
   "id": "11b92832",
   "metadata": {
    "init_cell": true
   },
   "outputs": [],
   "source": [
    "import pandas as pd\n",
    "import numpy as np\n",
    "import math\n",
    "from sklearn import preprocessing\n",
    "import matplotlib.pyplot as plt\n",
    "import seaborn as sns\n",
    "from statsmodels.distributions.empirical_distribution import ECDF\n",
    "from collections import Counter"
   ]
  },
  {
   "cell_type": "markdown",
   "id": "4f8024ec",
   "metadata": {
    "heading_collapsed": true
   },
   "source": [
    "# Read data, explore target"
   ]
  },
  {
   "cell_type": "code",
   "execution_count": 2,
   "id": "1064f195",
   "metadata": {
    "hidden": true,
    "init_cell": true
   },
   "outputs": [
    {
     "data": {
      "text/html": [
       "<div>\n",
       "<style scoped>\n",
       "    .dataframe tbody tr th:only-of-type {\n",
       "        vertical-align: middle;\n",
       "    }\n",
       "\n",
       "    .dataframe tbody tr th {\n",
       "        vertical-align: top;\n",
       "    }\n",
       "\n",
       "    .dataframe thead th {\n",
       "        text-align: right;\n",
       "    }\n",
       "</style>\n",
       "<table border=\"1\" class=\"dataframe\">\n",
       "  <thead>\n",
       "    <tr style=\"text-align: right;\">\n",
       "      <th></th>\n",
       "      <th>ref</th>\n",
       "      <th>company_manufacturer</th>\n",
       "      <th>company_location</th>\n",
       "      <th>review_date</th>\n",
       "      <th>country_of_bean_origin</th>\n",
       "      <th>specific_bean_origin_or_bar_name</th>\n",
       "      <th>cocoa_percent</th>\n",
       "      <th>ingredients</th>\n",
       "      <th>most_memorable_characteristics</th>\n",
       "      <th>rating</th>\n",
       "    </tr>\n",
       "  </thead>\n",
       "  <tbody>\n",
       "    <tr>\n",
       "      <th>0</th>\n",
       "      <td>2454</td>\n",
       "      <td>5150</td>\n",
       "      <td>U.S.A.</td>\n",
       "      <td>2019</td>\n",
       "      <td>Tanzania</td>\n",
       "      <td>Kokoa Kamili, batch 1</td>\n",
       "      <td>76%</td>\n",
       "      <td>3- B,S,C</td>\n",
       "      <td>rich cocoa, fatty, bready</td>\n",
       "      <td>3.25</td>\n",
       "    </tr>\n",
       "    <tr>\n",
       "      <th>1</th>\n",
       "      <td>2454</td>\n",
       "      <td>5150</td>\n",
       "      <td>U.S.A.</td>\n",
       "      <td>2019</td>\n",
       "      <td>Madagascar</td>\n",
       "      <td>Bejofo Estate, batch 1</td>\n",
       "      <td>76%</td>\n",
       "      <td>3- B,S,C</td>\n",
       "      <td>cocoa, blackberry, full body</td>\n",
       "      <td>3.75</td>\n",
       "    </tr>\n",
       "    <tr>\n",
       "      <th>2</th>\n",
       "      <td>2458</td>\n",
       "      <td>5150</td>\n",
       "      <td>U.S.A.</td>\n",
       "      <td>2019</td>\n",
       "      <td>Dominican Republic</td>\n",
       "      <td>Zorzal, batch 1</td>\n",
       "      <td>76%</td>\n",
       "      <td>3- B,S,C</td>\n",
       "      <td>cocoa, vegetal, savory</td>\n",
       "      <td>3.50</td>\n",
       "    </tr>\n",
       "    <tr>\n",
       "      <th>3</th>\n",
       "      <td>2542</td>\n",
       "      <td>5150</td>\n",
       "      <td>U.S.A.</td>\n",
       "      <td>2021</td>\n",
       "      <td>Fiji</td>\n",
       "      <td>Matasawalevu, batch 1</td>\n",
       "      <td>68%</td>\n",
       "      <td>3- B,S,C</td>\n",
       "      <td>chewy, off, rubbery</td>\n",
       "      <td>3.00</td>\n",
       "    </tr>\n",
       "    <tr>\n",
       "      <th>4</th>\n",
       "      <td>2542</td>\n",
       "      <td>5150</td>\n",
       "      <td>U.S.A.</td>\n",
       "      <td>2021</td>\n",
       "      <td>India</td>\n",
       "      <td>Anamalai, batch 1</td>\n",
       "      <td>68%</td>\n",
       "      <td>3- B,S,C</td>\n",
       "      <td>milk brownie, macadamia,chewy</td>\n",
       "      <td>3.50</td>\n",
       "    </tr>\n",
       "    <tr>\n",
       "      <th>...</th>\n",
       "      <td>...</td>\n",
       "      <td>...</td>\n",
       "      <td>...</td>\n",
       "      <td>...</td>\n",
       "      <td>...</td>\n",
       "      <td>...</td>\n",
       "      <td>...</td>\n",
       "      <td>...</td>\n",
       "      <td>...</td>\n",
       "      <td>...</td>\n",
       "    </tr>\n",
       "    <tr>\n",
       "      <th>2583</th>\n",
       "      <td>1205</td>\n",
       "      <td>Zotter</td>\n",
       "      <td>Austria</td>\n",
       "      <td>2014</td>\n",
       "      <td>Blend</td>\n",
       "      <td>Raw</td>\n",
       "      <td>80%</td>\n",
       "      <td>4- B,S*,C,Sa</td>\n",
       "      <td>waxy, cloying, vegetal</td>\n",
       "      <td>2.75</td>\n",
       "    </tr>\n",
       "    <tr>\n",
       "      <th>2584</th>\n",
       "      <td>1996</td>\n",
       "      <td>Zotter</td>\n",
       "      <td>Austria</td>\n",
       "      <td>2017</td>\n",
       "      <td>Colombia</td>\n",
       "      <td>APROCAFA, Acandi</td>\n",
       "      <td>75%</td>\n",
       "      <td>3- B,S,C</td>\n",
       "      <td>strong nutty, marshmallow</td>\n",
       "      <td>3.75</td>\n",
       "    </tr>\n",
       "    <tr>\n",
       "      <th>2585</th>\n",
       "      <td>2036</td>\n",
       "      <td>Zotter</td>\n",
       "      <td>Austria</td>\n",
       "      <td>2018</td>\n",
       "      <td>Blend</td>\n",
       "      <td>Dry Aged, 30 yr Anniversary bar</td>\n",
       "      <td>75%</td>\n",
       "      <td>3- B,S,C</td>\n",
       "      <td>fatty, earthy, cocoa</td>\n",
       "      <td>3.00</td>\n",
       "    </tr>\n",
       "    <tr>\n",
       "      <th>2586</th>\n",
       "      <td>2170</td>\n",
       "      <td>Zotter</td>\n",
       "      <td>Austria</td>\n",
       "      <td>2018</td>\n",
       "      <td>Congo</td>\n",
       "      <td>Mountains of the Moon</td>\n",
       "      <td>70%</td>\n",
       "      <td>3- B,S,C</td>\n",
       "      <td>fatty, mild nuts, mild fruit</td>\n",
       "      <td>3.25</td>\n",
       "    </tr>\n",
       "    <tr>\n",
       "      <th>2587</th>\n",
       "      <td>2170</td>\n",
       "      <td>Zotter</td>\n",
       "      <td>Austria</td>\n",
       "      <td>2018</td>\n",
       "      <td>Belize</td>\n",
       "      <td>Maya Mtn</td>\n",
       "      <td>72%</td>\n",
       "      <td>3- B,S,C</td>\n",
       "      <td>muted, roasty, accessible</td>\n",
       "      <td>3.50</td>\n",
       "    </tr>\n",
       "  </tbody>\n",
       "</table>\n",
       "<p>2588 rows × 10 columns</p>\n",
       "</div>"
      ],
      "text/plain": [
       "       ref company_manufacturer company_location  review_date  \\\n",
       "0     2454                 5150           U.S.A.         2019   \n",
       "1     2454                 5150           U.S.A.         2019   \n",
       "2     2458                 5150           U.S.A.         2019   \n",
       "3     2542                 5150           U.S.A.         2021   \n",
       "4     2542                 5150           U.S.A.         2021   \n",
       "...    ...                  ...              ...          ...   \n",
       "2583  1205               Zotter          Austria         2014   \n",
       "2584  1996               Zotter          Austria         2017   \n",
       "2585  2036               Zotter          Austria         2018   \n",
       "2586  2170               Zotter          Austria         2018   \n",
       "2587  2170               Zotter          Austria         2018   \n",
       "\n",
       "     country_of_bean_origin specific_bean_origin_or_bar_name cocoa_percent  \\\n",
       "0                  Tanzania            Kokoa Kamili, batch 1           76%   \n",
       "1                Madagascar           Bejofo Estate, batch 1           76%   \n",
       "2        Dominican Republic                  Zorzal, batch 1           76%   \n",
       "3                      Fiji            Matasawalevu, batch 1           68%   \n",
       "4                     India                Anamalai, batch 1           68%   \n",
       "...                     ...                              ...           ...   \n",
       "2583                  Blend                              Raw           80%   \n",
       "2584               Colombia                 APROCAFA, Acandi           75%   \n",
       "2585                  Blend  Dry Aged, 30 yr Anniversary bar           75%   \n",
       "2586                  Congo            Mountains of the Moon           70%   \n",
       "2587                 Belize                         Maya Mtn           72%   \n",
       "\n",
       "       ingredients most_memorable_characteristics  rating  \n",
       "0         3- B,S,C      rich cocoa, fatty, bready    3.25  \n",
       "1         3- B,S,C   cocoa, blackberry, full body    3.75  \n",
       "2         3- B,S,C         cocoa, vegetal, savory    3.50  \n",
       "3         3- B,S,C            chewy, off, rubbery    3.00  \n",
       "4         3- B,S,C  milk brownie, macadamia,chewy    3.50  \n",
       "...            ...                            ...     ...  \n",
       "2583  4- B,S*,C,Sa         waxy, cloying, vegetal    2.75  \n",
       "2584      3- B,S,C      strong nutty, marshmallow    3.75  \n",
       "2585      3- B,S,C           fatty, earthy, cocoa    3.00  \n",
       "2586      3- B,S,C   fatty, mild nuts, mild fruit    3.25  \n",
       "2587      3- B,S,C      muted, roasty, accessible    3.50  \n",
       "\n",
       "[2588 rows x 10 columns]"
      ]
     },
     "execution_count": 2,
     "metadata": {},
     "output_type": "execute_result"
    }
   ],
   "source": [
    "data = pd.read_excel(\"220626_chocolate_bar_rating.xlsx\")\n",
    "data.columns = [\n",
    "    \"ref\",\n",
    "    \"company_manufacturer\",\n",
    "    \"company_location\",\n",
    "    \"review_date\",\n",
    "    \"country_of_bean_origin\",\n",
    "    \"specific_bean_origin_or_bar_name\",\n",
    "    \"cocoa_percent\",\n",
    "    \"ingredients\",\n",
    "    \"most_memorable_characteristics\",\n",
    "    \"rating\",\n",
    "]\n",
    "# data = pd.read_csv(\"https://raw.githubusercontent.com/rfordatascience/tidytuesday/master/data/2022/2022-01-18/chocolate.csv\")\n",
    "data"
   ]
  },
  {
   "cell_type": "code",
   "execution_count": 3,
   "id": "8a0cf3ee",
   "metadata": {
    "hidden": true,
    "init_cell": true
   },
   "outputs": [],
   "source": [
    "# format plots for Latex\n",
    "font = {\"family\": \"Times New Roman\", \"size\": 18}\n",
    "plt.rc(\"font\", **font)"
   ]
  },
  {
   "cell_type": "code",
   "execution_count": 4,
   "id": "7e5c9467",
   "metadata": {
    "hidden": true
   },
   "outputs": [
    {
     "data": {
      "image/png": "[encoded data removed]",
      "text/plain": [
       "<Figure size 432x288 with 1 Axes>"
      ]
     },
     "metadata": {
      "needs_background": "light"
     },
     "output_type": "display_data"
    }
   ],
   "source": [
    "rating_counts = data[\"rating\"].value_counts()\n",
    "plt.bar(rating_counts.index, rating_counts, width=0.2)\n",
    "plt.xticks(np.arange(1,4.5,0.5))\n",
    "plt.xlabel(\"Rating\")\n",
    "plt.ylabel(\"Frequency\")\n",
    "plt.savefig(\"figures/ratings_hist.pdf\", bbox_inches=\"tight\")\n",
    "plt.show()"
   ]
  },
  {
   "cell_type": "markdown",
   "id": "d3ed059d",
   "metadata": {
    "heading_collapsed": true
   },
   "source": [
    "# Data exploration"
   ]
  },
  {
   "cell_type": "code",
   "execution_count": 5,
   "id": "764559b1",
   "metadata": {
    "hidden": true
   },
   "outputs": [
    {
     "data": {
      "text/html": [
       "<div>\n",
       "<style scoped>\n",
       "    .dataframe tbody tr th:only-of-type {\n",
       "        vertical-align: middle;\n",
       "    }\n",
       "\n",
       "    .dataframe tbody tr th {\n",
       "        vertical-align: top;\n",
       "    }\n",
       "\n",
       "    .dataframe thead th {\n",
       "        text-align: right;\n",
       "    }\n",
       "</style>\n",
       "<table border=\"1\" class=\"dataframe\">\n",
       "  <thead>\n",
       "    <tr style=\"text-align: right;\">\n",
       "      <th></th>\n",
       "      <th>categories</th>\n",
       "      <th>only occurs once</th>\n",
       "    </tr>\n",
       "  </thead>\n",
       "  <tbody>\n",
       "    <tr>\n",
       "      <th>company_manufacturer</th>\n",
       "      <td>593</td>\n",
       "      <td>155</td>\n",
       "    </tr>\n",
       "    <tr>\n",
       "      <th>company_location</th>\n",
       "      <td>65</td>\n",
       "      <td>5</td>\n",
       "    </tr>\n",
       "    <tr>\n",
       "      <th>review_date</th>\n",
       "      <td>17</td>\n",
       "      <td>0</td>\n",
       "    </tr>\n",
       "    <tr>\n",
       "      <th>country_of_bean_origin</th>\n",
       "      <td>63</td>\n",
       "      <td>11</td>\n",
       "    </tr>\n",
       "    <tr>\n",
       "      <th>specific_bean_origin_or_bar_name</th>\n",
       "      <td>1643</td>\n",
       "      <td>1423</td>\n",
       "    </tr>\n",
       "    <tr>\n",
       "      <th>ingredients</th>\n",
       "      <td>22</td>\n",
       "      <td>3</td>\n",
       "    </tr>\n",
       "    <tr>\n",
       "      <th>most_memorable_characteristics</th>\n",
       "      <td>2545</td>\n",
       "      <td>2511</td>\n",
       "    </tr>\n",
       "  </tbody>\n",
       "</table>\n",
       "</div>"
      ],
      "text/plain": [
       "                                  categories  only occurs once\n",
       "company_manufacturer                     593               155\n",
       "company_location                          65                 5\n",
       "review_date                               17                 0\n",
       "country_of_bean_origin                    63                11\n",
       "specific_bean_origin_or_bar_name        1643              1423\n",
       "ingredients                               22                 3\n",
       "most_memorable_characteristics          2545              2511"
      ]
     },
     "execution_count": 5,
     "metadata": {},
     "output_type": "execute_result"
    }
   ],
   "source": [
    "categorical_features = [\n",
    "    \"company_manufacturer\",\n",
    "    \"company_location\",\n",
    "    \"review_date\",\n",
    "    \"country_of_bean_origin\",\n",
    "    \"specific_bean_origin_or_bar_name\",\n",
    "    \"ingredients\",\n",
    "    \"most_memorable_characteristics\",\n",
    "]\n",
    "\n",
    "pd.DataFrame(\n",
    "    {\n",
    "        \"categories\": data.loc[:, categorical_features].apply(\n",
    "            lambda x: len(x.unique())\n",
    "        ),\n",
    "        \"only occurs once\": [\n",
    "            sum(data.loc[:, col].value_counts() == 1) for col in categorical_features\n",
    "        ],\n",
    "    }\n",
    ")"
   ]
  },
  {
   "cell_type": "markdown",
   "id": "56728700",
   "metadata": {
    "heading_collapsed": true,
    "hidden": true
   },
   "source": [
    "## Company Manufacturer"
   ]
  },
  {
   "cell_type": "code",
   "execution_count": 6,
   "id": "a300c6d2",
   "metadata": {
    "hidden": true
   },
   "outputs": [
    {
     "data": {
      "text/plain": [
       "Soma                                  0.022025\n",
       "Fresco                                0.015070\n",
       "Arete                                 0.012365\n",
       "Bonnat                                0.011592\n",
       "A. Morin                              0.011206\n",
       "                                        ...   \n",
       "Rococo (Grenada Chocolate Co.)        0.000386\n",
       "Cacao Arabuco                         0.000386\n",
       "Britarev                              0.000386\n",
       "Love Bar                              0.000386\n",
       "Chocolates by Josh (Box Chocolate)    0.000386\n",
       "Name: company_manufacturer, Length: 593, dtype: float64"
      ]
     },
     "execution_count": 6,
     "metadata": {},
     "output_type": "execute_result"
    }
   ],
   "source": [
    "manufacturer_shares = data[\"company_manufacturer\"].value_counts() / len(data)\n",
    "manufacturer_shares#.iloc[0:65,]"
   ]
  },
  {
   "cell_type": "code",
   "execution_count": 7,
   "id": "2ca35f7f",
   "metadata": {
    "hidden": true
   },
   "outputs": [
    {
     "data": {
      "image/png": "[encoded data removed]",
      "text/plain": [
       "<Figure size 1440x288 with 1 Axes>"
      ]
     },
     "metadata": {
      "needs_background": "light"
     },
     "output_type": "display_data"
    }
   ],
   "source": [
    "shares = manufacturer_shares.iloc[0:65]\n",
    "fig, ax = plt.subplots(figsize=(20, 4))\n",
    "bars = ax.bar(shares.index, shares)\n",
    "\n",
    "plt.margins(0.01, 0.05)\n",
    "plt.xticks(rotation=90)\n",
    "plt.ylabel(\"Frequency\")\n",
    "plt.savefig(\"figures/company_manufacturer_barplot.pdf\", bbox_inches=\"tight\")\n",
    "plt.show()"
   ]
  },
  {
   "cell_type": "markdown",
   "id": "ff21efd9",
   "metadata": {
    "heading_collapsed": true,
    "hidden": true
   },
   "source": [
    "## Company Location"
   ]
  },
  {
   "cell_type": "code",
   "execution_count": 8,
   "id": "91aeb68f",
   "metadata": {
    "hidden": true
   },
   "outputs": [
    {
     "data": {
      "text/plain": [
       "U.S.A.                   0.451314\n",
       "France                   0.069165\n",
       "Canada                   0.068779\n",
       "U.K.                     0.051777\n",
       "Italy                    0.030526\n",
       "                           ...   \n",
       "St.Vincent-Grenadines    0.000386\n",
       "Wales                    0.000386\n",
       "Martinique               0.000386\n",
       "Ghana                    0.000386\n",
       "Suriname                 0.000386\n",
       "Name: company_location, Length: 65, dtype: float64"
      ]
     },
     "execution_count": 8,
     "metadata": {},
     "output_type": "execute_result"
    }
   ],
   "source": [
    "location_shares = data[\"company_location\"].value_counts() / len(data)\n",
    "location_shares"
   ]
  },
  {
   "cell_type": "code",
   "execution_count": 9,
   "id": "28052702",
   "metadata": {
    "hidden": true
   },
   "outputs": [
    {
     "data": {
      "image/png": "[encoded data removed]",
      "text/plain": [
       "<Figure size 1440x288 with 1 Axes>"
      ]
     },
     "metadata": {
      "needs_background": "light"
     },
     "output_type": "display_data"
    }
   ],
   "source": [
    "fig, ax = plt.subplots(figsize=(20, 4))\n",
    "bars = ax.bar(location_shares.index, location_shares)\n",
    "ax.set_ylim(0, 0.1)\n",
    "\n",
    "h_usa = f\"{round(bars[0].get_height(),2)}\"\n",
    "ax.text(\n",
    "    bars[0].get_x() + 0.1, 0.11, s=h_usa, ha=\"left\", va=\"center\", rotation=90, c=\"red\"\n",
    ")\n",
    "\n",
    "plt.margins(0.01, 0.05)\n",
    "plt.xticks(rotation=90)\n",
    "plt.ylabel(\"Frequency\")\n",
    "plt.savefig(\"figures/company_location_barplot.pdf\", bbox_inches=\"tight\")\n",
    "plt.show()"
   ]
  },
  {
   "cell_type": "code",
   "execution_count": 10,
   "id": "1a5cb7d6",
   "metadata": {
    "hidden": true
   },
   "outputs": [
    {
     "data": {
      "text/plain": [
       "11"
      ]
     },
     "execution_count": 10,
     "metadata": {},
     "output_type": "execute_result"
    }
   ],
   "source": [
    "# number of company locations that make up 80% of the observations\n",
    "len(location_shares.loc[location_shares.cumsum() <= 0.8].index)"
   ]
  },
  {
   "cell_type": "markdown",
   "id": "1d364ee0",
   "metadata": {
    "heading_collapsed": true,
    "hidden": true
   },
   "source": [
    "## Review Date"
   ]
  },
  {
   "cell_type": "code",
   "execution_count": 11,
   "id": "64cb1cad",
   "metadata": {
    "hidden": true
   },
   "outputs": [],
   "source": [
    "date_freq = data[\"review_date\"].value_counts().sort_index()"
   ]
  },
  {
   "cell_type": "code",
   "execution_count": 12,
   "id": "e3e358a8",
   "metadata": {
    "hidden": true
   },
   "outputs": [
    {
     "data": {
      "image/png": "[encoded data removed]",
      "text/plain": [
       "<Figure size 864x288 with 1 Axes>"
      ]
     },
     "metadata": {
      "needs_background": "light"
     },
     "output_type": "display_data"
    }
   ],
   "source": [
    "fig, ax = plt.subplots(figsize=(12, 4))\n",
    "bars = ax.bar(date_freq.index, date_freq)\n",
    "\n",
    "plt.margins(0.01, 0.05)\n",
    "plt.xlabel(\"Review date\")\n",
    "plt.ylabel(\"Frequency\")\n",
    "plt.show()"
   ]
  },
  {
   "cell_type": "markdown",
   "id": "a2ef80f3",
   "metadata": {
    "heading_collapsed": true,
    "hidden": true
   },
   "source": [
    "## Country of Bean Origin"
   ]
  },
  {
   "cell_type": "code",
   "execution_count": 13,
   "id": "4f991b91",
   "metadata": {
    "hidden": true
   },
   "outputs": [
    {
     "data": {
      "text/plain": [
       "Venezuela             0.098145\n",
       "Peru                  0.095827\n",
       "Dominican Republic    0.090417\n",
       "Ecuador               0.086167\n",
       "Madagascar            0.071097\n",
       "                        ...   \n",
       "China                 0.000386\n",
       "Principe              0.000386\n",
       "Sulawesi              0.000386\n",
       "Suriname              0.000386\n",
       "DR Congo              0.000386\n",
       "Name: country_of_bean_origin, Length: 63, dtype: float64"
      ]
     },
     "execution_count": 13,
     "metadata": {},
     "output_type": "execute_result"
    }
   ],
   "source": [
    "origin_shares = data[\"country_of_bean_origin\"].value_counts() / len(data)\n",
    "origin_shares"
   ]
  },
  {
   "cell_type": "code",
   "execution_count": 14,
   "id": "ae4a49e7",
   "metadata": {
    "hidden": true
   },
   "outputs": [
    {
     "data": {
      "image/png": "[encoded data removed]",
      "text/plain": [
       "<Figure size 1440x288 with 1 Axes>"
      ]
     },
     "metadata": {
      "needs_background": "light"
     },
     "output_type": "display_data"
    }
   ],
   "source": [
    "fig, ax = plt.subplots(figsize=(20, 4))\n",
    "bars = ax.bar(origin_shares.index, origin_shares)\n",
    "\n",
    "plt.margins(0.01, 0.05)\n",
    "plt.xticks(rotation=90)\n",
    "plt.ylabel(\"Frequency\")\n",
    "plt.savefig(\"figures/bean_origin_barplot.pdf\", bbox_inches=\"tight\")\n",
    "plt.show()"
   ]
  },
  {
   "cell_type": "markdown",
   "id": "f3dbaf12",
   "metadata": {
    "heading_collapsed": true,
    "hidden": true
   },
   "source": [
    "## Cocoa Percent"
   ]
  },
  {
   "cell_type": "code",
   "execution_count": 15,
   "id": "63cc37d1",
   "metadata": {
    "hidden": true
   },
   "outputs": [
    {
     "name": "stdout",
     "output_type": "stream",
     "text": [
      "42.0\n",
      "100.0\n"
     ]
    }
   ],
   "source": [
    "cocoa_percent = data.loc[:, \"cocoa_percent\"].apply(lambda x: float(x[:-1]))\n",
    "print(cocoa_percent.min())\n",
    "print(cocoa_percent.max())"
   ]
  },
  {
   "cell_type": "code",
   "execution_count": 16,
   "id": "00f04682",
   "metadata": {
    "hidden": true
   },
   "outputs": [
    {
     "data": {
      "text/plain": [
       "[<matplotlib.lines.Line2D at 0x26acf65d760>]"
      ]
     },
     "execution_count": 16,
     "metadata": {},
     "output_type": "execute_result"
    },
    {
     "data": {
      "image/png": "[encoded data removed]",
      "text/plain": [
       "<Figure size 432x288 with 1 Axes>"
      ]
     },
     "metadata": {
      "needs_background": "light"
     },
     "output_type": "display_data"
    }
   ],
   "source": [
    "ecdf_percent = ECDF(cocoa_percent)\n",
    "plt.plot(ecdf_percent.x, ecdf_percent.y)"
   ]
  },
  {
   "cell_type": "markdown",
   "id": "9fb36065",
   "metadata": {
    "hidden": true
   },
   "source": [
    "## Most Memorable Characteristics"
   ]
  },
  {
   "cell_type": "code",
   "execution_count": 17,
   "id": "a8d2659b",
   "metadata": {
    "hidden": true
   },
   "outputs": [
    {
     "data": {
      "text/plain": [
       "0           rich cocoa, fatty, bready\n",
       "1        cocoa, blackberry, full body\n",
       "2              cocoa, vegetal, savory\n",
       "3                 chewy, off, rubbery\n",
       "4       milk brownie, macadamia,chewy\n",
       "                    ...              \n",
       "2583           waxy, cloying, vegetal\n",
       "2584        strong nutty, marshmallow\n",
       "2585             fatty, earthy, cocoa\n",
       "2586     fatty, mild nuts, mild fruit\n",
       "2587        muted, roasty, accessible\n",
       "Name: most_memorable_characteristics, Length: 2588, dtype: object"
      ]
     },
     "execution_count": 17,
     "metadata": {},
     "output_type": "execute_result"
    }
   ],
   "source": [
    "data[\"most_memorable_characteristics\"]"
   ]
  },
  {
   "cell_type": "code",
   "execution_count": 18,
   "id": "5cacb3d5",
   "metadata": {
    "hidden": true
   },
   "outputs": [],
   "source": [
    "flavours = (\n",
    "    data[\"most_memorable_characteristics\"]\n",
    "    .str.replace(\" and\", \",\")\n",
    "    .str.split(\",\\s*|\\s\", expand=True)\n",
    ")\n",
    "\n",
    "flavours_list = []\n",
    "for i in range(5):\n",
    "    flavours_list.extend(flavours.iloc[:, i].unique())\n",
    "\n",
    "flavours_set = set(flavours_list)\n",
    "for s in [\"\", None]:\n",
    "    flavours_set.remove(s)"
   ]
  },
  {
   "cell_type": "code",
   "execution_count": 19,
   "id": "84c5a55e",
   "metadata": {
    "hidden": true
   },
   "outputs": [
    {
     "name": "stdout",
     "output_type": "stream",
     "text": [
      "occur >= 1x: 578\n",
      "occur >= 2x: 308\n",
      "occur >= 3x: 218\n",
      "occur >= 4x: 135\n",
      "['fatty', 'nutty', 'fruit', 'banana', 'earthy', 'sandy', 'sour', 'rubber', 'roasty', 'musty', 'cocoa', 'mint', 'creamy', 'notes', 'tart', 'vanilla', 'leather', 'coffee', 'roast', 'brownie', 'anise', 'sweet', 'off', 'berry', 'base', 'dried', 'sticky', 'floral', 'butter', 'licorice', 'nuts', 'burnt', 'spice', 'citrus', 'woody', 'molasses', 'strawberry', 'melon', 'nut', 'intense', 'rich', 'orange', 'choco', 'rubbery', 'lemon', 'smoke', 'ashey', 'harsh', 'spicy', 'grits', 'bitter', 'grassy', 'vegetal']\n",
      "occur >= 5x: 53\n",
      "occur >= 6x: 0\n"
     ]
    }
   ],
   "source": [
    "dupes = [x for x in flavours_list if not x in [\"\", None]]\n",
    "for i in range(6):\n",
    "    print(\"occur >= \" + str(i + 1) + \"x:\", len(set(dupes)))\n",
    "    seen = set()\n",
    "    dupes = [x for x in dupes if x in seen or seen.add(x)]\n",
    "    if i == 3:\n",
    "        print(dupes)"
   ]
  },
  {
   "cell_type": "code",
   "execution_count": 20,
   "id": "4be988e6",
   "metadata": {
    "hidden": true
   },
   "outputs": [
    {
     "data": {
      "text/plain": [
       "array(['nutty', 'nut', 'nuts', 'nutmeg', 'hazelnut', 'peanut', 'coconut',\n",
       "       'cocounut', 'walnut', 'walnuts', 'peanutbutter', 'nutella'],\n",
       "      dtype=object)"
      ]
     },
     "execution_count": 20,
     "metadata": {},
     "output_type": "execute_result"
    }
   ],
   "source": [
    "flavours_df = pd.Series(flavours_list).dropna()\n",
    "flavours_df[flavours_df.str.contains(\"nut\")].unique()"
   ]
  },
  {
   "cell_type": "code",
   "execution_count": 21,
   "id": "ae9d2c62",
   "metadata": {
    "hidden": true
   },
   "outputs": [
    {
     "data": {
      "text/plain": [
       "array(['chocolate', 'choco', 'chocolatey', 'chocolaty'], dtype=object)"
      ]
     },
     "execution_count": 21,
     "metadata": {},
     "output_type": "execute_result"
    }
   ],
   "source": [
    "flavours_df = pd.Series(flavours_list).dropna()\n",
    "flavours_df[flavours_df.str.contains(\"choc\")].unique()"
   ]
  },
  {
   "cell_type": "markdown",
   "id": "ef7c50aa",
   "metadata": {
    "deletable": false,
    "editable": false,
    "heading_collapsed": true,
    "hidden": true,
    "run_control": {
     "frozen": true
    }
   },
   "source": [
    "### Autocorrect"
   ]
  },
  {
   "cell_type": "code",
   "execution_count": 1,
   "id": "a3e38d0f",
   "metadata": {
    "deletable": false,
    "editable": false,
    "hidden": true,
    "run_control": {
     "frozen": true
    }
   },
   "outputs": [],
   "source": [
    "from autocorrect import Speller\n",
    "from spellchecker import SpellChecker"
   ]
  },
  {
   "cell_type": "code",
   "execution_count": 24,
   "id": "b1544514",
   "metadata": {
    "deletable": false,
    "editable": false,
    "hidden": true,
    "run_control": {
     "frozen": true
    },
    "scrolled": true
   },
   "outputs": [
    {
     "name": "stdout",
     "output_type": "stream",
     "text": [
      "mocha -> mecha\n",
      "rubbery -> rubber\n",
      "bready -> ready\n",
      "prunes -> runes\n",
      "spiciness -> sickness\n",
      "chalky -> chalk\n",
      "raisiny -> raising\n",
      "choco -> coco\n",
      "fudge-like -> judge-like\n",
      "unripe -> unlike\n",
      "burlap -> burial\n",
      "spciy -> spicy\n",
      "walnuts -> walnut\n",
      "papaya -> papal\n",
      "intens -> intent\n",
      "rancid -> rcid\n",
      "chocolaty -> chocolate\n",
      "earthy -> earth\n",
      "tangy -> tango\n",
      "ashey -> ashes\n",
      "sugary -> sugar\n",
      "raisins -> raising\n",
      "powdery -> powder\n",
      "pungent -> urgent\n",
      "sourness -> sources\n",
      "roaste -> roasted\n",
      "roaster -> roster\n",
      "minty -> mint\n",
      "smokey -> smoke\n",
      "earty -> party\n",
      "nibby -> lobby\n",
      "unrecognizable -> recognizable\n",
      "charred -> charged\n",
      "descript -> script\n",
      "cheesey -> cheese\n",
      "roasty -> roast\n",
      "carame -> came\n",
      "leathery -> leather\n",
      "nibs -> nis\n",
      "raisin -> raising\n",
      "licoric -> iconic\n",
      "undertone -> undergone\n",
      "astringnet -> stringent\n",
      "plums -> plus\n",
      "smomkey -> smoke\n",
      "pastey -> paste\n",
      "lavendar -> lavender\n",
      "toffee -> coffee\n",
      "petro -> metro\n",
      "klingy -> king\n",
      "sligt -> slight\n",
      "grainy -> grain\n",
      "roasty/smokey -> roast/smoke\n",
      "prononced -> pronounced\n",
      "punchy -> punch\n",
      "cooa -> cool\n",
      "tolerable -> tolerance\n",
      "clingy -> cling\n",
      "mildy -> mild\n",
      "potting -> putting\n",
      "accesible -> accessible\n",
      "anise -> anime\n",
      "chocolatey -> chocolate\n",
      "rasin -> rain\n",
      "moldy -> mold\n",
      "distinquished -> distinguished\n",
      "sliglty -> slightly\n",
      "fudge -> judge\n",
      "savory -> story\n",
      "menthol -> mention\n",
      "ashy -> ash\n",
      "veggie -> reggae\n",
      "overyly -> overly\n",
      "nutella -> novella\n",
      "molasses -> classes\n",
      "cocounut -> coconut\n",
      "\"rolo\" -> \"role\"\n",
      "spicey -> spices\n",
      "nutty -> duty\n",
      "buttery -> battery\n",
      "caramel -> cartel\n",
      "malitol -> capitol\n",
      "sublte -> subtle\n",
      "macadamia -> academia\n",
      "unfixable -> fixable\n",
      "cheesy -> cheese\n",
      "soapy -> soap\n",
      "gummy -> dummy\n",
      "clove -> close\n",
      "hammy -> army\n",
      "vegetal -> vegetable\n",
      "chewy -> chew\n",
      "non-descript -> non-script\n",
      "hebs -> hubs\n",
      "XL -> X\n",
      "cashew -> case\n",
      "papery -> paper\n",
      "sligthly -> slightly\n",
      "Hammy -> Army\n",
      "sticy -> stick\n",
      "oreo -> ordo\n",
      "lemony -> lemon\n",
      "AT -> A\n",
      "vanila -> manila\n",
      "alkalyzed -> analyzed\n",
      "fertilzer -> fertilizer\n",
      "alocohol -> alcohol\n",
      "undertones -> undergone\n",
      "domintates -> dominates\n",
      "Roasty -> Roast\n",
      "cloying -> closing\n",
      "unground -> ground\n",
      "fruity -> fruit\n",
      "smoth -> moth\n",
      "crunchy -> crunch\n",
      "unrefined -> undefined\n",
      "chunky -> chunk\n",
      "waxy -> way\n",
      "watery -> water\n",
      "musty -> must\n",
      "brownie -> browne\n",
      "pasty -> party\n",
      "grits -> ghits\n",
      "alluring -> alluding\n",
      "fudgey -> budget\n",
      "Fruity -> Fruit\n",
      "cinamon -> cinnamon\n",
      "(Kulfi?) -> (Multi?)\n",
      "astingent -> stringent\n",
      "brownine -> drowning\n",
      "winey -> wine\n",
      "astringent -> stringent\n",
      "candied -> candid\n",
      "crumbly -> rumble\n",
      "raisns -> raises\n",
      "meaty -> meat\n",
      "cranberry -> canberra\n",
      "blackcherry -> blackberry\n",
      "sandpaper -> sandpiper\n",
      "dutched? -> ditched?\n",
      "woodsy -> woods\n",
      "homey -> home\n",
      "tannic -> tennis\n",
      "ligt -> list\n",
      "nutmeg -> nummer\n"
     ]
    }
   ],
   "source": [
    "spell = Speller()\n",
    "for f in flavours_set:\n",
    "    f_corr = spell(f)\n",
    "    if f != f_corr:\n",
    "        print(f, \"->\", f_corr)"
   ]
  },
  {
   "cell_type": "code",
   "execution_count": 33,
   "id": "97ee353c",
   "metadata": {
    "deletable": false,
    "editable": false,
    "hidden": true,
    "run_control": {
     "frozen": true
    },
    "scrolled": true
   },
   "outputs": [
    {
     "name": "stdout",
     "output_type": "stream",
     "text": [
      "mouthfeel -> mouthful\n",
      "descript -> describe\n",
      "alkalyzed -> analyzed\n",
      "roaste -> roast\n",
      "sliglty -> slighty\n",
      "Roasty -> roast\n",
      "winey -> wine\n",
      "unfixable -> unlikable\n",
      "alocohol -> alcohol\n",
      "dirt/ -> dirty\n",
      "astringcy -> stringy\n",
      "carame -> caramel\n",
      "\"Andes\" -> andes\n",
      "(fig) -> fig\n",
      "raisns -> rains\n",
      "sl. -> sly\n",
      "ham-like -> hairlike\n",
      "sl -> so\n",
      "sligthly -> slightly\n",
      "licoric -> licorice\n",
      "astingent -> astringent\n",
      "overyly -> overly\n",
      "spicey -> spice\n",
      "vanila -> vanilla\n",
      "non-descript -> nondescript\n",
      "prononced -> pronounced\n",
      "hebs -> he's\n",
      "earty -> party\n",
      "astringency -> stringency\n",
      "molassses -> molasses\n",
      "cheesey -> cheese\n",
      "cardamon -> cardamom\n",
      "roasty -> roast\n",
      "ligt -> light\n",
      "rasin -> rain\n",
      "smomkey -> smokey\n",
      "nibby -> dibby\n",
      "mildy -> mild\n",
      "klingy -> clingy\n",
      "XL -> al\n",
      "pomegrant -> pomegranate\n",
      "cocounut -> coconut\n",
      "cinamon -> cinnamon\n",
      "\"rolo\" -> prolon\n",
      "pastey -> pastry\n",
      "dutched? -> ditched\n",
      "sticy -> stick\n",
      "lavendar -> lavender\n",
      "malitol -> marital\n",
      "fertilzer -> fertilizer\n",
      "accesible -> accessible\n",
      "brownine -> brownie\n",
      "blackcherry -> blackberry\n",
      "smoth -> smooth\n",
      "distinquished -> distinguished\n",
      "intens -> intend\n",
      "astringnet -> astringent\n",
      "ashey -> ashes\n",
      "wtf -> wif\n",
      "sublte -> subtle\n",
      "spciy -> spicy\n",
      "Cadbury -> carbury\n",
      "sligt -> slight\n",
      "cooa -> cool\n",
      "trop. -> trop\n",
      "domintates -> dominates\n",
      "w/ -> we\n",
      "bready -> ready\n",
      "raisiny -> raising\n"
     ]
    }
   ],
   "source": [
    "spell = SpellChecker()\n",
    "for f in flavours_set:\n",
    "    f_corr = spell.correction(f)\n",
    "    if f != f_corr:\n",
    "        print(f, \"->\", f_corr)"
   ]
  },
  {
   "cell_type": "code",
   "execution_count": 34,
   "id": "70e5e5f7",
   "metadata": {
    "deletable": false,
    "editable": false,
    "hidden": true,
    "run_control": {
     "frozen": true
    },
    "scrolled": true
   },
   "outputs": [
    {
     "data": {
      "text/plain": [
       "{'\"andes\"',\n",
       " '\"rolo\"',\n",
       " '(fig)',\n",
       " 'accesible',\n",
       " 'aftertaste',\n",
       " 'alkalyzed',\n",
       " 'alocohol',\n",
       " 'ashey',\n",
       " 'astingent',\n",
       " 'astringcy',\n",
       " 'astringency',\n",
       " 'astringnet',\n",
       " 'blackcherry',\n",
       " 'blackpepper',\n",
       " 'bready',\n",
       " 'brownine',\n",
       " 'cadbury',\n",
       " 'candy-like',\n",
       " 'carame',\n",
       " 'cardamon',\n",
       " 'cheesey',\n",
       " 'cinamon',\n",
       " 'cocounut',\n",
       " 'cooa',\n",
       " 'descript',\n",
       " 'dirt/',\n",
       " 'dirty/burnt',\n",
       " 'distinquished',\n",
       " 'domintates',\n",
       " 'dutched?',\n",
       " 'earty',\n",
       " 'fertilzer',\n",
       " 'floral-spice',\n",
       " 'fudge-like',\n",
       " 'ham-like',\n",
       " 'hebs',\n",
       " 'intens',\n",
       " 'klingy',\n",
       " 'lavendar',\n",
       " 'licoric',\n",
       " 'ligt',\n",
       " 'malitol',\n",
       " 'mildy',\n",
       " 'molassses',\n",
       " 'mouthfeel',\n",
       " 'nibby',\n",
       " 'non-descript',\n",
       " 'overyly',\n",
       " 'pastey',\n",
       " 'peanutbutter',\n",
       " 'pomegrant',\n",
       " 'prononced',\n",
       " 'raisiny',\n",
       " 'raisns',\n",
       " 'rasin',\n",
       " 'roaste',\n",
       " 'roasty',\n",
       " 'roasty/smokey',\n",
       " 'sl',\n",
       " 'sl.',\n",
       " 'sliglty',\n",
       " 'sligt',\n",
       " 'sligthly',\n",
       " 'smomkey',\n",
       " 'smoth',\n",
       " 'spciy',\n",
       " 'spice/herb',\n",
       " 'spicey',\n",
       " 'sticy',\n",
       " 'sublte',\n",
       " 'tea-like',\n",
       " 'trop.',\n",
       " 'unfixable',\n",
       " 'vanila',\n",
       " 'vanilla(n)',\n",
       " 'w/',\n",
       " 'winey',\n",
       " 'woody/green',\n",
       " 'wtf',\n",
       " 'xl'}"
      ]
     },
     "execution_count": 34,
     "metadata": {},
     "output_type": "execute_result"
    }
   ],
   "source": [
    "spell.unknown(flavours_set)"
   ]
  },
  {
   "cell_type": "code",
   "execution_count": 35,
   "id": "bbff3461",
   "metadata": {
    "deletable": false,
    "editable": false,
    "hidden": true,
    "run_control": {
     "frozen": true
    }
   },
   "outputs": [],
   "source": [
    "from textblob import Word"
   ]
  },
  {
   "cell_type": "code",
   "execution_count": 36,
   "id": "16d1846e",
   "metadata": {
    "deletable": false,
    "editable": false,
    "hidden": true,
    "run_control": {
     "frozen": true
    }
   },
   "outputs": [
    {
     "name": "stdout",
     "output_type": "stream",
     "text": [
      "medley\n",
      "[('merely', 0.9043062200956937), ('madly', 0.03349282296650718), ('meddle', 0.028708133971291867), ('motley', 0.014354066985645933), ('morley', 0.004784688995215311), ('mele', 0.004784688995215311), ('meddler', 0.004784688995215311), ('eley', 0.004784688995215311)]\n",
      "mouthfeel\n",
      "[('mouthfeel', 0.0)]\n",
      "ending\n",
      "[('ending', 1.0)]\n",
      "floral\n",
      "[('flora', 1.0)]\n",
      "uncontrolled\n",
      "[('uncontrolled', 1.0)]\n",
      "is\n",
      "[('is', 1.0)]\n",
      "walnut\n",
      "[('walnut', 1.0)]\n",
      "dirty/burnt\n",
      "[('dirty/burnt', 0.0)]\n",
      "leather\n",
      "[('leather', 1.0)]\n",
      "earthy\n",
      "[('earthy', 1.0)]\n",
      "descript\n",
      "[('rescript', 1.0)]\n",
      "watery\n",
      "[('watery', 1.0)]\n",
      "pungent\n",
      "[('pungent', 1.0)]\n",
      "acidity\n",
      "[('aridity', 1.0)]\n",
      "well\n",
      "[('well', 1.0)]\n",
      "atypical\n",
      "[('typical', 1.0)]\n",
      "slow\n",
      "[('slow', 1.0)]\n",
      "oranges\n",
      "[('oranges', 1.0)]\n",
      "multiple\n",
      "[('multiple', 1.0)]\n",
      "some\n",
      "[('some', 1.0)]\n",
      "brown\n",
      "[('brown', 1.0)]\n",
      "leathery\n",
      "[('leathery', 1.0)]\n",
      "ripe\n",
      "[('ripe', 1.0)]\n",
      "alkalyzed\n",
      "[('analyzed', 1.0)]\n",
      "fudge\n",
      "[('judge', 0.9375), ('budge', 0.0625)]\n",
      "butt\n",
      "[('butt', 1.0)]\n",
      "roaste\n",
      "[('roast', 0.8), ('roasted', 0.2)]\n",
      "mild\n",
      "[('mild', 1.0)]\n",
      "flavor\n",
      "[('flavor', 1.0)]\n",
      "add\n",
      "[('add', 1.0)]\n",
      "berry\n",
      "[('merry', 0.7272727272727273), ('ferry', 0.1038961038961039), ('perry', 0.06493506493506493), ('gerry', 0.06493506493506493), ('barry', 0.03896103896103896)]\n",
      "chalky\n",
      "[('chalky', 1.0)]\n",
      "clove\n",
      "[('love', 0.6731571627260083), ('close', 0.3045897079276773), ('glove', 0.022253129346314324)]\n",
      "sliglty\n",
      "[('slight', 0.5757575757575758), ('slightly', 0.42424242424242425)]\n",
      "very\n",
      "[('very', 1.0)]\n",
      "musty\n",
      "[('musty', 1.0)]\n",
      "Fruit\n",
      "[('Fruit', 0.6666666666666666), ('Bruit', 0.3333333333333333)]\n",
      "one\n",
      "[('one', 1.0)]\n",
      "Roasty\n",
      "[('Coast', 0.45977011494252873), ('Nasty', 0.13793103448275862), ('Toast', 0.10344827586206896), ('Roast', 0.09195402298850575), ('Hasty', 0.08045977011494253), ('Coasts', 0.04597701149425287), ('Boast', 0.04597701149425287), ('Toasts', 0.022988505747126436), ('Pasty', 0.011494252873563218)]\n",
      "evolves\n",
      "[('evolved', 0.6666666666666666), ('evolve', 0.25), ('revolves', 0.08333333333333333)]\n",
      "winey\n",
      "[('wine', 0.8970588235294118), ('wines', 0.058823529411764705), ('windy', 0.029411764705882353), ('wined', 0.014705882352941176)]\n",
      "unfixable\n",
      "[('unfixable', 0.0)]\n",
      "perfectly\n",
      "[('perfectly', 1.0)]\n",
      "crunchy\n",
      "[('crutch', 0.7), ('frenchy', 0.3)]\n",
      "origin\n",
      "[('origin', 1.0)]\n",
      "butterscotch\n",
      "[('butterscotch', 0.0)]\n",
      "gentle\n",
      "[('gentle', 1.0)]\n",
      "waxy\n",
      "[('waxy', 1.0)]\n",
      "red\n",
      "[('red', 1.0)]\n",
      "olive\n",
      "[('olive', 1.0)]\n",
      "candy\n",
      "[('candy', 1.0)]\n",
      "odd\n",
      "[('odd', 1.0)]\n",
      "tangy\n",
      "[('taney', 1.0)]\n",
      "defined\n",
      "[('defined', 1.0)]\n",
      "alocohol\n",
      "[('alcohol', 1.0)]\n",
      "nut\n",
      "[('nut', 1.0)]\n",
      "milk\n",
      "[('milk', 1.0)]\n",
      "dark\n",
      "[('dark', 1.0)]\n",
      "to\n",
      "[('to', 1.0)]\n",
      "dirt/\n",
      "[('dirty', 0.7307692307692307), ('dirt', 0.2692307692307692)]\n",
      "hint\n",
      "[('hint', 1.0)]\n",
      "strawberries\n",
      "[('strawberries', 1.0)]\n",
      "high\n",
      "[('high', 1.0)]\n",
      "astringcy\n",
      "[('astringcy', 0.0)]\n",
      "fungal\n",
      "[('final', 0.7021276595744681), ('funeral', 0.1276595744680851), ('fungus', 0.07446808510638298), ('fungate', 0.031914893617021274), ('frugal', 0.031914893617021274), ('bengal', 0.02127659574468085), ('funnel', 0.010638297872340425)]\n",
      "notes\n",
      "[('notes', 1.0)]\n",
      "butter\n",
      "[('butter', 1.0)]\n",
      "smokiness\n",
      "[('smokeless', 1.0)]\n",
      "papaya\n",
      "[('papa', 0.6578947368421053), ('panama', 0.3157894736842105), ('zapata', 0.013157894736842105), ('papal', 0.013157894736842105)]\n",
      "damp\n",
      "[('damp', 1.0)]\n",
      "earth\n",
      "[('earth', 1.0)]\n",
      "AT\n",
      "[('of', 0.17512732555086896), ('to', 0.12586415107548524), ('in', 0.0964786390605037), ('a', 0.09256261266779844), ('he', 0.05425993664350596), ('it', 0.046734165251938325), ('is', 0.04276563347743144), ('as', 0.0352836165706985), ('i', 0.03363407249243047), ('at', 0.029713670651241753), ('by', 0.029481771881617866), ('on', 0.02906610427568826), ('be', 0.026930885415755116), ('s', 0.024660027652834416), ('or', 0.023417400283529063), ('an', 0.01497716015891629), ('so', 0.01320072807462765), ('if', 0.010382939251273255), ('no', 0.010273553039186516), ('up', 0.009993524336244465), ('my', 0.009840383639323031), ('me', 0.008400861088261546), ('we', 0.008339604809492973), ('do', 0.006576299070654742), ('t', 0.005766841101212874), ('go', 0.003959780877539948), ('am', 0.0032640845686682887), ('us', 0.002992806762693176), ('ll', 0.0018683165024415002), ('oh', 0.0017939338782225179), ('mr', 0.00157516145404904), ('pp', 0.001347638132908623), ('o', 0.0011244902602516758), ('de', 0.0010369812905822848), ('ah', 0.0009713495633302413), ('ff', 0.0008313352118592156), ('re', 0.000826959763375746), ('d', 0.00078758072702452), ('m', 0.0007438262421898245), ('ve', 0.000669443617970842), ('f', 0.0006650681694873725), ('st', 0.0006431909270700247), ('c', 0.0006256891331361464), ('x', 0.0005950609937518596), ('e', 0.0005950609937518596), ('tm', 0.0005600574058841031), ('j', 0.0004025412604791991), ('eh', 0.00038941491502879046), ('b', 0.00038066401806185134), ('h', 0.0003456604301940949), ('ii', 0.00033690953322715577), ('ha', 0.00032815863626021666), ('w', 0.0003062813938428689), ('l', 0.0002975304968759298), ('p', 0.00028877959990899067), ('n', 0.00027127780597511244), ('g', 0.0002450251150742951), ('le', 0.00024064966659082557), ('la', 0.00024064966659082557), ('iv', 0.00024064966659082557), ('r', 0.00023189876962388645), ('v', 0.00022314787265694734), ('th', 0.00022314787265694734), ('dr', 0.00021002152720653867), ('y', 0.00017064249085531268), ('vi', 0.00016189159388837356), ('k', 0.00014438979995449533), ('ma', 0.00013563890298755622), ('co', 0.00013126345450408666), ('xi', 0.00012251255753714755), ('ix', 0.00012251255753714755), ('u', 0.00010938621208673889), ('en', 0.00010938621208673889), ('xv', 0.00010501076360326933), ('un', 8.313352118592156e-05), ('et', 8.313352118592156e-05), ('il', 7.8758072702452e-05), ('ex', 7.8758072702452e-05), ('au', 7.8758072702452e-05), ('je', 7.438262421898245e-05), ('pa', 6.563172725204333e-05), ('xx', 6.125627876857377e-05), ('ed', 6.125627876857377e-05), ('mb', 5.6880830285104224e-05), ('ne', 5.2505381801634667e-05), ('du', 5.2505381801634667e-05), ('cf', 4.812993331816511e-05), ('ce', 4.812993331816511e-05), ('ax', 4.812993331816511e-05), ('rd', 4.375448483469556e-05), ('hm', 4.375448483469556e-05), ('ze', 3.9379036351226e-05), ('vs', 3.9379036351226e-05), ('oo', 3.9379036351226e-05), ('ho', 3.9379036351226e-05), ('z', 3.5003587867756444e-05), ('ye', 3.5003587867756444e-05), ('qu', 3.5003587867756444e-05), ('op', 3.5003587867756444e-05), ('fe', 3.5003587867756444e-05), ('va', 3.062813938428689e-05), ('ti', 3.062813938428689e-05), ('ku', 3.062813938428689e-05), ('ta', 2.6252690900817333e-05), ('pg', 2.6252690900817333e-05), ('nd', 2.6252690900817333e-05), ('si', 2.187724241734778e-05), ('q', 2.187724241734778e-05), ('fr', 2.187724241734778e-05), ('er', 2.187724241734778e-05), ('em', 2.187724241734778e-05), ('ut', 1.7501793933878222e-05), ('tu', 1.7501793933878222e-05), ('sa', 1.7501793933878222e-05), ('gr', 1.7501793933878222e-05), ('fo', 1.7501793933878222e-05), ('da', 1.7501793933878222e-05), ('se', 1.3126345450408667e-05), ('po', 1.3126345450408667e-05), ('ou', 1.3126345450408667e-05), ('os', 1.3126345450408667e-05), ('na', 1.3126345450408667e-05), ('mi', 1.3126345450408667e-05), ('es', 1.3126345450408667e-05), ('ch', 1.3126345450408667e-05), ('ay', 1.3126345450408667e-05), ('ak', 1.3126345450408667e-05), ('ai', 1.3126345450408667e-05), ('zu', 8.750896966939111e-06), ('wm', 8.750896966939111e-06), ('pe', 8.750896966939111e-06), ('ox', 8.750896966939111e-06), ('oe', 8.750896966939111e-06), ('ni', 8.750896966939111e-06), ('ms', 8.750896966939111e-06), ('ke', 8.750896966939111e-06), ('jr', 8.750896966939111e-06), ('hi', 8.750896966939111e-06), ('ft', 8.750896966939111e-06), ('di', 8.750896966939111e-06), ('cm', 8.750896966939111e-06), ('ba', 8.750896966939111e-06), ('ab', 8.750896966939111e-06), ('wo', 4.3754484834695555e-06), ('wh', 4.3754484834695555e-06), ('wa', 4.3754484834695555e-06), ('vy', 4.3754484834695555e-06), ('vo', 4.3754484834695555e-06), ('tz', 4.3754484834695555e-06), ('ty', 4.3754484834695555e-06), ('tt', 4.3754484834695555e-06), ('tr', 4.3754484834695555e-06), ('te', 4.3754484834695555e-06), ('sq', 4.3754484834695555e-06), ('sn', 4.3754484834695555e-06), ('sg', 4.3754484834695555e-06), ('sd', 4.3754484834695555e-06), ('ri', 4.3754484834695555e-06), ('ra', 4.3754484834695555e-06), ('pm', 4.3754484834695555e-06), ('oz', 4.3754484834695555e-06), ('om', 4.3754484834695555e-06), ('ok', 4.3754484834695555e-06), ('ny', 4.3754484834695555e-06), ('nm', 4.3754484834695555e-06), ('nl', 4.3754484834695555e-06), ('mt', 4.3754484834695555e-06), ('mo', 4.3754484834695555e-06), ('mm', 4.3754484834695555e-06), ('md', 4.3754484834695555e-06), ('ly', 4.3754484834695555e-06), ('lo', 4.3754484834695555e-06), ('li', 4.3754484834695555e-06), ('lb', 4.3754484834695555e-06), ('km', 4.3754484834695555e-06), ('ka', 4.3754484834695555e-06), ('ja', 4.3754484834695555e-06), ('id', 4.3754484834695555e-06), ('ga', 4.3754484834695555e-06), ('fn', 4.3754484834695555e-06), ('ev', 4.3754484834695555e-06), ('el', 4.3754484834695555e-06), ('eg', 4.3754484834695555e-06), ('dy', 4.3754484834695555e-06), ('cy', 4.3754484834695555e-06), ('ca', 4.3754484834695555e-06), ('bu', 4.3754484834695555e-06), ('br', 4.3754484834695555e-06), ('bl', 4.3754484834695555e-06), ('bc', 4.3754484834695555e-06), ('ar', 4.3754484834695555e-06), ('al', 4.3754484834695555e-06), ('ad', 4.3754484834695555e-06), ('ac', 4.3754484834695555e-06)]\n",
      "mildly\n",
      "[('mildly', 1.0)]\n",
      "Fruity\n"
     ]
    },
    {
     "name": "stdout",
     "output_type": "stream",
     "text": [
      "[('Fruit', 0.2702702702702703), ('Purity', 0.24324324324324326), ('Fruits', 0.1891891891891892), ('Bruit', 0.13513513513513514), ('Rusty', 0.05405405405405406), ('Equity', 0.05405405405405406), ('Trusty', 0.04054054054054054), ('Crusty', 0.013513513513513514)]\n",
      "herbal\n",
      "[('verbal', 1.0)]\n",
      "residue\n",
      "[('residue', 1.0)]\n",
      "baked\n",
      "[('baked', 1.0)]\n",
      "mix\n",
      "[('mix', 1.0)]\n",
      "basic\n",
      "[('basic', 1.0)]\n",
      "metal\n",
      "[('metal', 1.0)]\n",
      "cacao\n",
      "[('canal', 0.7422680412371134), ('sacro', 0.05154639175257732), ('cargo', 0.05154639175257732), ('cava', 0.030927835051546393), ('facto', 0.020618556701030927), ('carlo', 0.020618556701030927), ('cameo', 0.020618556701030927), ('cabal', 0.020618556701030927), ('cocoa', 0.010309278350515464), ('cavae', 0.010309278350515464), ('campo', 0.010309278350515464), ('cairo', 0.010309278350515464)]\n",
      "gateway\n",
      "[('gateway', 1.0)]\n",
      "pistachio\n",
      "[('pistachio', 0.0)]\n",
      "bar\n",
      "[('bar', 1.0)]\n",
      "fat\n",
      "[('fat', 1.0)]\n",
      "macadamia\n",
      "[('macadamia', 0.0)]\n",
      "nutmeg\n",
      "[('nutmeg', 0.0)]\n",
      "off\n",
      "[('off', 1.0)]\n",
      "true\n",
      "[('true', 1.0)]\n",
      "punchy\n",
      "[('punch', 1.0)]\n",
      "slight\n",
      "[('slight', 1.0)]\n",
      "cough\n",
      "[('cough', 1.0)]\n",
      "chocolaty\n",
      "[('chocolate', 1.0)]\n",
      "carame\n",
      "[('came', 0.7745253164556962), ('care', 0.08386075949367089), ('crime', 0.048259493670886076), ('madame', 0.03401898734177215), ('frame', 0.028481012658227847), ('parade', 0.015822784810126583), ('cramp', 0.0031645569620253164), ('crate', 0.0023734177215189874), ('carve', 0.0015822784810126582), ('carte', 0.0015822784810126582), ('garage', 0.0007911392405063291), ('curate', 0.0007911392405063291), ('crane', 0.0007911392405063291), ('charme', 0.0007911392405063291), ('cavae', 0.0007911392405063291), ('carree', 0.0007911392405063291), ('carnage', 0.0007911392405063291), ('caraffe', 0.0007911392405063291)]\n",
      "classic\n",
      "[('classic', 1.0)]\n",
      "deep\n",
      "[('deep', 1.0)]\n",
      "woody/green\n",
      "[('woody/green', 0.0)]\n",
      "\"Andes\"\n",
      "[('\"Andes\"', 0.0)]\n",
      "egg\n",
      "[('egg', 1.0)]\n",
      "graham\n",
      "[('graham', 1.0)]\n",
      "vanilla(n)\n",
      "[('vanilla(n)', 0.0)]\n",
      "grounds\n",
      "[('grounds', 1.0)]\n",
      "peanut\n",
      "[('peanuts', 1.0)]\n",
      "fuel\n",
      "[('fuel', 1.0)]\n",
      "unbalanced\n",
      "[('balanced', 1.0)]\n",
      "dry\n",
      "[('dry', 1.0)]\n",
      "&\n",
      "[('&', 1.0)]\n",
      "faint\n",
      "[('faint', 1.0)]\n",
      "nice\n",
      "[('nice', 1.0)]\n",
      "(fig)\n",
      "[('fig', 0.963855421686747), ('figs', 0.03614457831325301)]\n",
      "raisns\n",
      "[('raisins', 0.5555555555555556), ('raises', 0.2222222222222222), ('rains', 0.2222222222222222)]\n",
      "finish\n",
      "[('finish', 1.0)]\n",
      "fresh\n",
      "[('fresh', 1.0)]\n",
      "body\n",
      "[('body', 1.0)]\n",
      "spicy\n",
      "[('spice', 1.0)]\n",
      "issues\n",
      "[('issues', 1.0)]\n",
      "ambiguous\n",
      "[('ambiguous', 1.0)]\n",
      "yellow\n",
      "[('yellow', 1.0)]\n",
      "fast\n",
      "[('fast', 1.0)]\n",
      "petro\n",
      "[('retro', 0.6), ('petrov', 0.2), ('petrol', 0.2)]\n",
      "early\n",
      "[('early', 1.0)]\n",
      "edge\n",
      "[('edge', 1.0)]\n",
      "peanutbutter\n",
      "[('peanutbutter', 0.0)]\n",
      "pasty\n",
      "[('pasty', 1.0)]\n",
      "cooked\n",
      "[('cooked', 1.0)]\n",
      "muddy\n",
      "[('muddy', 1.0)]\n",
      "ground\n",
      "[('ground', 1.0)]\n",
      "heavy\n",
      "[('heavy', 1.0)]\n",
      "medicine\n",
      "[('medicine', 1.0)]\n",
      "soft\n",
      "[('soft', 1.0)]\n",
      "sugary\n",
      "[('sugary', 1.0)]\n",
      "shell\n",
      "[('shell', 1.0)]\n",
      "sl.\n",
      "[('sly', 1.0)]\n",
      "easy\n",
      "[('easy', 1.0)]\n",
      "gritty\n",
      "[('gritty', 1.0)]\n",
      "mass\n",
      "[('mass', 1.0)]\n",
      "mold\n",
      "[('mold', 1.0)]\n",
      "ham-like\n",
      "[('homelike', 1.0)]\n",
      "cream\n",
      "[('cream', 1.0)]\n",
      "or\n",
      "[('or', 1.0)]\n",
      "powerful\n",
      "[('powerful', 1.0)]\n",
      "nibs\n",
      "[('ribs', 1.0)]\n",
      "burnt\n",
      "[('burnt', 1.0)]\n",
      "sl\n",
      "[('s', 0.6026518391787853), ('so', 0.3226047904191617), ('ll', 0.04565868263473054), ('st', 0.015718562874251496), ('l', 0.007271171941830625), ('il', 0.001924721984602224), ('sly', 0.001710863986313088), ('si', 0.00053464499572284), ('sa', 0.000427715996578272), ('se', 0.00032078699743370403), ('sal', 0.000213857998289136), ('sq', 0.000106928999144568), ('sol', 0.000106928999144568), ('sn', 0.000106928999144568), ('sg', 0.000106928999144568), ('sd', 0.000106928999144568), ('nl', 0.000106928999144568), ('el', 0.000106928999144568), ('bl', 0.000106928999144568), ('al', 0.000106928999144568)]\n",
      "prune\n",
      "[('prone', 1.0)]\n",
      "yogurt\n",
      "[('your', 0.8503989361702128), ('court', 0.11502659574468085), ('yours', 0.030585106382978722), ('bogart', 0.0026595744680851063), ('roguet', 0.0013297872340425532)]\n",
      "bother\n",
      "[('bother', 1.0)]\n",
      "intensely\n",
      "[('intensely', 1.0)]\n",
      "sligthly\n",
      "[('slightly', 1.0)]\n",
      "brief\n",
      "[('brief', 1.0)]\n",
      "alluring\n",
      "[('alluring', 1.0)]\n",
      "flat\n",
      "[('flat', 1.0)]\n",
      "flavorful\n",
      "[('flavorful', 0.0)]\n",
      "smokey\n",
      "[('smoke', 0.9113924050632911), ('smoked', 0.06962025316455696), ('smokes', 0.012658227848101266), ('smoker', 0.006329113924050633)]\n",
      "bland\n",
      "[('bland', 1.0)]\n",
      "extremely\n",
      "[('extremely', 1.0)]\n",
      "unrefined\n",
      "[('undefined', 1.0)]\n",
      "brandy\n",
      "[('brandy', 1.0)]\n",
      "oreo\n",
      "[('orel', 0.7058823529411765), ('ore', 0.17647058823529413), ('ores', 0.11764705882352941)]\n",
      "floral-spice\n"
     ]
    },
    {
     "ename": "KeyboardInterrupt",
     "evalue": "",
     "output_type": "error",
     "traceback": [
      "\u001b[1;31m---------------------------------------------------------------------------\u001b[0m",
      "\u001b[1;31mKeyboardInterrupt\u001b[0m                         Traceback (most recent call last)",
      "Input \u001b[1;32mIn [36]\u001b[0m, in \u001b[0;36m<cell line: 1>\u001b[1;34m()\u001b[0m\n\u001b[0;32m      2\u001b[0m word \u001b[38;5;241m=\u001b[39m Word(f)\n\u001b[0;32m      3\u001b[0m \u001b[38;5;28mprint\u001b[39m(f)\n\u001b[1;32m----> 4\u001b[0m \u001b[38;5;28mprint\u001b[39m(\u001b[43mword\u001b[49m\u001b[38;5;241;43m.\u001b[39;49m\u001b[43mspellcheck\u001b[49m\u001b[43m(\u001b[49m\u001b[43m)\u001b[49m)\n",
      "File \u001b[1;32m~\\AppData\\Local\\Programs\\Python\\Python38\\lib\\site-packages\\textblob\\blob.py:134\u001b[0m, in \u001b[0;36mWord.spellcheck\u001b[1;34m(self)\u001b[0m\n\u001b[0;32m    125\u001b[0m \u001b[38;5;28;01mdef\u001b[39;00m \u001b[38;5;21mspellcheck\u001b[39m(\u001b[38;5;28mself\u001b[39m):\n\u001b[0;32m    126\u001b[0m     \u001b[38;5;124;03m'''Return a list of (word, confidence) tuples of spelling corrections.\u001b[39;00m\n\u001b[0;32m    127\u001b[0m \n\u001b[0;32m    128\u001b[0m \u001b[38;5;124;03m    Based on: Peter Norvig, \"How to Write a Spelling Corrector\"\u001b[39;00m\n\u001b[1;32m   (...)\u001b[0m\n\u001b[0;32m    132\u001b[0m \u001b[38;5;124;03m    .. versionadded:: 0.6.0\u001b[39;00m\n\u001b[0;32m    133\u001b[0m \u001b[38;5;124;03m    '''\u001b[39;00m\n\u001b[1;32m--> 134\u001b[0m     \u001b[38;5;28;01mreturn\u001b[39;00m \u001b[43msuggest\u001b[49m\u001b[43m(\u001b[49m\u001b[38;5;28;43mself\u001b[39;49m\u001b[38;5;241;43m.\u001b[39;49m\u001b[43mstring\u001b[49m\u001b[43m)\u001b[49m\n",
      "File \u001b[1;32m~\\AppData\\Local\\Programs\\Python\\Python38\\lib\\site-packages\\textblob\\en\\__init__.py:123\u001b[0m, in \u001b[0;36msuggest\u001b[1;34m(w)\u001b[0m\n\u001b[0;32m    120\u001b[0m \u001b[38;5;28;01mdef\u001b[39;00m \u001b[38;5;21msuggest\u001b[39m(w):\n\u001b[0;32m    121\u001b[0m     \u001b[38;5;124;03m\"\"\" Returns a list of (word, confidence)-tuples of spelling corrections.\u001b[39;00m\n\u001b[0;32m    122\u001b[0m \u001b[38;5;124;03m    \"\"\"\u001b[39;00m\n\u001b[1;32m--> 123\u001b[0m     \u001b[38;5;28;01mreturn\u001b[39;00m \u001b[43mspelling\u001b[49m\u001b[38;5;241;43m.\u001b[39;49m\u001b[43msuggest\u001b[49m\u001b[43m(\u001b[49m\u001b[43mw\u001b[49m\u001b[43m)\u001b[49m\n",
      "File \u001b[1;32m~\\AppData\\Local\\Programs\\Python\\Python38\\lib\\site-packages\\textblob\\_text.py:1399\u001b[0m, in \u001b[0;36mSpelling.suggest\u001b[1;34m(self, w)\u001b[0m\n\u001b[0;32m   1395\u001b[0m \u001b[38;5;28;01mif\u001b[39;00m w\u001b[38;5;241m.\u001b[39mreplace(\u001b[38;5;124m\"\u001b[39m\u001b[38;5;124m.\u001b[39m\u001b[38;5;124m\"\u001b[39m, \u001b[38;5;124m\"\u001b[39m\u001b[38;5;124m\"\u001b[39m)\u001b[38;5;241m.\u001b[39misdigit():\n\u001b[0;32m   1396\u001b[0m     \u001b[38;5;28;01mreturn\u001b[39;00m [(w, \u001b[38;5;241m1.0\u001b[39m)] \u001b[38;5;66;03m# 1.5\u001b[39;00m\n\u001b[0;32m   1397\u001b[0m candidates \u001b[38;5;241m=\u001b[39m \u001b[38;5;28mself\u001b[39m\u001b[38;5;241m.\u001b[39m_known([w]) \\\n\u001b[0;32m   1398\u001b[0m           \u001b[38;5;129;01mor\u001b[39;00m \u001b[38;5;28mself\u001b[39m\u001b[38;5;241m.\u001b[39m_known(\u001b[38;5;28mself\u001b[39m\u001b[38;5;241m.\u001b[39m_edit1(w)) \\\n\u001b[1;32m-> 1399\u001b[0m           \u001b[38;5;129;01mor\u001b[39;00m \u001b[38;5;28mself\u001b[39m\u001b[38;5;241m.\u001b[39m_known(\u001b[38;5;28;43mself\u001b[39;49m\u001b[38;5;241;43m.\u001b[39;49m\u001b[43m_edit2\u001b[49m\u001b[43m(\u001b[49m\u001b[43mw\u001b[49m\u001b[43m)\u001b[49m) \\\n\u001b[0;32m   1400\u001b[0m           \u001b[38;5;129;01mor\u001b[39;00m [w]\n\u001b[0;32m   1401\u001b[0m candidates \u001b[38;5;241m=\u001b[39m [(\u001b[38;5;28mself\u001b[39m\u001b[38;5;241m.\u001b[39mget(c, \u001b[38;5;241m0.0\u001b[39m), c) \u001b[38;5;28;01mfor\u001b[39;00m c \u001b[38;5;129;01min\u001b[39;00m candidates]\n\u001b[0;32m   1402\u001b[0m s \u001b[38;5;241m=\u001b[39m \u001b[38;5;28mfloat\u001b[39m(\u001b[38;5;28msum\u001b[39m(p \u001b[38;5;28;01mfor\u001b[39;00m p, word \u001b[38;5;129;01min\u001b[39;00m candidates) \u001b[38;5;129;01mor\u001b[39;00m \u001b[38;5;241m1\u001b[39m)\n",
      "File \u001b[1;32m~\\AppData\\Local\\Programs\\Python\\Python38\\lib\\site-packages\\textblob\\_text.py:1376\u001b[0m, in \u001b[0;36mSpelling._edit2\u001b[1;34m(self, w)\u001b[0m\n\u001b[0;32m   1372\u001b[0m \u001b[38;5;124;03m\"\"\" Returns a set of words with edit distance 2 from the given word\u001b[39;00m\n\u001b[0;32m   1373\u001b[0m \u001b[38;5;124;03m\"\"\"\u001b[39;00m\n\u001b[0;32m   1374\u001b[0m \u001b[38;5;66;03m# Of all spelling errors, 99% is covered by edit distance 2.\u001b[39;00m\n\u001b[0;32m   1375\u001b[0m \u001b[38;5;66;03m# Only keep candidates that are actually known words (20% speedup).\u001b[39;00m\n\u001b[1;32m-> 1376\u001b[0m \u001b[38;5;28;01mreturn\u001b[39;00m \u001b[38;5;28;43mset\u001b[39;49m\u001b[43m(\u001b[49m\u001b[43me2\u001b[49m\u001b[43m \u001b[49m\u001b[38;5;28;43;01mfor\u001b[39;49;00m\u001b[43m \u001b[49m\u001b[43me1\u001b[49m\u001b[43m \u001b[49m\u001b[38;5;129;43;01min\u001b[39;49;00m\u001b[43m \u001b[49m\u001b[38;5;28;43mself\u001b[39;49m\u001b[38;5;241;43m.\u001b[39;49m\u001b[43m_edit1\u001b[49m\u001b[43m(\u001b[49m\u001b[43mw\u001b[49m\u001b[43m)\u001b[49m\u001b[43m \u001b[49m\u001b[38;5;28;43;01mfor\u001b[39;49;00m\u001b[43m \u001b[49m\u001b[43me2\u001b[49m\u001b[43m \u001b[49m\u001b[38;5;129;43;01min\u001b[39;49;00m\u001b[43m \u001b[49m\u001b[38;5;28;43mself\u001b[39;49m\u001b[38;5;241;43m.\u001b[39;49m\u001b[43m_edit1\u001b[49m\u001b[43m(\u001b[49m\u001b[43me1\u001b[49m\u001b[43m)\u001b[49m\u001b[43m \u001b[49m\u001b[38;5;28;43;01mif\u001b[39;49;00m\u001b[43m \u001b[49m\u001b[43me2\u001b[49m\u001b[43m \u001b[49m\u001b[38;5;129;43;01min\u001b[39;49;00m\u001b[43m \u001b[49m\u001b[38;5;28;43mself\u001b[39;49m\u001b[43m)\u001b[49m\n",
      "File \u001b[1;32m~\\AppData\\Local\\Programs\\Python\\Python38\\lib\\site-packages\\textblob\\_text.py:1376\u001b[0m, in \u001b[0;36m<genexpr>\u001b[1;34m(.0)\u001b[0m\n\u001b[0;32m   1372\u001b[0m \u001b[38;5;124;03m\"\"\" Returns a set of words with edit distance 2 from the given word\u001b[39;00m\n\u001b[0;32m   1373\u001b[0m \u001b[38;5;124;03m\"\"\"\u001b[39;00m\n\u001b[0;32m   1374\u001b[0m \u001b[38;5;66;03m# Of all spelling errors, 99% is covered by edit distance 2.\u001b[39;00m\n\u001b[0;32m   1375\u001b[0m \u001b[38;5;66;03m# Only keep candidates that are actually known words (20% speedup).\u001b[39;00m\n\u001b[1;32m-> 1376\u001b[0m \u001b[38;5;28;01mreturn\u001b[39;00m \u001b[38;5;28mset\u001b[39m(e2 \u001b[38;5;28;01mfor\u001b[39;00m e1 \u001b[38;5;129;01min\u001b[39;00m \u001b[38;5;28mself\u001b[39m\u001b[38;5;241m.\u001b[39m_edit1(w) \u001b[38;5;28;01mfor\u001b[39;00m e2 \u001b[38;5;129;01min\u001b[39;00m \u001b[38;5;28mself\u001b[39m\u001b[38;5;241m.\u001b[39m_edit1(e1) \u001b[38;5;28;01mif\u001b[39;00m \u001b[43me2\u001b[49m\u001b[43m \u001b[49m\u001b[38;5;129;43;01min\u001b[39;49;00m\u001b[43m \u001b[49m\u001b[38;5;28;43mself\u001b[39;49m)\n",
      "File \u001b[1;32m~\\AppData\\Local\\Programs\\Python\\Python38\\lib\\site-packages\\textblob\\_text.py:96\u001b[0m, in \u001b[0;36mlazydict.__contains__\u001b[1;34m(self, *args)\u001b[0m\n\u001b[0;32m     95\u001b[0m \u001b[38;5;28;01mdef\u001b[39;00m \u001b[38;5;21m__contains__\u001b[39m(\u001b[38;5;28mself\u001b[39m, \u001b[38;5;241m*\u001b[39margs):\n\u001b[1;32m---> 96\u001b[0m     \u001b[38;5;28;01mreturn\u001b[39;00m \u001b[38;5;28;43mself\u001b[39;49m\u001b[38;5;241;43m.\u001b[39;49m\u001b[43m_lazy\u001b[49m(\u001b[38;5;124m\"\u001b[39m\u001b[38;5;124m__contains__\u001b[39m\u001b[38;5;124m\"\u001b[39m, \u001b[38;5;241m*\u001b[39margs)\n",
      "\u001b[1;31mKeyboardInterrupt\u001b[0m: "
     ]
    }
   ],
   "source": [
    "for f in flavours_set:\n",
    "    word = Word(f)\n",
    "    print(f)\n",
    "    print(word.spellcheck())"
   ]
  },
  {
   "cell_type": "markdown",
   "id": "62ccb625",
   "metadata": {
    "deletable": false,
    "editable": false,
    "heading_collapsed": true,
    "hidden": true,
    "run_control": {
     "frozen": true
    }
   },
   "source": [
    "### Word stemming"
   ]
  },
  {
   "cell_type": "code",
   "execution_count": 132,
   "id": "e1f8b0a9",
   "metadata": {
    "deletable": false,
    "editable": false,
    "hidden": true,
    "run_control": {
     "frozen": true
    }
   },
   "outputs": [],
   "source": [
    "import nltk\n",
    "from nltk.stem.wordnet import WordNetLemmatizer"
   ]
  },
  {
   "cell_type": "code",
   "execution_count": 38,
   "id": "691b57a5",
   "metadata": {
    "deletable": false,
    "editable": false,
    "hidden": true,
    "run_control": {
     "frozen": true
    }
   },
   "outputs": [],
   "source": [
    "ps = nltk.stem.SnowballStemmer(\"english\")"
   ]
  },
  {
   "cell_type": "code",
   "execution_count": 39,
   "id": "4a0d8c37",
   "metadata": {
    "deletable": false,
    "editable": false,
    "hidden": true,
    "run_control": {
     "frozen": true
    }
   },
   "outputs": [
    {
     "name": "stdout",
     "output_type": "stream",
     "text": [
      "ending -> end\n",
      "uncontrolled -> uncontrol\n",
      "earthy -> earthi\n",
      "watery -> wateri\n",
      "acidity -> acid\n",
      "atypical -> atyp\n",
      "oranges -> orang\n",
      "multiple -> multipl\n",
      "leathery -> leatheri\n",
      "alkalyzed -> alkalyz\n",
      "fudge -> fudg\n",
      "roaste -> roast\n",
      "berry -> berri\n",
      "chalky -> chalki\n",
      "sliglty -> sliglti\n",
      "very -> veri\n",
      "musty -> musti\n",
      "Fruit -> fruit\n",
      "Roasty -> roasti\n",
      "evolves -> evolv\n",
      "unfixable -> unfix\n",
      "perfectly -> perfect\n",
      "crunchy -> crunchi\n",
      "gentle -> gentl\n",
      "waxy -> waxi\n",
      "olive -> oliv\n",
      "candy -> candi\n",
      "tangy -> tangi\n",
      "defined -> defin\n",
      "strawberries -> strawberri\n",
      "astringcy -> astringci\n",
      "notes -> note\n",
      "smokiness -> smoki\n",
      "AT -> at\n",
      "mildly -> mild\n",
      "Fruity -> fruiti\n",
      "residue -> residu\n",
      "baked -> bake\n",
      "punchy -> punchi\n",
      "chocolaty -> chocolati\n",
      "carame -> caram\n",
      "\"Andes\" -> \"andes\"\n",
      "grounds -> ground\n",
      "unbalanced -> unbalanc\n",
      "dry -> dri\n",
      "raisns -> raisn\n",
      "body -> bodi\n",
      "spicy -> spici\n",
      "issues -> issu\n",
      "ambiguous -> ambigu\n",
      "early -> earli\n",
      "edge -> edg\n",
      "peanutbutter -> peanutbutt\n",
      "pasty -> pasti\n",
      "cooked -> cook\n",
      "muddy -> muddi\n",
      "heavy -> heavi\n",
      "medicine -> medicin\n",
      "sugary -> sugari\n",
      "easy -> easi\n",
      "gritty -> gritti\n",
      "ham-like -> ham-lik\n",
      "powerful -> power\n",
      "nibs -> nib\n",
      "intensely -> intens\n",
      "sligthly -> sligth\n",
      "alluring -> allur\n",
      "flavorful -> flavor\n",
      "extremely -> extrem\n",
      "unrefined -> unrefin\n",
      "brandy -> brandi\n",
      "floral-spice -> floral-spic\n",
      "nutty -> nutti\n",
      "licoric -> licor\n",
      "sunflower -> sunflow\n",
      "pudding -> pud\n",
      "aftertaste -> aftertast\n",
      "walnuts -> walnut\n",
      "texture -> textur\n",
      "blueberry -> blueberri\n",
      "hints -> hint\n",
      "chewy -> chewi\n",
      "unripe -> unrip\n",
      "coffee -> coffe\n",
      "astingent -> asting\n",
      "overyly -> overyli\n",
      "cheesy -> cheesi\n",
      "artificial -> artifici\n",
      "cigarette -> cigarett\n",
      "unusually -> unusu\n",
      "oats -> oat\n",
      "dense -> dens\n",
      "refined -> refin\n",
      "chocolate -> chocol\n",
      "Hammy -> hammi\n",
      "meaty -> meati\n",
      "intense -> intens\n",
      "prononced -> prononc\n",
      "balanced -> balanc\n",
      "unpleasant -> unpleas\n",
      "maple -> mapl\n",
      "hebs -> heb\n",
      "earty -> earti\n",
      "spiciness -> spici\n",
      "brownie -> browni\n",
      "cucumber -> cucumb\n",
      "Rich -> rich\n",
      "earthiness -> earthi\n",
      "metallic -> metal\n",
      "blackpepper -> blackpepp\n",
      "sandpaper -> sandpap\n",
      "Sour -> sour\n",
      "chlorine -> chlorin\n",
      "undefined -> undefin\n",
      "astringency -> astring\n",
      "plums -> plum\n",
      "buttery -> butteri\n",
      "molassses -> molasss\n",
      "grits -> grit\n",
      "dominates -> domin\n",
      "prunes -> prune\n",
      "why -> whi\n",
      "moderate -> moder\n",
      "sandy -> sandi\n",
      "spices -> spice\n",
      "carrots -> carrot\n",
      "fudge-like -> fudge-lik\n",
      "herbs -> herb\n",
      "roasty -> roasti\n",
      "large -> larg\n",
      "vegetal -> veget\n",
      "acidic -> acid\n",
      "cloying -> cloy\n",
      "strawberry -> strawberri\n",
      "cooling -> cool\n",
      "clingy -> clingi\n",
      "lacks -> lack\n",
      "nibby -> nibbi\n",
      "mildy -> mildi\n",
      "klingy -> klingi\n",
      "overly -> over\n",
      "XL -> xl\n",
      "pomegrant -> pomegr\n",
      "chunky -> chunki\n",
      "Easter -> easter\n",
      "orange -> orang\n",
      "pieces -> piec\n",
      "covered -> cover\n",
      "cherries -> cherri\n",
      "powdery -> powderi\n",
      "veggie -> veggi\n",
      "synthetic -> synthet\n",
      "development -> develop\n",
      "blackberry -> blackberri\n",
      "papery -> paperi\n",
      "accessible -> access\n",
      "refinement -> refin\n",
      "tropical -> tropic\n",
      "sticy -> stici\n",
      "leafy -> leafi\n",
      "blackberries -> blackberri\n",
      "refreshing -> refresh\n",
      "fatty -> fatti\n",
      "oddly -> odd\n",
      "herbaceous -> herbac\n",
      "unrecognizable -> unrecogniz\n",
      "tolerable -> toler\n",
      "fades -> fade\n",
      "flavors -> flavor\n",
      "oily -> oili\n",
      "tangerine -> tangerin\n",
      "dates -> date\n",
      "dominant -> domin\n",
      "Burnt -> burnt\n",
      "nuanced -> nuanc\n",
      "rubbery -> rubberi\n",
      "cheese -> chees\n",
      "muted -> mute\n",
      "grapes -> grape\n",
      "toffee -> toffe\n",
      "roasted -> roast\n",
      "hammy -> hammi\n",
      "dominating -> domin\n",
      "fertilzer -> fertilz\n",
      "blueberries -> blueberri\n",
      "dimensional -> dimension\n",
      "gummy -> gummi\n",
      "cranberries -> cranberri\n",
      "rounded -> round\n",
      "woody -> woodi\n",
      "accesible -> acces\n",
      "possible -> possibl\n",
      "ends -> end\n",
      "brownine -> brownin\n",
      "empty -> empti\n",
      "grassy -> grassi\n",
      "creamy -> creami\n",
      "blackcherry -> blackcherri\n",
      "cherry -> cherri\n",
      "vegetable -> veget\n",
      "subtle -> subtl\n",
      "dirty -> dirti\n",
      "nuts -> nut\n",
      "prominent -> promin\n",
      "licorice -> licoric\n",
      "mostly -> most\n",
      "spoiled -> spoil\n",
      "lasting -> last\n",
      "raisins -> raisin\n",
      "raspberry -> raspberri\n",
      "savory -> savori\n",
      "slightly -> slight\n",
      "apple -> appl\n",
      "controlled -> control\n",
      "distinquished -> distinquish\n",
      "grainy -> graini\n",
      "unique -> uniqu\n",
      "surface -> surfac\n",
      "minty -> minti\n",
      "simple -> simpl\n",
      "single -> singl\n",
      "salty -> salti\n",
      "intensity -> intens\n",
      "unripened -> unripen\n",
      "watered -> water\n",
      "intens -> inten\n",
      "assertive -> assert\n",
      "dominated -> domin\n",
      "raspberries -> raspberri\n",
      "dairy -> dairi\n",
      "delicate -> delic\n",
      "potting -> pot\n",
      "undertones -> underton\n",
      "burning -> burn\n",
      "smoked -> smoke\n",
      "ashy -> ashi\n",
      "sublte -> sublt\n",
      "tea-like -> tea-lik\n",
      "anise -> anis\n",
      "masculine -> masculin\n",
      "crumbly -> crumbl\n",
      "appealing -> appeal\n",
      "sourness -> sour\n",
      "coarse -> coars\n",
      "Cadbury -> cadburi\n",
      "fruity -> fruiti\n",
      "profile -> profil\n",
      "candied -> candi\n",
      "bodied -> bodi\n",
      "lingering -> linger\n",
      "bitterness -> bitter\n",
      "charred -> char\n",
      "perfume -> perfum\n",
      "watering -> water\n",
      "domintates -> domint\n",
      "medicinal -> medicin\n",
      "woodsy -> woodsi\n",
      "chemical -> chemic\n",
      "berries -> berri\n",
      "pronounced -> pronounc\n",
      "noticeable -> notic\n",
      "sticky -> sticki\n",
      "molasses -> molass\n",
      "astringent -> astring\n",
      "subdued -> subdu\n",
      "dried -> dri\n",
      "undertone -> underton\n",
      "bready -> breadi\n",
      "soapy -> soapi\n",
      "moldy -> moldi\n",
      "developed -> develop\n",
      "cranberry -> cranberri\n",
      "dominate -> domin\n",
      "sensation -> sensat\n",
      "mysterious -> mysteri\n",
      "diluted -> dilut\n",
      "raisiny -> raisini\n",
      "candy-like -> candy-lik\n",
      "silky -> silki\n"
     ]
    }
   ],
   "source": [
    "for f in flavours_set:\n",
    "    f_stem = ps.stem(f)\n",
    "    if f != f_stem:\n",
    "        print(f, \"->\", f_stem)"
   ]
  },
  {
   "cell_type": "code",
   "execution_count": 133,
   "id": "0433220e",
   "metadata": {
    "deletable": false,
    "editable": false,
    "hidden": true,
    "run_control": {
     "frozen": true
    },
    "scrolled": true
   },
   "outputs": [
    {
     "name": "stdout",
     "output_type": "stream",
     "text": [
      "oats\n",
      "oat\n",
      "fades\n",
      "fade\n",
      "flavors\n",
      "flavor\n",
      "raspberries\n",
      "raspberry\n",
      "undertones\n",
      "undertone\n",
      "spices\n",
      "spice\n",
      "hints\n",
      "hint\n",
      "ends\n",
      "end\n",
      "walnuts\n",
      "walnut\n",
      "strawberries\n",
      "strawberry\n",
      "prunes\n",
      "prune\n",
      "issues\n",
      "issue\n",
      "blackberries\n",
      "blackberry\n",
      "molassses\n",
      "mola\n",
      "grits\n",
      "grit\n",
      "plums\n",
      "plum\n",
      "raisins\n",
      "raisin\n",
      "oranges\n",
      "orange\n",
      "grapes\n",
      "grape\n",
      "herbs\n",
      "herb\n",
      "less\n",
      "le\n",
      "dates\n",
      "date\n",
      "nibs\n",
      "nib\n",
      "grounds\n",
      "ground\n",
      "blueberries\n",
      "blueberry\n",
      "nuts\n",
      "nut\n",
      "berries\n",
      "berry\n",
      "lacks\n",
      "lack\n",
      "cranberries\n",
      "cranberry\n",
      "pieces\n",
      "piece\n",
      "notes\n",
      "note\n",
      "carrots\n",
      "carrot\n",
      "cherries\n",
      "cherry\n"
     ]
    }
   ],
   "source": [
    "for f in flavours_set:\n",
    "    f_changed = WordNetLemmatizer().lemmatize(f)\n",
    "    if f != f_changed:\n",
    "        print(f)\n",
    "        print(WordNetLemmatizer().lemmatize(f))"
   ]
  },
  {
   "cell_type": "markdown",
   "id": "fddef0e6",
   "metadata": {
    "heading_collapsed": true
   },
   "source": [
    "# Methods for Evaluation"
   ]
  },
  {
   "cell_type": "code",
   "execution_count": 22,
   "id": "18c38c96",
   "metadata": {
    "hidden": true,
    "init_cell": true
   },
   "outputs": [],
   "source": [
    "from sklearn.metrics import accuracy_score"
   ]
  },
  {
   "cell_type": "code",
   "execution_count": 23,
   "id": "7458cae4",
   "metadata": {
    "hidden": true,
    "init_cell": true
   },
   "outputs": [],
   "source": [
    "def mse(y_true, y_pred):\n",
    "    return ((y_true - y_pred) ** 2).mean()"
   ]
  },
  {
   "cell_type": "code",
   "execution_count": 24,
   "id": "421eb910",
   "metadata": {
    "hidden": true,
    "init_cell": true
   },
   "outputs": [],
   "source": [
    "def mdae(y_true, y_pred):\n",
    "    return abs(y_true - y_pred).median()"
   ]
  },
  {
   "cell_type": "code",
   "execution_count": 25,
   "id": "0f212aba",
   "metadata": {
    "hidden": true,
    "init_cell": true
   },
   "outputs": [],
   "source": [
    "def print_scores(y_pred_train, y_pred):\n",
    "    print(\n",
    "        \"MSE:\\t\\t\",\n",
    "        \"Train: {0:0.4f}\".format(mse(y_pred_train, y_train)),\n",
    "        \"\\tTest: {0:0.4f}\".format(mse(y_pred, y_test)),\n",
    "    )\n",
    "    print(\n",
    "        \"MdAE:\\t\\t\",\n",
    "        \"Train: {0:0.4f}\".format(mdae(y_pred_train, y_train)),\n",
    "        \"\\tTest: {0:0.4f}\".format(mdae(y_pred, y_test)),\n",
    "    )\n",
    "\n",
    "    # retrieve closest target class from regression -> classification:\n",
    "    targets = np.arange(1, 4, 0.25)  # array of target classes\n",
    "    # substract all targets from each prediction\n",
    "    diff_train = np.subtract.outer(y_pred_train, targets)\n",
    "    diff_test = np.subtract.outer(y_pred, targets)\n",
    "    # closest indices of target to prediction\n",
    "    i_train = np.argmin(abs(diff_train), axis=1)\n",
    "    i_test = np.argmin(abs(diff_test), axis=1)\n",
    "    # get target values from indices\n",
    "    y_pred_train_cat = targets[i_train].astype(str)\n",
    "    y_pred_cat = targets[i_test].astype(str)\n",
    "\n",
    "    print(\n",
    "        \"Accuracy:\\t\",\n",
    "        \"Train: {0:0.4f}\".format(accuracy_score(y_train_cat, y_pred_train_cat)),\n",
    "        \"\\tTest: {0:0.4f}\".format(accuracy_score(y_test_cat, y_pred_cat)),\n",
    "    )"
   ]
  },
  {
   "cell_type": "code",
   "execution_count": 26,
   "id": "a76749f3",
   "metadata": {
    "hidden": true,
    "init_cell": true
   },
   "outputs": [],
   "source": [
    "def histogram_residuals(y_test, y_pred, model_name=\"some_model\"):\n",
    "    residuals = y_test - y_pred\n",
    "    plt.hist(residuals, bins=np.arange(-2.125, 1.125, 0.25))\n",
    "    plt.xticks(np.arange(-2, 1.25, 0.5))\n",
    "    plt.xlabel(\"Residuals\")\n",
    "    plt.ylabel(\"Frequency\")\n",
    "    plt.savefig(f\"figures/residuals_{model_name}_hist.pdf\", bbox_inches=\"tight\")\n",
    "    plt.show()"
   ]
  },
  {
   "cell_type": "code",
   "execution_count": 27,
   "id": "c5fe1564",
   "metadata": {
    "hidden": true
   },
   "outputs": [],
   "source": [
    "def scatter_with_dot_size(x, y):\n",
    "    c = Counter(zip(x, y))\n",
    "    s = [c[(n, r)] for n, r in zip(x, y)]\n",
    "    return plt.scatter(x, y, marker=\"o\", s=s)"
   ]
  },
  {
   "cell_type": "markdown",
   "id": "cca7a6d7",
   "metadata": {
    "heading_collapsed": true
   },
   "source": [
    "# Pre-processing and splitting"
   ]
  },
  {
   "cell_type": "markdown",
   "id": "17627dd1",
   "metadata": {
    "heading_collapsed": true,
    "hidden": true
   },
   "source": [
    "## Pre-processing before train test split"
   ]
  },
  {
   "cell_type": "code",
   "execution_count": 28,
   "id": "34a100ab",
   "metadata": {
    "hidden": true
   },
   "outputs": [],
   "source": [
    "# make cocoa_percent numeric\n",
    "data.loc[:, \"cocoa_percent\"] = (\n",
    "    data.loc[:, \"cocoa_percent\"].apply(lambda x: float(x[:-1])) / 100\n",
    ")"
   ]
  },
  {
   "cell_type": "code",
   "execution_count": 29,
   "id": "6719b64a",
   "metadata": {
    "hidden": true
   },
   "outputs": [
    {
     "name": "stdout",
     "output_type": "stream",
     "text": [
      "Missing ingredients:\t 87\n",
      "with cocoa percent = 1:\t 14\n"
     ]
    }
   ],
   "source": [
    "print(\"Missing ingredients:\\t\", data[\"ingredients\"].isnull().sum())\n",
    "print(\n",
    "    \"with cocoa percent = 1:\\t\",\n",
    "    len(\n",
    "        data.loc[\n",
    "            data[\"ingredients\"].isnull() & (data[\"cocoa_percent\"] == 1),\n",
    "            \"ingredients\",\n",
    "        ]\n",
    "    ),\n",
    ")"
   ]
  },
  {
   "cell_type": "code",
   "execution_count": 30,
   "id": "f1a27cc5",
   "metadata": {
    "hidden": true
   },
   "outputs": [],
   "source": [
    "# replace nan ingredients\n",
    "data.loc[\n",
    "    data[\"ingredients\"].isnull() & (data[\"cocoa_percent\"] == 1),\n",
    "    \"ingredients\",\n",
    "] = \"1- B\""
   ]
  },
  {
   "cell_type": "code",
   "execution_count": 31,
   "id": "a9ee94e5",
   "metadata": {
    "hidden": true
   },
   "outputs": [],
   "source": [
    "# get number of ingredients\n",
    "ingredients = data[\"ingredients\"].str.split(\"-\\s*\", expand=True)\n",
    "ingredients.columns = [\"number_ingredients\", \"ingredients\"]\n",
    "data.loc[:, \"number_ingredients\"] = pd.to_numeric(\n",
    "    ingredients.iloc[:, 0], errors=\"coerce\"\n",
    ")\n",
    "data.loc[:, \"ingredients\"] = ingredients[\"ingredients\"]"
   ]
  },
  {
   "cell_type": "code",
   "execution_count": 32,
   "id": "f08a8228",
   "metadata": {
    "cell_style": "center",
    "hidden": true
   },
   "outputs": [
    {
     "data": {
      "text/plain": [
       "B,S,C           1029\n",
       "B,S              738\n",
       "B,S,C,L          293\n",
       "B,S,C,V,L        184\n",
       "B,S,C,V          141\n",
       "B,S*              31\n",
       "B,S*,C,Sa         20\n",
       "B                 20\n",
       "B,S*,C            13\n",
       "B,S,L              8\n",
       "B,S*,C,V           7\n",
       "B,S,C,V,Sa         6\n",
       "B,S,V,L            5\n",
       "B,S,C,Sa           5\n",
       "B,S,C,V,L,Sa       4\n",
       "B,S,V              3\n",
       "B,S*,V,L           3\n",
       "B,S*,C,L           2\n",
       "B,S*,Sa            1\n",
       "B,C                1\n",
       "B,S,C,L,Sa         1\n",
       "Name: ingredients, dtype: int64"
      ]
     },
     "execution_count": 32,
     "metadata": {},
     "output_type": "execute_result"
    }
   ],
   "source": [
    "h = data[\"ingredients\"].value_counts()\n",
    "x = h.index\n",
    "h"
   ]
  },
  {
   "cell_type": "code",
   "execution_count": 33,
   "id": "37efcf8d",
   "metadata": {
    "hidden": true
   },
   "outputs": [
    {
     "data": {
      "image/png": "[encoded data removed]",
      "text/plain": [
       "<Figure size 864x288 with 1 Axes>"
      ]
     },
     "metadata": {
      "needs_background": "light"
     },
     "output_type": "display_data"
    }
   ],
   "source": [
    "fig, ax = plt.subplots(figsize=(12, 4))\n",
    "ax.bar(x, h)\n",
    "plt.xticks(rotation=90)\n",
    "plt.xlabel(\"Ingredients\")\n",
    "plt.ylabel(\"Frequency\")\n",
    "plt.savefig(\"figures/ingredients_barplot.pdf\", bbox_inches=\"tight\")\n",
    "plt.show()"
   ]
  },
  {
   "cell_type": "markdown",
   "id": "c5c6af71",
   "metadata": {
    "heading_collapsed": true,
    "hidden": true
   },
   "source": [
    "## Train test split"
   ]
  },
  {
   "cell_type": "code",
   "execution_count": 34,
   "id": "4f5dd8e6",
   "metadata": {
    "hidden": true
   },
   "outputs": [],
   "source": [
    "from sklearn.model_selection import train_test_split"
   ]
  },
  {
   "cell_type": "code",
   "execution_count": 35,
   "id": "646b00f8",
   "metadata": {
    "hidden": true
   },
   "outputs": [],
   "source": [
    "X_train_raw, X_test_raw, y_train, y_test = train_test_split(\n",
    "    data.loc[:, data.columns != \"rating\"],\n",
    "    data[\"rating\"],\n",
    "    test_size=0.15,\n",
    "    random_state=1,\n",
    ")\n",
    "X_train_raw, X_val_raw, y_train, y_val = train_test_split(\n",
    "    X_train_raw, y_train, test_size=0.15, random_state=1\n",
    ")\n",
    "y_train_cat = y_train.astype(str)\n",
    "y_val_cat = y_val.astype(str)\n",
    "y_test_cat = y_test.astype(str)"
   ]
  },
  {
   "cell_type": "code",
   "execution_count": 36,
   "id": "a39f1083",
   "metadata": {
    "hidden": true
   },
   "outputs": [
    {
     "name": "stdout",
     "output_type": "stream",
     "text": [
      "(1869, 10)\n",
      "(1869,)\n",
      "(330, 10)\n",
      "(330,)\n",
      "(389, 10)\n",
      "(389,)\n"
     ]
    }
   ],
   "source": [
    "print(X_train_raw.shape)\n",
    "print(y_train.shape)\n",
    "print(X_val_raw.shape)\n",
    "print(y_val.shape)\n",
    "print(X_test_raw.shape)\n",
    "print(y_test.shape)"
   ]
  },
  {
   "cell_type": "markdown",
   "id": "438b8e25",
   "metadata": {
    "heading_collapsed": true,
    "hidden": true
   },
   "source": [
    "## Pre-processing after train test split"
   ]
  },
  {
   "cell_type": "code",
   "execution_count": 37,
   "id": "977bc00f",
   "metadata": {
    "hidden": true
   },
   "outputs": [
    {
     "name": "stdout",
     "output_type": "stream",
     "text": [
      "3.0\n"
     ]
    }
   ],
   "source": [
    "# fill nan number_ingredients with median\n",
    "median = X_train_raw.loc[\n",
    "    (~X_train_raw[\"number_ingredients\"].isnull()) & (X_train_raw[\"cocoa_percent\"] < 1),\n",
    "    \"number_ingredients\",\n",
    "].median()\n",
    "print(median)\n",
    "\n",
    "X_train_raw.loc[\n",
    "    X_train_raw[\"number_ingredients\"].isnull(),\n",
    "    \"number_ingredients\",\n",
    "] = median\n",
    "X_val_raw.loc[\n",
    "    X_val_raw[\"number_ingredients\"].isnull(),\n",
    "    \"number_ingredients\",\n",
    "] = median\n",
    "X_test_raw.loc[\n",
    "    X_test_raw[\"number_ingredients\"].isnull(),\n",
    "    \"number_ingredients\",\n",
    "] = median"
   ]
  },
  {
   "cell_type": "code",
   "execution_count": 38,
   "id": "5dd4cc62",
   "metadata": {
    "hidden": true
   },
   "outputs": [
    {
     "data": {
      "text/html": [
       "<div>\n",
       "<style scoped>\n",
       "    .dataframe tbody tr th:only-of-type {\n",
       "        vertical-align: middle;\n",
       "    }\n",
       "\n",
       "    .dataframe tbody tr th {\n",
       "        vertical-align: top;\n",
       "    }\n",
       "\n",
       "    .dataframe thead th {\n",
       "        text-align: right;\n",
       "    }\n",
       "</style>\n",
       "<table border=\"1\" class=\"dataframe\">\n",
       "  <thead>\n",
       "    <tr style=\"text-align: right;\">\n",
       "      <th></th>\n",
       "      <th>ref</th>\n",
       "      <th>company_manufacturer</th>\n",
       "      <th>company_location</th>\n",
       "      <th>review_date</th>\n",
       "      <th>country_of_bean_origin</th>\n",
       "      <th>specific_bean_origin_or_bar_name</th>\n",
       "      <th>cocoa_percent</th>\n",
       "      <th>ingredients</th>\n",
       "      <th>most_memorable_characteristics</th>\n",
       "      <th>number_ingredients</th>\n",
       "    </tr>\n",
       "  </thead>\n",
       "  <tbody>\n",
       "    <tr>\n",
       "      <th>1439</th>\n",
       "      <td>1395</td>\n",
       "      <td>Lonohana</td>\n",
       "      <td>U.S.A.</td>\n",
       "      <td>2014</td>\n",
       "      <td>U.S.A.</td>\n",
       "      <td>O'ahu Island, Haleiwa E, 2014</td>\n",
       "      <td>0.75</td>\n",
       "      <td>B,S,C,V</td>\n",
       "      <td>dairy, pudding</td>\n",
       "      <td>4.0</td>\n",
       "    </tr>\n",
       "    <tr>\n",
       "      <th>1833</th>\n",
       "      <td>1415</td>\n",
       "      <td>Pacari</td>\n",
       "      <td>Ecuador</td>\n",
       "      <td>2014</td>\n",
       "      <td>Ecuador</td>\n",
       "      <td>Cumbia</td>\n",
       "      <td>0.70</td>\n",
       "      <td>B,S,C,L</td>\n",
       "      <td>savory, smokey</td>\n",
       "      <td>4.0</td>\n",
       "    </tr>\n",
       "    <tr>\n",
       "      <th>170</th>\n",
       "      <td>600</td>\n",
       "      <td>Artisan du Chocolat</td>\n",
       "      <td>U.K.</td>\n",
       "      <td>2010</td>\n",
       "      <td>Vietnam</td>\n",
       "      <td>Ba Ria Vung Tau Province</td>\n",
       "      <td>0.72</td>\n",
       "      <td>B,S,C</td>\n",
       "      <td>unrefined, distinct spicey</td>\n",
       "      <td>3.0</td>\n",
       "    </tr>\n",
       "    <tr>\n",
       "      <th>2461</th>\n",
       "      <td>2744</td>\n",
       "      <td>Vesta</td>\n",
       "      <td>U.S.A.</td>\n",
       "      <td>2022</td>\n",
       "      <td>Guatemala</td>\n",
       "      <td>Guatemala</td>\n",
       "      <td>0.78</td>\n",
       "      <td>B,S*,C</td>\n",
       "      <td>rich cocoa, fruit, bitter, molasses</td>\n",
       "      <td>3.0</td>\n",
       "    </tr>\n",
       "    <tr>\n",
       "      <th>1308</th>\n",
       "      <td>241</td>\n",
       "      <td>Kallari (Ecuatoriana)</td>\n",
       "      <td>Ecuador</td>\n",
       "      <td>2008</td>\n",
       "      <td>Ecuador</td>\n",
       "      <td>Sisa 36hr/ W. F. blend prototype</td>\n",
       "      <td>0.70</td>\n",
       "      <td>B,S,C,V</td>\n",
       "      <td>creamy, mild marshmallow</td>\n",
       "      <td>4.0</td>\n",
       "    </tr>\n",
       "    <tr>\n",
       "      <th>...</th>\n",
       "      <td>...</td>\n",
       "      <td>...</td>\n",
       "      <td>...</td>\n",
       "      <td>...</td>\n",
       "      <td>...</td>\n",
       "      <td>...</td>\n",
       "      <td>...</td>\n",
       "      <td>...</td>\n",
       "      <td>...</td>\n",
       "      <td>...</td>\n",
       "    </tr>\n",
       "    <tr>\n",
       "      <th>2530</th>\n",
       "      <td>1042</td>\n",
       "      <td>Woodblock</td>\n",
       "      <td>U.S.A.</td>\n",
       "      <td>2013</td>\n",
       "      <td>Trinidad</td>\n",
       "      <td>Gran Couva, batch 1</td>\n",
       "      <td>0.70</td>\n",
       "      <td>B,S</td>\n",
       "      <td>creamy, woody, mild metallic</td>\n",
       "      <td>2.0</td>\n",
       "    </tr>\n",
       "    <tr>\n",
       "      <th>44</th>\n",
       "      <td>2438</td>\n",
       "      <td>Aelan</td>\n",
       "      <td>Vanuatu</td>\n",
       "      <td>2019</td>\n",
       "      <td>Vanuatu</td>\n",
       "      <td>Malekula Island, batch M10/19</td>\n",
       "      <td>0.70</td>\n",
       "      <td>B,S</td>\n",
       "      <td>unrefined, sweet, metallic</td>\n",
       "      <td>2.0</td>\n",
       "    </tr>\n",
       "    <tr>\n",
       "      <th>1930</th>\n",
       "      <td>2622</td>\n",
       "      <td>Potomac</td>\n",
       "      <td>U.S.A.</td>\n",
       "      <td>2021</td>\n",
       "      <td>Peru</td>\n",
       "      <td>Ucayali, batch 200105</td>\n",
       "      <td>0.70</td>\n",
       "      <td>B,S</td>\n",
       "      <td>anise, cocoa, dried fruit</td>\n",
       "      <td>2.0</td>\n",
       "    </tr>\n",
       "    <tr>\n",
       "      <th>1247</th>\n",
       "      <td>725</td>\n",
       "      <td>Idilio (Felchlin)</td>\n",
       "      <td>Switzerland</td>\n",
       "      <td>2011</td>\n",
       "      <td>Venezuela</td>\n",
       "      <td>Coopertiva Amazona</td>\n",
       "      <td>0.72</td>\n",
       "      <td>B,S,C</td>\n",
       "      <td>creamy, cocoa, lemon</td>\n",
       "      <td>3.0</td>\n",
       "    </tr>\n",
       "    <tr>\n",
       "      <th>1599</th>\n",
       "      <td>2732</td>\n",
       "      <td>Mesjokke</td>\n",
       "      <td>Netherlands</td>\n",
       "      <td>2022</td>\n",
       "      <td>Honduras</td>\n",
       "      <td>Honduras, batch 744</td>\n",
       "      <td>0.72</td>\n",
       "      <td>B,S,C,L</td>\n",
       "      <td>chewy, woody, off notes</td>\n",
       "      <td>4.0</td>\n",
       "    </tr>\n",
       "  </tbody>\n",
       "</table>\n",
       "<p>1869 rows × 10 columns</p>\n",
       "</div>"
      ],
      "text/plain": [
       "       ref   company_manufacturer company_location  review_date  \\\n",
       "1439  1395               Lonohana           U.S.A.         2014   \n",
       "1833  1415                 Pacari          Ecuador         2014   \n",
       "170    600    Artisan du Chocolat             U.K.         2010   \n",
       "2461  2744                  Vesta           U.S.A.         2022   \n",
       "1308   241  Kallari (Ecuatoriana)          Ecuador         2008   \n",
       "...    ...                    ...              ...          ...   \n",
       "2530  1042              Woodblock           U.S.A.         2013   \n",
       "44    2438                  Aelan          Vanuatu         2019   \n",
       "1930  2622                Potomac           U.S.A.         2021   \n",
       "1247   725      Idilio (Felchlin)      Switzerland         2011   \n",
       "1599  2732               Mesjokke      Netherlands         2022   \n",
       "\n",
       "     country_of_bean_origin  specific_bean_origin_or_bar_name  cocoa_percent  \\\n",
       "1439                 U.S.A.     O'ahu Island, Haleiwa E, 2014           0.75   \n",
       "1833                Ecuador                            Cumbia           0.70   \n",
       "170                 Vietnam          Ba Ria Vung Tau Province           0.72   \n",
       "2461              Guatemala                         Guatemala           0.78   \n",
       "1308                Ecuador  Sisa 36hr/ W. F. blend prototype           0.70   \n",
       "...                     ...                               ...            ...   \n",
       "2530               Trinidad               Gran Couva, batch 1           0.70   \n",
       "44                  Vanuatu     Malekula Island, batch M10/19           0.70   \n",
       "1930                   Peru             Ucayali, batch 200105           0.70   \n",
       "1247              Venezuela                Coopertiva Amazona           0.72   \n",
       "1599               Honduras               Honduras, batch 744           0.72   \n",
       "\n",
       "     ingredients       most_memorable_characteristics  number_ingredients  \n",
       "1439     B,S,C,V                       dairy, pudding                 4.0  \n",
       "1833     B,S,C,L                       savory, smokey                 4.0  \n",
       "170        B,S,C           unrefined, distinct spicey                 3.0  \n",
       "2461      B,S*,C  rich cocoa, fruit, bitter, molasses                 3.0  \n",
       "1308     B,S,C,V             creamy, mild marshmallow                 4.0  \n",
       "...          ...                                  ...                 ...  \n",
       "2530         B,S         creamy, woody, mild metallic                 2.0  \n",
       "44           B,S           unrefined, sweet, metallic                 2.0  \n",
       "1930         B,S            anise, cocoa, dried fruit                 2.0  \n",
       "1247       B,S,C                 creamy, cocoa, lemon                 3.0  \n",
       "1599     B,S,C,L              chewy, woody, off notes                 4.0  \n",
       "\n",
       "[1869 rows x 10 columns]"
      ]
     },
     "execution_count": 38,
     "metadata": {},
     "output_type": "execute_result"
    }
   ],
   "source": [
    "X_train_raw"
   ]
  },
  {
   "cell_type": "markdown",
   "id": "c83afc46",
   "metadata": {},
   "source": [
    "# Feature Engineering"
   ]
  },
  {
   "cell_type": "code",
   "execution_count": 39,
   "id": "8876a9e2",
   "metadata": {},
   "outputs": [],
   "source": [
    "X_train = X_train_raw.copy()\n",
    "X_val = X_val_raw.copy()\n",
    "X_test = X_test_raw.copy()"
   ]
  },
  {
   "cell_type": "code",
   "execution_count": 40,
   "id": "afefe737",
   "metadata": {},
   "outputs": [],
   "source": [
    "features_dict = {\n",
    "    \"baseline\": [\"cocoa_percent\", \"number_ingredients\"],\n",
    "    \"one_hot_encoded\": {\n",
    "        \"company_manufacturer\": [],\n",
    "        \"company_location\": [],\n",
    "        \"country_of_bean_origin\": [],\n",
    "    },\n",
    "    \"target_encoded\": {\n",
    "        \"company_manufacturer\": [],\n",
    "        \"company_location\": [],\n",
    "        \"country_of_bean_origin\": [],\n",
    "    },\n",
    "    \"ingredients\": {\"dummies\": [], \"number_scaled\": []},\n",
    "    \"most_memorable_characteristics\": {\"50%\": [], \"80%\": [], \"95%\": []},\n",
    "}"
   ]
  },
  {
   "cell_type": "markdown",
   "id": "363dac6d",
   "metadata": {},
   "source": [
    "## Review Date"
   ]
  },
  {
   "cell_type": "code",
   "execution_count": 41,
   "id": "a8f6892e",
   "metadata": {},
   "outputs": [],
   "source": [
    "dates = X_train_raw[\"review_date\"].unique()\n",
    "dates.sort()"
   ]
  },
  {
   "cell_type": "code",
   "execution_count": 42,
   "id": "d577c005",
   "metadata": {},
   "outputs": [
    {
     "data": {
      "image/png": "[encoded data removed]",
      "text/plain": [
       "<Figure size 864x288 with 1 Axes>"
      ]
     },
     "metadata": {
      "needs_background": "light"
     },
     "output_type": "display_data"
    }
   ],
   "source": [
    "fig, ax = plt.subplots(figsize=(12, 4))\n",
    "ax.boxplot([y_train[X_train_raw[\"review_date\"] == rd] for rd in dates], labels=dates)\n",
    "plt.xticks(rotation=45)\n",
    "plt.xlabel(\"Review date\")\n",
    "plt.ylabel(\"Rating\")\n",
    "plt.savefig(\"figures/review_date_boxplot.pdf\", bbox_inches=\"tight\")\n",
    "plt.show()"
   ]
  },
  {
   "cell_type": "code",
   "execution_count": 43,
   "id": "5f3072bb",
   "metadata": {},
   "outputs": [
    {
     "data": {
      "text/plain": [
       "array([ 9,  6,  3, 12, 13,  2,  8,  1, 16,  4,  5, 10, 11,  7, 15, 14,  0],\n",
       "      dtype=int64)"
      ]
     },
     "execution_count": 43,
     "metadata": {},
     "output_type": "execute_result"
    }
   ],
   "source": [
    "# label encoding\n",
    "min_date = X_train[\"review_date\"].min()\n",
    "X_train.loc[:, \"review_date\"] = X_train_raw.loc[:, \"review_date\"] - min_date\n",
    "X_val.loc[:, \"review_date\"] = X_val_raw.loc[:, \"review_date\"] - min_date\n",
    "X_test.loc[:, \"review_date\"] = X_test_raw.loc[:, \"review_date\"] - min_date\n",
    "X_val.loc[:, \"review_date\"].unique()"
   ]
  },
  {
   "cell_type": "code",
   "execution_count": 44,
   "id": "286fbec3",
   "metadata": {},
   "outputs": [
    {
     "data": {
      "text/plain": [
       "0.11431817568054758"
      ]
     },
     "execution_count": 44,
     "metadata": {},
     "output_type": "execute_result"
    }
   ],
   "source": [
    "X_train[\"review_date\"].corr(y_train)"
   ]
  },
  {
   "cell_type": "code",
   "execution_count": 45,
   "id": "de1ebcc0",
   "metadata": {},
   "outputs": [],
   "source": [
    "from sklearn.linear_model import LinearRegression"
   ]
  },
  {
   "cell_type": "code",
   "execution_count": 46,
   "id": "ccff00ab",
   "metadata": {},
   "outputs": [
    {
     "name": "stdout",
     "output_type": "stream",
     "text": [
      "intercept:\t 3.0984\n",
      "coefficient:\t 0.0124\n"
     ]
    }
   ],
   "source": [
    "lm = LinearRegression()\n",
    "lm.fit(np.array(X_train[\"review_date\"]).reshape(-1, 1), y_train)\n",
    "print(\"intercept:\\t\", round(lm.intercept_, 4))\n",
    "print(\"coefficient:\\t\", round(lm.coef_[0], 4))"
   ]
  },
  {
   "cell_type": "code",
   "execution_count": 47,
   "id": "65f10fbe",
   "metadata": {},
   "outputs": [
    {
     "data": {
      "image/png": "[encoded data removed]",
      "text/plain": [
       "<Figure size 864x288 with 1 Axes>"
      ]
     },
     "metadata": {
      "needs_background": "light"
     },
     "output_type": "display_data"
    }
   ],
   "source": [
    "x = X_train[\"review_date\"]\n",
    "\n",
    "plt.subplots(figsize=(12, 4))\n",
    "scatter_with_dot_size(x, y_train)\n",
    "plt.plot(x, lm.coef_ * x + lm.intercept_, color=\"red\")\n",
    "plt.xlabel(\"Review date\")\n",
    "plt.ylabel(\"Rating\")\n",
    "plt.savefig(\"figures/rating_vs_review_date.pdf\", bbox_inches=\"tight\")\n",
    "plt.show()"
   ]
  },
  {
   "cell_type": "code",
   "execution_count": 48,
   "id": "0ac14978",
   "metadata": {},
   "outputs": [],
   "source": [
    "from statsmodels.api import OLS, add_constant\n",
    "from statsmodels.stats.diagnostic import het_white"
   ]
  },
  {
   "cell_type": "code",
   "execution_count": 49,
   "id": "ed47582b",
   "metadata": {},
   "outputs": [],
   "source": [
    "x = add_constant(np.array(X_train[\"review_date\"]))\n",
    "res = OLS(y_train, x).fit()"
   ]
  },
  {
   "cell_type": "code",
   "execution_count": 50,
   "id": "156c31c6",
   "metadata": {},
   "outputs": [
    {
     "name": "stdout",
     "output_type": "stream",
     "text": [
      "LM-Test p-value: 2.13056964313503e-22\n"
     ]
    }
   ],
   "source": [
    "white_test = het_white(res.resid, res.model.exog)\n",
    "print(\"LM-Test p-value:\", white_test[1])  # << 0.05"
   ]
  },
  {
   "cell_type": "code",
   "execution_count": 51,
   "id": "ac34ad87",
   "metadata": {},
   "outputs": [
    {
     "name": "stdout",
     "output_type": "stream",
     "text": [
      "correlation with rating: 0.023106962375003173\n",
      "LM-Test p-value:\t 1.3600569063787788e-12\n"
     ]
    }
   ],
   "source": [
    "x = np.array(X_train[\"review_date\"].apply(lambda x: x ^ 2))\n",
    "print(\"correlation with rating:\", pd.Series(x).corr(y_train))\n",
    "X = add_constant(x)\n",
    "res = OLS(y_train, X).fit()\n",
    "white_test = het_white(res.resid, res.model.exog)\n",
    "print(\"LM-Test p-value:\\t\", white_test[1])  # << 0.05"
   ]
  },
  {
   "cell_type": "code",
   "execution_count": 52,
   "id": "4e4aeb34",
   "metadata": {},
   "outputs": [
    {
     "data": {
      "image/png": "[encoded data removed]",
      "text/plain": [
       "<Figure size 864x288 with 1 Axes>"
      ]
     },
     "metadata": {
      "needs_background": "light"
     },
     "output_type": "display_data"
    }
   ],
   "source": [
    "plt.subplots(figsize=(12, 4))\n",
    "scatter_with_dot_size(x, y_train)\n",
    "plt.plot(x, res.params.x1 * x + res.params.const, color=\"red\")\n",
    "plt.xlabel(\"Review date^2\")\n",
    "plt.ylabel(\"Rating\")\n",
    "plt.show()"
   ]
  },
  {
   "cell_type": "code",
   "execution_count": 53,
   "id": "119927dc",
   "metadata": {},
   "outputs": [
    {
     "name": "stdout",
     "output_type": "stream",
     "text": [
      "correlation with rating: 0.13730101617599713\n",
      "LM-Test p-value:\t 1.968918067731626e-19\n"
     ]
    }
   ],
   "source": [
    "x = X_train[\"review_date\"]\n",
    "y = y_train.apply(math.log)\n",
    "print(\"correlation with rating:\", x.corr(y))\n",
    "X = add_constant(x)\n",
    "res = OLS(y, X).fit()\n",
    "white_test = het_white(res.resid, res.model.exog)\n",
    "print(\"LM-Test p-value:\\t\", white_test[1])  # << 0.05"
   ]
  },
  {
   "cell_type": "code",
   "execution_count": 54,
   "id": "26539d53",
   "metadata": {},
   "outputs": [
    {
     "data": {
      "image/png": "[encoded data removed]",
      "text/plain": [
       "<Figure size 864x288 with 1 Axes>"
      ]
     },
     "metadata": {
      "needs_background": "light"
     },
     "output_type": "display_data"
    }
   ],
   "source": [
    "plt.subplots(figsize=(12, 4))\n",
    "scatter_with_dot_size(x, y)\n",
    "plt.plot(x, res.params.review_date * x + res.params.const, color=\"red\")\n",
    "plt.xlabel(\"Review date\")\n",
    "plt.ylabel(\"log(Rating)\")\n",
    "plt.show()"
   ]
  },
  {
   "cell_type": "code",
   "execution_count": 55,
   "id": "36a2f690",
   "metadata": {},
   "outputs": [
    {
     "data": {
      "text/plain": [
       "{'baseline': ['cocoa_percent', 'number_ingredients', 'review_date'],\n",
       " 'one_hot_encoded': {'company_manufacturer': [],\n",
       "  'company_location': [],\n",
       "  'country_of_bean_origin': []},\n",
       " 'target_encoded': {'company_manufacturer': [],\n",
       "  'company_location': [],\n",
       "  'country_of_bean_origin': []},\n",
       " 'ingredients': {'dummies': [], 'number_scaled': []},\n",
       " 'most_memorable_characteristics': {'50%': [], '80%': [], '95%': []}}"
      ]
     },
     "execution_count": 55,
     "metadata": {},
     "output_type": "execute_result"
    }
   ],
   "source": [
    "features_dict[\"baseline\"] += [\"review_date\"]\n",
    "features_dict"
   ]
  },
  {
   "cell_type": "markdown",
   "id": "186bd601",
   "metadata": {},
   "source": [
    "## Features with many categories"
   ]
  },
  {
   "cell_type": "code",
   "execution_count": 56,
   "id": "16c137bc",
   "metadata": {},
   "outputs": [],
   "source": [
    "locations_counts = X_train[\"company_location\"].value_counts()\n",
    "locations = locations_counts.loc[locations_counts >= 25].index"
   ]
  },
  {
   "cell_type": "code",
   "execution_count": 57,
   "id": "e8a784d1",
   "metadata": {},
   "outputs": [
    {
     "data": {
      "image/png": "[encoded data removed]",
      "text/plain": [
       "<Figure size 576x288 with 1 Axes>"
      ]
     },
     "metadata": {
      "needs_background": "light"
     },
     "output_type": "display_data"
    }
   ],
   "source": [
    "fig, ax = plt.subplots(figsize=(8, 4))\n",
    "\n",
    "ax.boxplot(\n",
    "    [y_train[X_train[\"company_location\"] == loc] for loc in locations],\n",
    "    labels=locations,\n",
    "    widths=0.5,\n",
    ")\n",
    "ax.boxplot(\n",
    "    y_train[~X_train[\"company_location\"].isin(locations)],\n",
    "    positions=[len(locations) + 1],\n",
    "    labels=[\"Other\"],\n",
    "    widths=0.5,\n",
    ")\n",
    "\n",
    "plt.xticks(rotation=90)\n",
    "plt.xlabel(\"Company location\")\n",
    "plt.ylabel(\"Rating\")\n",
    "plt.savefig(\"figures/company_location_boxplot.pdf\", bbox_inches=\"tight\")\n",
    "plt.show()"
   ]
  },
  {
   "cell_type": "code",
   "execution_count": 58,
   "id": "72e15193",
   "metadata": {},
   "outputs": [],
   "source": [
    "from category_encoders import OneHotEncoder, TargetEncoder"
   ]
  },
  {
   "cell_type": "code",
   "execution_count": 59,
   "id": "19ce1618",
   "metadata": {},
   "outputs": [],
   "source": [
    "def apply_encoding(col_name, crit_value):\n",
    "    # compute the number of observations per category\n",
    "    counts = X_train_raw[col_name].value_counts()\n",
    "\n",
    "    # find large enough categories\n",
    "    categories = counts[counts > crit_value].index\n",
    "\n",
    "    # create column where small categories are aggregated as \"other\"\n",
    "    col_agg = col_name + \"_agg\"\n",
    "    X_train_raw[col_agg] = X_train_raw[col_name]\n",
    "    X_train_raw.loc[~X_train_raw[col_agg].isin(categories), col_agg] = \"other\"\n",
    "    X_val_raw[col_agg] = X_val_raw[col_name]\n",
    "    X_val_raw.loc[~X_val_raw[col_agg].isin(categories), col_agg] = \"other\"\n",
    "    X_test_raw[col_agg] = X_test_raw[col_name]\n",
    "    X_test_raw.loc[~X_test_raw[col_agg].isin(categories), col_agg] = \"other\"\n",
    "\n",
    "    # one hot encoding\n",
    "    encoder_oh = OneHotEncoder(cols=col_agg, use_cat_names=True)\n",
    "    encoded_oh_train = encoder_oh.fit_transform(X_train_raw, y_train)\n",
    "    encoded_oh_val = encoder_oh.transform(X_val_raw)\n",
    "    encoded_oh_test = encoder_oh.transform(X_test_raw)\n",
    "    cols_enc_oh = [\n",
    "        name\n",
    "        for name in filter(\n",
    "            lambda x: x.startswith(col_agg) & ~x.endswith(\"other\"),\n",
    "            encoded_oh_train.columns,\n",
    "        )\n",
    "    ]\n",
    "    X_train[cols_enc_oh] = encoded_oh_train[cols_enc_oh]\n",
    "    X_val[cols_enc_oh] = encoded_oh_val[cols_enc_oh]\n",
    "    X_test[cols_enc_oh] = encoded_oh_test[cols_enc_oh]\n",
    "    features_dict[\"one_hot_encoded\"][col_name] = cols_enc_oh\n",
    "\n",
    "    # target encoding\n",
    "    encoder_t = TargetEncoder(\n",
    "        cols=col_name, handle_unknown=\"value\", min_samples_leaf=20, smoothing=10\n",
    "    )\n",
    "    encoded_t_train = encoder_t.fit_transform(X_train_raw, y_train)\n",
    "    encoded_t_val = encoder_t.transform(X_val_raw)\n",
    "    encoded_t_test = encoder_t.transform(X_test_raw)\n",
    "    X_train[col_name + \"_encoded_t\"] = encoded_t_train[col_name]\n",
    "    X_val[col_name + \"_encoded_t\"] = encoded_t_val[col_name]\n",
    "    X_test[col_name + \"_encoded_t\"] = encoded_t_test[col_name]\n",
    "    features_dict[\"target_encoded\"][col_name] = col_name + \"_encoded_t\""
   ]
  },
  {
   "cell_type": "code",
   "execution_count": 60,
   "id": "527258fc",
   "metadata": {},
   "outputs": [],
   "source": [
    "apply_encoding(\"company_manufacturer\", crit_value=25)\n",
    "apply_encoding(\"company_location\", crit_value=25)\n",
    "apply_encoding(\"country_of_bean_origin\", crit_value=50)"
   ]
  },
  {
   "cell_type": "code",
   "execution_count": 61,
   "id": "01c0beb4",
   "metadata": {},
   "outputs": [
    {
     "data": {
      "text/plain": [
       "0.12627073301230604"
      ]
     },
     "execution_count": 61,
     "metadata": {},
     "output_type": "execute_result"
    }
   ],
   "source": [
    "# percentage of observations where company location and country of bean origin coincide\n",
    "len(\n",
    "    X_train.loc[\n",
    "        X_train[\"company_location\"] == X_train[\"country_of_bean_origin\"],\n",
    "    ]\n",
    ") / len(X_train)"
   ]
  },
  {
   "cell_type": "code",
   "execution_count": 62,
   "id": "ed4be898",
   "metadata": {},
   "outputs": [
    {
     "data": {
      "image/png": "[encoded data removed]",
      "text/plain": [
       "<Figure size 216x360 with 1 Axes>"
      ]
     },
     "metadata": {
      "needs_background": "light"
     },
     "output_type": "display_data"
    }
   ],
   "source": [
    "fig, ax = plt.subplots(figsize=(3, 5))\n",
    "\n",
    "ax.boxplot(\n",
    "    y_train[X_train[\"company_location\"] == X_train[\"country_of_bean_origin\"]],\n",
    "    positions=[0],\n",
    "    labels=[\"same\"],\n",
    "    widths=0.5,\n",
    ")\n",
    "ax.boxplot(\n",
    "    y_train[X_train[\"company_location\"] != X_train[\"country_of_bean_origin\"]],\n",
    "    positions=[1],\n",
    "    labels=[\"different\"],\n",
    "    widths=0.5,\n",
    ")\n",
    "\n",
    "plt.ylabel(\"Rating\")\n",
    "plt.savefig(\"figures/location_vs_bean_origin.pdf\", bbox_inches=\"tight\")\n",
    "plt.show()"
   ]
  },
  {
   "cell_type": "markdown",
   "id": "c6cf44fe",
   "metadata": {},
   "source": [
    "## Ingredients"
   ]
  },
  {
   "cell_type": "code",
   "execution_count": 63,
   "id": "94778d33",
   "metadata": {
    "cell_style": "center"
   },
   "outputs": [
    {
     "data": {
      "text/plain": [
       "73"
      ]
     },
     "execution_count": 63,
     "metadata": {},
     "output_type": "execute_result"
    }
   ],
   "source": [
    "index_missing_train = X_train_raw.loc[\n",
    "    X_train_raw[\"ingredients\"].isnull(),\n",
    "].index\n",
    "index_missing_val = X_val_raw.loc[\n",
    "    X_val_raw[\"ingredients\"].isnull(),\n",
    "].index\n",
    "index_missing_test = X_test_raw.loc[\n",
    "    X_test_raw[\"ingredients\"].isnull(),\n",
    "].index\n",
    "len(index_missing_test) + len(index_missing_val) + len(index_missing_train)"
   ]
  },
  {
   "cell_type": "code",
   "execution_count": 64,
   "id": "2068834e",
   "metadata": {},
   "outputs": [],
   "source": [
    "ingredients_list = [\"sugar\", \"sweetener\", \"cocoa_butter\", \"vanilla\", \"lecithin\", \"salt\"]\n",
    "ingredients_abbrev = [\"S,\", \"S\\*\", \"C\", \"V\", \"L\", \"Sa\"]"
   ]
  },
  {
   "cell_type": "code",
   "execution_count": 65,
   "id": "3fa55300",
   "metadata": {},
   "outputs": [],
   "source": [
    "ingredients_df_train = pd.DataFrame(columns=ingredients_list)\n",
    "ingredients_df_val = ingredients_df_train.copy()\n",
    "ingredients_df_test = ingredients_df_train.copy()\n",
    "\n",
    "for i, a in enumerate(ingredients_abbrev):\n",
    "    ingredients_df_train.loc[:, ingredients_list[i]] = X_train_raw[\"ingredients\"].str.contains(a, na=False)\n",
    "    ingredients_df_val.loc[:, ingredients_list[i]] = X_val_raw[\"ingredients\"].str.contains(a, na=False)\n",
    "    ingredients_df_test.loc[:, ingredients_list[i]] = X_test_raw[\"ingredients\"].str.contains(a, na=False)"
   ]
  },
  {
   "cell_type": "code",
   "execution_count": 66,
   "id": "186c8178",
   "metadata": {},
   "outputs": [],
   "source": [
    "# sugar is abbreviated with \"S,\" in the list above to avoid confusion with sweetener (S*)\n",
    "# need to account for ingredients ending with \"S\" and thus having no \",\" in the end\n",
    "ingredients_df_train.loc[:, \"sugar\"] = ingredients_df_train.loc[:, \"sugar\"] | X_train_raw[\"ingredients\"].str.endswith(\"S\")\n",
    "ingredients_df_val.loc[:, \"sugar\"] = ingredients_df_val.loc[:, \"sugar\"] | X_val_raw[\"ingredients\"].str.endswith(\"S\")\n",
    "ingredients_df_test.loc[:, \"sugar\"] = ingredients_df_test.loc[:, \"sugar\"] | X_test_raw[\"ingredients\"].str.endswith(\"S\")"
   ]
  },
  {
   "cell_type": "code",
   "execution_count": 67,
   "id": "3edd8e6e",
   "metadata": {},
   "outputs": [],
   "source": [
    "X_train[ingredients_list] = ingredients_df_train.astype(int)\n",
    "X_val[ingredients_list] = ingredients_df_val.astype(int)\n",
    "X_test[ingredients_list] = ingredients_df_test.astype(int)"
   ]
  },
  {
   "cell_type": "code",
   "execution_count": 68,
   "id": "67f7bdea",
   "metadata": {},
   "outputs": [],
   "source": [
    "features_dict[\"ingredients\"][\"dummies\"] = ingredients_list"
   ]
  },
  {
   "cell_type": "code",
   "execution_count": 69,
   "id": "0a88dbb6",
   "metadata": {},
   "outputs": [
    {
     "data": {
      "text/plain": [
       "sugar           0.932049\n",
       "cocoa_butter    0.663456\n",
       "lecithin        0.199572\n",
       "vanilla         0.134296\n",
       "sweetener       0.030498\n",
       "salt            0.013376\n",
       "dtype: float64"
      ]
     },
     "execution_count": 69,
     "metadata": {},
     "output_type": "execute_result"
    }
   ],
   "source": [
    "h = X_train[features_dict[\"ingredients\"][\"dummies\"]].mean().sort_values(ascending=False)\n",
    "h"
   ]
  },
  {
   "cell_type": "code",
   "execution_count": 70,
   "id": "27b1e479",
   "metadata": {},
   "outputs": [
    {
     "data": {
      "image/png": "[encoded data removed]",
      "text/plain": [
       "<Figure size 432x288 with 1 Axes>"
      ]
     },
     "metadata": {
      "needs_background": "light"
     },
     "output_type": "display_data"
    }
   ],
   "source": [
    "plt.bar([\"S\", \"C\", \"L\", \"V\", \"S*\", \"Sa\"], h, zorder=2)\n",
    "plt.axhline(0.5, c=\"black\", ls=\"--\", zorder=1)\n",
    "plt.xlabel(\"Ingredient\")\n",
    "plt.ylabel(\"Frequency\")\n",
    "plt.savefig(\"figures/ingredients_seperated.pdf\", bbox_inches=\"tight\")\n",
    "plt.show()"
   ]
  },
  {
   "cell_type": "code",
   "execution_count": 71,
   "id": "28eb2f5e",
   "metadata": {},
   "outputs": [],
   "source": [
    "X_train.loc[index_missing_train, [\"sugar\", \"cocoa_butter\"]] = 1\n",
    "X_val.loc[index_missing_val, [\"sugar\", \"cocoa_butter\"]] = 1\n",
    "X_test.loc[index_missing_test, [\"sugar\", \"cocoa_butter\"]] = 1"
   ]
  },
  {
   "cell_type": "markdown",
   "id": "b7c3e5af",
   "metadata": {},
   "source": [
    "### Transform number of ingredients"
   ]
  },
  {
   "cell_type": "code",
   "execution_count": 72,
   "id": "02cb5e36",
   "metadata": {},
   "outputs": [],
   "source": [
    "num_ingr = X_train[\"number_ingredients\"]"
   ]
  },
  {
   "cell_type": "code",
   "execution_count": 73,
   "id": "b98d47ce",
   "metadata": {},
   "outputs": [
    {
     "data": {
      "image/png": "[encoded data removed]",
      "text/plain": [
       "<Figure size 432x288 with 1 Axes>"
      ]
     },
     "metadata": {
      "needs_background": "light"
     },
     "output_type": "display_data"
    }
   ],
   "source": [
    "scatter_with_dot_size(num_ingr, y_train)\n",
    "plt.xlabel(\"Number of ingredients\")\n",
    "plt.ylabel(\"Rating\")\n",
    "plt.savefig(\"figures/rating_vs_number_ingredients.pdf\", bbox_inches=\"tight\")\n",
    "plt.show()"
   ]
  },
  {
   "cell_type": "code",
   "execution_count": 74,
   "id": "5251f9e2",
   "metadata": {},
   "outputs": [],
   "source": [
    "num_ingr_scaled = (num_ingr - num_ingr.mean()) / num_ingr.std()"
   ]
  },
  {
   "cell_type": "code",
   "execution_count": 75,
   "id": "58893269",
   "metadata": {},
   "outputs": [
    {
     "name": "stdout",
     "output_type": "stream",
     "text": [
      "raw: \t -0.05651595085068437\n",
      "abs: \t -0.12671139067150586\n",
      "^2: \t -0.13996002920752337\n",
      "^4: \t -0.13239653849806676\n",
      "exp: \t -0.09433699943030467\n"
     ]
    }
   ],
   "source": [
    "print(\"raw: \\t\", num_ingr_scaled.corr(y_train))\n",
    "print(\"abs: \\t\", abs(num_ingr_scaled).corr(y_train))\n",
    "print(\"^2: \\t\", (num_ingr_scaled**2).corr(y_train))\n",
    "print(\"^4: \\t\", (num_ingr_scaled**4).corr(y_train))    \n",
    "print(\"exp: \\t\", num_ingr_scaled.apply(lambda x: math.exp(x)).corr(y_train))"
   ]
  },
  {
   "cell_type": "code",
   "execution_count": 76,
   "id": "05c0a89a",
   "metadata": {},
   "outputs": [
    {
     "data": {
      "image/png": "[encoded data removed]",
      "text/plain": [
       "<Figure size 432x288 with 1 Axes>"
      ]
     },
     "metadata": {
      "needs_background": "light"
     },
     "output_type": "display_data"
    }
   ],
   "source": [
    "scatter_with_dot_size(num_ingr_scaled**2, y_train)\n",
    "plt.xlabel(\"Number of ingredients (scaled)\")\n",
    "plt.ylabel(\"Rating\")\n",
    "plt.savefig(\"figures/rating_vs_number_ingredients_scaled.pdf\", bbox_inches=\"tight\")\n",
    "plt.show()"
   ]
  },
  {
   "cell_type": "code",
   "execution_count": 77,
   "id": "af8c9528",
   "metadata": {},
   "outputs": [],
   "source": [
    "X_train[\"number_ingredients_scaled\"] = num_ingr_scaled**2\n",
    "\n",
    "num_ingr_val = X_val[\"number_ingredients\"]\n",
    "X_val[\"number_ingredients_scaled\"] = ((num_ingr_val - num_ingr_val.mean()) / num_ingr_val.std())**2\n",
    "\n",
    "num_ingr_test = X_test[\"number_ingredients\"]\n",
    "X_test[\"number_ingredients_scaled\"] = ((num_ingr_test - num_ingr_test.mean()) / num_ingr_test.std())**2"
   ]
  },
  {
   "cell_type": "code",
   "execution_count": 78,
   "id": "6050a66f",
   "metadata": {},
   "outputs": [],
   "source": [
    "features_dict[\"ingredients\"][\"number_scaled\"] = \"number_ingredients_scaled\""
   ]
  },
  {
   "cell_type": "markdown",
   "id": "16d05649",
   "metadata": {},
   "source": [
    "## Most memorable characteristics"
   ]
  },
  {
   "cell_type": "code",
   "execution_count": 79,
   "id": "12792b9a",
   "metadata": {},
   "outputs": [],
   "source": [
    "import tensorflow_hub as hub\n",
    "from sklearn.decomposition import PCA"
   ]
  },
  {
   "cell_type": "code",
   "execution_count": 80,
   "id": "94cca470",
   "metadata": {},
   "outputs": [],
   "source": [
    "# load pretrained model\n",
    "model_url = \"https://tfhub.dev/google/Wiki-words-250-with-normalization/2\"\n",
    "#model_url = \"https://tfhub.dev/google/nnlm-en-dim50-with-normalization/2\"\n",
    "embed = hub.load(model_url)"
   ]
  },
  {
   "cell_type": "code",
   "execution_count": 81,
   "id": "34ad5482",
   "metadata": {},
   "outputs": [],
   "source": [
    "# apply pretrained text embedding\n",
    "flavours_embedded_train = embed(X_train_raw[\"most_memorable_characteristics\"])\n",
    "flavours_embedded_val = embed(X_val_raw[\"most_memorable_characteristics\"])\n",
    "flavours_embedded_test = embed(X_test_raw[\"most_memorable_characteristics\"])"
   ]
  },
  {
   "cell_type": "code",
   "execution_count": 82,
   "id": "a7cca01e",
   "metadata": {},
   "outputs": [],
   "source": [
    "pca = PCA(n_components=250)\n",
    "pca.fit(flavours_embedded_train)\n",
    "evr_cum = pca.explained_variance_ratio_.cumsum()"
   ]
  },
  {
   "cell_type": "code",
   "execution_count": 83,
   "id": "e7149972",
   "metadata": {},
   "outputs": [
    {
     "data": {
      "image/png": "[encoded data removed]",
      "text/plain": [
       "<Figure size 432x288 with 1 Axes>"
      ]
     },
     "metadata": {
      "needs_background": "light"
     },
     "output_type": "display_data"
    }
   ],
   "source": [
    "plt.plot(evr_cum)\n",
    "plt.axhline(0.8, c=\"black\", ls=\"--\")\n",
    "plt.axhline(0.95, c=\"black\", ls=\"--\")\n",
    "plt.xlabel(\"number components\")\n",
    "plt.ylabel(\"explained variance ratio\")\n",
    "plt.show()"
   ]
  },
  {
   "cell_type": "code",
   "execution_count": 84,
   "id": "da9e9e9f",
   "metadata": {},
   "outputs": [
    {
     "name": "stdout",
     "output_type": "stream",
     "text": [
      "The first 6 components explain 51.47% of the variance.\n",
      "The first 22 components explain 80.46% of the variance.\n",
      "The first 67 components explain 95.12% of the variance.\n"
     ]
    }
   ],
   "source": [
    "for ratio in [0.5, 0.8, 0.95]:\n",
    "    i = np.min(np.where(evr_cum >= ratio))\n",
    "    print(\n",
    "        f\"The first {i+1} components explain {round(evr_cum[i]*100,2)}% of the variance.\"\n",
    "    )"
   ]
  },
  {
   "cell_type": "code",
   "execution_count": 85,
   "id": "56ebbcad",
   "metadata": {},
   "outputs": [],
   "source": [
    "dim = np.min(np.where(evr_cum >= 0.95)) + 1"
   ]
  },
  {
   "cell_type": "code",
   "execution_count": 86,
   "id": "2d0e92f1",
   "metadata": {},
   "outputs": [
    {
     "data": {
      "text/plain": [
       "(389, 67)"
      ]
     },
     "execution_count": 86,
     "metadata": {},
     "output_type": "execute_result"
    }
   ],
   "source": [
    "pca = PCA(n_components=dim)\n",
    "flavours_pca_train = pca.fit_transform(flavours_embedded_train)\n",
    "flavours_pca_val = pca.transform(flavours_embedded_val)\n",
    "flavours_pca_test = pca.transform(flavours_embedded_test)\n",
    "flavours_pca_test.shape"
   ]
  },
  {
   "cell_type": "code",
   "execution_count": 87,
   "id": "b573722d",
   "metadata": {},
   "outputs": [],
   "source": [
    "col_names = [\"flavour\" + str(i + 1) for i in range(dim)]"
   ]
  },
  {
   "cell_type": "code",
   "execution_count": 88,
   "id": "3ef33bac",
   "metadata": {},
   "outputs": [],
   "source": [
    "X_train.loc[:, col_names] = pd.DataFrame(flavours_pca_train, columns=col_names, index=X_train.index)\n",
    "X_val.loc[:, col_names] = pd.DataFrame(flavours_pca_val, columns=col_names, index=X_val.index)\n",
    "X_test.loc[:, col_names] = pd.DataFrame(flavours_pca_test, columns=col_names, index=X_test.index)"
   ]
  },
  {
   "cell_type": "code",
   "execution_count": 89,
   "id": "571d2c70",
   "metadata": {},
   "outputs": [],
   "source": [
    "features_dict[\"most_memorable_characteristics\"][\"50%\"] = [\n",
    "    \"flavour\" + str(i + 1) for i in range(np.min(np.where(evr_cum >= 0.5)) + 1)\n",
    "]\n",
    "features_dict[\"most_memorable_characteristics\"][\"80%\"] = [\n",
    "    \"flavour\" + str(i + 1) for i in range(np.min(np.where(evr_cum >= 0.80)) + 1)\n",
    "]\n",
    "features_dict[\"most_memorable_characteristics\"][\"95%\"] = [\n",
    "    \"flavour\" + str(i + 1) for i in range(np.min(np.where(evr_cum >= 0.95)) + 1)\n",
    "]"
   ]
  },
  {
   "cell_type": "code",
   "execution_count": 90,
   "id": "40fa3ede",
   "metadata": {},
   "outputs": [
    {
     "data": {
      "image/png": "[encoded data removed]",
      "text/plain": [
       "<Figure size 864x288 with 1 Axes>"
      ]
     },
     "metadata": {
      "needs_background": "light"
     },
     "output_type": "display_data"
    }
   ],
   "source": [
    "corr = X_train.loc[:, col_names].apply(y_train.corr)\n",
    "plt.subplots(figsize=(12,4))\n",
    "plt.bar(range(1,68), corr)\n",
    "plt.ylabel(\"Correlation\")\n",
    "plt.show()"
   ]
  },
  {
   "cell_type": "code",
   "execution_count": 91,
   "id": "78b1dacc",
   "metadata": {
    "scrolled": true
   },
   "outputs": [
    {
     "data": {
      "image/png": "[encoded data removed]",
      "text/plain": [
       "<Figure size 720x288 with 1 Axes>"
      ]
     },
     "metadata": {
      "needs_background": "light"
     },
     "output_type": "display_data"
    },
    {
     "data": {
      "image/png": "[encoded data removed]",
      "text/plain": [
       "<Figure size 720x288 with 1 Axes>"
      ]
     },
     "metadata": {
      "needs_background": "light"
     },
     "output_type": "display_data"
    },
    {
     "data": {
      "image/png": "[encoded data removed]",
      "text/plain": [
       "<Figure size 720x288 with 1 Axes>"
      ]
     },
     "metadata": {
      "needs_background": "light"
     },
     "output_type": "display_data"
    },
    {
     "data": {
      "image/png": "[encoded data removed]",
      "text/plain": [
       "<Figure size 720x288 with 1 Axes>"
      ]
     },
     "metadata": {
      "needs_background": "light"
     },
     "output_type": "display_data"
    },
    {
     "data": {
      "image/png": "[encoded data removed]",
      "text/plain": [
       "<Figure size 720x288 with 1 Axes>"
      ]
     },
     "metadata": {
      "needs_background": "light"
     },
     "output_type": "display_data"
    },
    {
     "data": {
      "image/png": "[encoded data removed]",
      "text/plain": [
       "<Figure size 720x288 with 1 Axes>"
      ]
     },
     "metadata": {
      "needs_background": "light"
     },
     "output_type": "display_data"
    },
    {
     "data": {
      "image/png": "[encoded data removed]",
      "text/plain": [
       "<Figure size 720x288 with 1 Axes>"
      ]
     },
     "metadata": {
      "needs_background": "light"
     },
     "output_type": "display_data"
    },
    {
     "data": {
      "image/png": "[encoded data removed]",
      "text/plain": [
       "<Figure size 720x288 with 1 Axes>"
      ]
     },
     "metadata": {
      "needs_background": "light"
     },
     "output_type": "display_data"
    },
    {
     "data": {
      "image/png": "[encoded data removed]",
      "text/plain": [
       "<Figure size 720x288 with 1 Axes>"
      ]
     },
     "metadata": {
      "needs_background": "light"
     },
     "output_type": "display_data"
    },
    {
     "data": {
      "image/png": "[encoded data removed]",
      "text/plain": [
       "<Figure size 720x288 with 1 Axes>"
      ]
     },
     "metadata": {
      "needs_background": "light"
     },
     "output_type": "display_data"
    }
   ],
   "source": [
    "ratings = np.arange(1,4.25,0.25)\n",
    "for i in range(1,11):\n",
    "    plt.subplots(figsize=(10,4))\n",
    "    plt.boxplot([X_train.loc[y_train==r,\"flavour\"+str(i)] for r in ratings], labels = ratings)\n",
    "    plt.xlabel(\"Rating\")\n",
    "    plt.ylabel(f\"Component {i} from PCA\")\n",
    "    plt.show()"
   ]
  },
  {
   "cell_type": "markdown",
   "id": "aa39fdcd",
   "metadata": {},
   "source": [
    "## Cocoa percent"
   ]
  },
  {
   "cell_type": "code",
   "execution_count": 92,
   "id": "5e3e6947",
   "metadata": {},
   "outputs": [],
   "source": [
    "x = X_train[\"cocoa_percent\"]"
   ]
  },
  {
   "cell_type": "code",
   "execution_count": 93,
   "id": "227c4734",
   "metadata": {},
   "outputs": [
    {
     "name": "stdout",
     "output_type": "stream",
     "text": [
      "raw: \t -0.135177792630391\n",
      "^2: \t -0.151207676165763\n",
      "^3: \t -0.16546802676188602\n",
      "^4: \t -0.17760685052439226\n",
      "exp: \t -0.14732450430840074\n",
      "log: \t -0.11778575497479639\n"
     ]
    }
   ],
   "source": [
    "print(\"raw: \\t\", x.corr(y_train))\n",
    "print(\"^2: \\t\", (x**2).corr(y_train))\n",
    "print(\"^3: \\t\", (x**3).corr(y_train))\n",
    "print(\"^4: \\t\", (x**4).corr(y_train))\n",
    "print(\"exp: \\t\", x.apply(lambda x: math.exp(x)).corr(y_train))\n",
    "print(\"log: \\t\", x.apply(lambda x: math.log(x)).corr(y_train))"
   ]
  },
  {
   "cell_type": "code",
   "execution_count": 94,
   "id": "8382c763",
   "metadata": {},
   "outputs": [
    {
     "data": {
      "image/png": "[encoded data removed]",
      "text/plain": [
       "<Figure size 864x288 with 1 Axes>"
      ]
     },
     "metadata": {
      "needs_background": "light"
     },
     "output_type": "display_data"
    }
   ],
   "source": [
    "c = Counter(zip(x, y_train))\n",
    "s = [c[(n, r)] for n, r in zip(x, y_train)]\n",
    "\n",
    "plt.subplots(figsize=(12, 4))\n",
    "plt.scatter(x, y_train, marker=\"o\", s=s)\n",
    "plt.xlabel(\"Cocoa percent\")\n",
    "plt.ylabel(\"Rating\")\n",
    "plt.savefig(\"figures/rating_vs_cocoa_percent.pdf\", bbox_inches=\"tight\")\n",
    "plt.show()"
   ]
  },
  {
   "cell_type": "code",
   "execution_count": 95,
   "id": "cc3671bb",
   "metadata": {},
   "outputs": [
    {
     "data": {
      "image/png": "[encoded data removed]",
      "text/plain": [
       "<Figure size 864x288 with 1 Axes>"
      ]
     },
     "metadata": {
      "needs_background": "light"
     },
     "output_type": "display_data"
    }
   ],
   "source": [
    "x_scaled = x**4\n",
    "c = Counter(zip(x_scaled, y_train))\n",
    "s = [c[(n, r)] for n, r in zip(x_scaled, y_train)]\n",
    "\n",
    "plt.subplots(figsize=(12, 4))\n",
    "plt.scatter(x_scaled, y_train, marker=\"o\", s=s)\n",
    "plt.xlabel(\"Cocoa percent (scaled)\")\n",
    "plt.ylabel(\"Rating\")\n",
    "# plt.savefig(\"figures/rating_vs_cocoa_percent.pdf\", bbox_inches=\"tight\")\n",
    "plt.show()"
   ]
  },
  {
   "cell_type": "markdown",
   "id": "be4ae764",
   "metadata": {},
   "source": [
    "# Benchmark Models"
   ]
  },
  {
   "cell_type": "markdown",
   "id": "ede791b4",
   "metadata": {
    "heading_collapsed": true
   },
   "source": [
    "## Simple Median Model"
   ]
  },
  {
   "cell_type": "code",
   "execution_count": 96,
   "id": "8f338aa9",
   "metadata": {
    "hidden": true
   },
   "outputs": [],
   "source": [
    "class simple_median_model:\n",
    "    median = None\n",
    "\n",
    "    def fit(self, X=None, y=None):\n",
    "        self.median = y.median()\n",
    "\n",
    "    def predict(self, X):\n",
    "        return np.repeat(self.median, X.shape[0])"
   ]
  },
  {
   "cell_type": "code",
   "execution_count": 97,
   "id": "c0176a57",
   "metadata": {
    "hidden": true
   },
   "outputs": [
    {
     "name": "stdout",
     "output_type": "stream",
     "text": [
      "MSE:\t\t Train: 0.1967 \tTest: 0.1992\n",
      "MdAE:\t\t Train: 0.2500 \tTest: 0.2500\n",
      "Accuracy:\t Train: 0.1825 \tTest: 0.1825\n"
     ]
    }
   ],
   "source": [
    "median_model = simple_median_model()\n",
    "median_model.fit(y=y_train)\n",
    "print_scores(median_model.predict(X_train), median_model.predict(X_test))"
   ]
  },
  {
   "cell_type": "code",
   "execution_count": 98,
   "id": "6d8df2f9",
   "metadata": {
    "hidden": true
   },
   "outputs": [
    {
     "data": {
      "image/png": "[encoded data removed]",
      "text/plain": [
       "<Figure size 432x288 with 1 Axes>"
      ]
     },
     "metadata": {
      "needs_background": "light"
     },
     "output_type": "display_data"
    }
   ],
   "source": [
    "histogram_residuals(y_test, median_model.predict(X_test), \"simple_median_model\")"
   ]
  },
  {
   "cell_type": "markdown",
   "id": "914a7b25",
   "metadata": {
    "heading_collapsed": true
   },
   "source": [
    "## Baseline Regression Model"
   ]
  },
  {
   "cell_type": "code",
   "execution_count": 99,
   "id": "929ecc21",
   "metadata": {
    "hidden": true
   },
   "outputs": [],
   "source": [
    "baseline_predictors = [\"review_date\", \"cocoa_percent\", \"number_ingredients\"]"
   ]
  },
  {
   "cell_type": "code",
   "execution_count": 100,
   "id": "8328e898",
   "metadata": {
    "hidden": true
   },
   "outputs": [],
   "source": [
    "X_train_bl = X_train.loc[:, baseline_predictors]\n",
    "X_test_bl = X_test.loc[:, baseline_predictors]"
   ]
  },
  {
   "cell_type": "code",
   "execution_count": 101,
   "id": "bde65197",
   "metadata": {
    "hidden": true
   },
   "outputs": [
    {
     "data": {
      "text/plain": [
       "review_date           0.114318\n",
       "cocoa_percent        -0.135178\n",
       "number_ingredients   -0.056516\n",
       "dtype: float64"
      ]
     },
     "execution_count": 101,
     "metadata": {},
     "output_type": "execute_result"
    }
   ],
   "source": [
    "X_train_bl.apply(y_train.corr)"
   ]
  },
  {
   "cell_type": "code",
   "execution_count": 102,
   "id": "044d3826",
   "metadata": {
    "hidden": true
   },
   "outputs": [
    {
     "name": "stdout",
     "output_type": "stream",
     "text": [
      "MSE:\t\t Train: 0.1879 \tTest: 0.1876\n",
      "MdAE:\t\t Train: 0.2879 \tTest: 0.2924\n",
      "Accuracy:\t Train: 0.1990 \tTest: 0.2134\n"
     ]
    }
   ],
   "source": [
    "bl = LinearRegression()\n",
    "bl.fit(X_train_bl, y_train)\n",
    "print_scores(bl.predict(X_train_bl), bl.predict(X_test_bl))"
   ]
  },
  {
   "cell_type": "code",
   "execution_count": 103,
   "id": "aa85259d",
   "metadata": {
    "hidden": true
   },
   "outputs": [
    {
     "data": {
      "image/png": "[encoded data removed]",
      "text/plain": [
       "<Figure size 432x288 with 1 Axes>"
      ]
     },
     "metadata": {
      "needs_background": "light"
     },
     "output_type": "display_data"
    }
   ],
   "source": [
    "histogram_residuals(y_test, bl.predict(X_test_bl), \"linear_regression\")"
   ]
  },
  {
   "cell_type": "markdown",
   "id": "27c31094",
   "metadata": {},
   "source": [
    "# Linear Regression"
   ]
  },
  {
   "cell_type": "markdown",
   "id": "93e9b788",
   "metadata": {},
   "source": [
    "## Stepwise add features"
   ]
  },
  {
   "cell_type": "code",
   "execution_count": 299,
   "id": "b98062fe",
   "metadata": {},
   "outputs": [],
   "source": [
    "def linear_regression(cols):\n",
    "    X_train_ = X_train.loc[:, cols]\n",
    "    X_test_ = X_test.loc[:, cols]\n",
    "    \n",
    "    lr_ = LinearRegression()\n",
    "    lr_.fit(X_train_, y_train)\n",
    "    print_scores(lr_.predict(X_train_), lr_.predict(X_test_))"
   ]
  },
  {
   "cell_type": "code",
   "execution_count": 300,
   "id": "bd02c707",
   "metadata": {},
   "outputs": [
    {
     "data": {
      "text/plain": [
       "['cocoa_percent', 'number_ingredients', 'review_date']"
      ]
     },
     "execution_count": 300,
     "metadata": {},
     "output_type": "execute_result"
    }
   ],
   "source": [
    "features_dict[\"baseline\"]"
   ]
  },
  {
   "cell_type": "code",
   "execution_count": 301,
   "id": "ba6c991b",
   "metadata": {},
   "outputs": [
    {
     "name": "stdout",
     "output_type": "stream",
     "text": [
      "MSE:\t\t Train: 0.1879 \tTest: 0.1876\n",
      "MdAE:\t\t Train: 0.2879 \tTest: 0.2924\n",
      "Accuracy:\t Train: 0.1990 \tTest: 0.2134\n"
     ]
    }
   ],
   "source": [
    "cols = features_dict[\"baseline\"]\n",
    "linear_regression(cols)"
   ]
  },
  {
   "cell_type": "code",
   "execution_count": 302,
   "id": "af624041",
   "metadata": {},
   "outputs": [
    {
     "name": "stdout",
     "output_type": "stream",
     "text": [
      "MSE:\t\t Train: 0.1766 \tTest: 0.1832\n",
      "MdAE:\t\t Train: 0.2882 \tTest: 0.2972\n",
      "Accuracy:\t Train: 0.2076 \tTest: 0.2031\n"
     ]
    }
   ],
   "source": [
    "cols = features_dict[\"baseline\"].copy()\n",
    "for col in features_dict[\"one_hot_encoded\"].keys():\n",
    "    cols += features_dict[\"one_hot_encoded\"][col]\n",
    "cols\n",
    "linear_regression(cols)"
   ]
  },
  {
   "cell_type": "code",
   "execution_count": 303,
   "id": "92704c3e",
   "metadata": {},
   "outputs": [
    {
     "name": "stdout",
     "output_type": "stream",
     "text": [
      "MSE:\t\t Train: 0.1818 \tTest: 0.1752\n",
      "MdAE:\t\t Train: 0.2754 \tTest: 0.2734\n",
      "Accuracy:\t Train: 0.2087 \tTest: 0.2108\n"
     ]
    }
   ],
   "source": [
    "cols = features_dict[\"baseline\"] + features_dict[\"ingredients\"][\"dummies\"]\n",
    "linear_regression(cols)"
   ]
  },
  {
   "cell_type": "code",
   "execution_count": 310,
   "id": "cb727e62",
   "metadata": {},
   "outputs": [
    {
     "ename": "ValueError",
     "evalue": "Input X contains NaN.\nLinearRegression does not accept missing values encoded as NaN natively. For supervised learning, you might want to consider sklearn.ensemble.HistGradientBoostingClassifier and Regressor which accept missing values encoded as NaNs natively. Alternatively, it is possible to preprocess the data, for instance by using an imputer transformer in a pipeline or drop samples with missing values. See https://scikit-learn.org/stable/modules/impute.html You can find a list of all estimators that handle NaN values at the following page: https://scikit-learn.org/stable/modules/impute.html#estimators-that-handle-nan-values",
     "output_type": "error",
     "traceback": [
      "\u001b[1;31m---------------------------------------------------------------------------\u001b[0m",
      "\u001b[1;31mValueError\u001b[0m                                Traceback (most recent call last)",
      "Input \u001b[1;32mIn [310]\u001b[0m, in \u001b[0;36m<cell line: 2>\u001b[1;34m()\u001b[0m\n\u001b[0;32m      1\u001b[0m cols \u001b[38;5;241m=\u001b[39m features_dict[\u001b[38;5;124m\"\u001b[39m\u001b[38;5;124mbaseline\u001b[39m\u001b[38;5;124m\"\u001b[39m] \u001b[38;5;241m+\u001b[39m features_dict[\u001b[38;5;124m\"\u001b[39m\u001b[38;5;124mmost_memorable_characteristics\u001b[39m\u001b[38;5;124m\"\u001b[39m][\u001b[38;5;124m\"\u001b[39m\u001b[38;5;124m80\u001b[39m\u001b[38;5;124m%\u001b[39m\u001b[38;5;124m\"\u001b[39m]\n\u001b[1;32m----> 2\u001b[0m \u001b[43mlinear_regression\u001b[49m\u001b[43m(\u001b[49m\u001b[43mcols\u001b[49m\u001b[43m)\u001b[49m\n",
      "Input \u001b[1;32mIn [299]\u001b[0m, in \u001b[0;36mlinear_regression\u001b[1;34m(cols)\u001b[0m\n\u001b[0;32m      3\u001b[0m X_test_ \u001b[38;5;241m=\u001b[39m X_test\u001b[38;5;241m.\u001b[39mloc[:, cols]\n\u001b[0;32m      5\u001b[0m lr_ \u001b[38;5;241m=\u001b[39m LinearRegression()\n\u001b[1;32m----> 6\u001b[0m \u001b[43mlr_\u001b[49m\u001b[38;5;241;43m.\u001b[39;49m\u001b[43mfit\u001b[49m\u001b[43m(\u001b[49m\u001b[43mX_train_\u001b[49m\u001b[43m,\u001b[49m\u001b[43m \u001b[49m\u001b[43my_train\u001b[49m\u001b[43m)\u001b[49m\n\u001b[0;32m      7\u001b[0m print_scores(lr_\u001b[38;5;241m.\u001b[39mpredict(X_train_), lr_\u001b[38;5;241m.\u001b[39mpredict(X_test_))\n",
      "File \u001b[1;32m~\\AppData\\Local\\Programs\\Python\\Python38\\lib\\site-packages\\sklearn\\linear_model\\_base.py:684\u001b[0m, in \u001b[0;36mLinearRegression.fit\u001b[1;34m(self, X, y, sample_weight)\u001b[0m\n\u001b[0;32m    680\u001b[0m n_jobs_ \u001b[38;5;241m=\u001b[39m \u001b[38;5;28mself\u001b[39m\u001b[38;5;241m.\u001b[39mn_jobs\n\u001b[0;32m    682\u001b[0m accept_sparse \u001b[38;5;241m=\u001b[39m \u001b[38;5;28;01mFalse\u001b[39;00m \u001b[38;5;28;01mif\u001b[39;00m \u001b[38;5;28mself\u001b[39m\u001b[38;5;241m.\u001b[39mpositive \u001b[38;5;28;01melse\u001b[39;00m [\u001b[38;5;124m\"\u001b[39m\u001b[38;5;124mcsr\u001b[39m\u001b[38;5;124m\"\u001b[39m, \u001b[38;5;124m\"\u001b[39m\u001b[38;5;124mcsc\u001b[39m\u001b[38;5;124m\"\u001b[39m, \u001b[38;5;124m\"\u001b[39m\u001b[38;5;124mcoo\u001b[39m\u001b[38;5;124m\"\u001b[39m]\n\u001b[1;32m--> 684\u001b[0m X, y \u001b[38;5;241m=\u001b[39m \u001b[38;5;28;43mself\u001b[39;49m\u001b[38;5;241;43m.\u001b[39;49m\u001b[43m_validate_data\u001b[49m\u001b[43m(\u001b[49m\n\u001b[0;32m    685\u001b[0m \u001b[43m    \u001b[49m\u001b[43mX\u001b[49m\u001b[43m,\u001b[49m\u001b[43m \u001b[49m\u001b[43my\u001b[49m\u001b[43m,\u001b[49m\u001b[43m \u001b[49m\u001b[43maccept_sparse\u001b[49m\u001b[38;5;241;43m=\u001b[39;49m\u001b[43maccept_sparse\u001b[49m\u001b[43m,\u001b[49m\u001b[43m \u001b[49m\u001b[43my_numeric\u001b[49m\u001b[38;5;241;43m=\u001b[39;49m\u001b[38;5;28;43;01mTrue\u001b[39;49;00m\u001b[43m,\u001b[49m\u001b[43m \u001b[49m\u001b[43mmulti_output\u001b[49m\u001b[38;5;241;43m=\u001b[39;49m\u001b[38;5;28;43;01mTrue\u001b[39;49;00m\n\u001b[0;32m    686\u001b[0m \u001b[43m\u001b[49m\u001b[43m)\u001b[49m\n\u001b[0;32m    688\u001b[0m sample_weight \u001b[38;5;241m=\u001b[39m _check_sample_weight(\n\u001b[0;32m    689\u001b[0m     sample_weight, X, dtype\u001b[38;5;241m=\u001b[39mX\u001b[38;5;241m.\u001b[39mdtype, only_non_negative\u001b[38;5;241m=\u001b[39m\u001b[38;5;28;01mTrue\u001b[39;00m\n\u001b[0;32m    690\u001b[0m )\n\u001b[0;32m    692\u001b[0m X, y, X_offset, y_offset, X_scale \u001b[38;5;241m=\u001b[39m _preprocess_data(\n\u001b[0;32m    693\u001b[0m     X,\n\u001b[0;32m    694\u001b[0m     y,\n\u001b[1;32m   (...)\u001b[0m\n\u001b[0;32m    698\u001b[0m     sample_weight\u001b[38;5;241m=\u001b[39msample_weight,\n\u001b[0;32m    699\u001b[0m )\n",
      "File \u001b[1;32m~\\AppData\\Local\\Programs\\Python\\Python38\\lib\\site-packages\\sklearn\\base.py:596\u001b[0m, in \u001b[0;36mBaseEstimator._validate_data\u001b[1;34m(self, X, y, reset, validate_separately, **check_params)\u001b[0m\n\u001b[0;32m    594\u001b[0m         y \u001b[38;5;241m=\u001b[39m check_array(y, input_name\u001b[38;5;241m=\u001b[39m\u001b[38;5;124m\"\u001b[39m\u001b[38;5;124my\u001b[39m\u001b[38;5;124m\"\u001b[39m, \u001b[38;5;241m*\u001b[39m\u001b[38;5;241m*\u001b[39mcheck_y_params)\n\u001b[0;32m    595\u001b[0m     \u001b[38;5;28;01melse\u001b[39;00m:\n\u001b[1;32m--> 596\u001b[0m         X, y \u001b[38;5;241m=\u001b[39m \u001b[43mcheck_X_y\u001b[49m\u001b[43m(\u001b[49m\u001b[43mX\u001b[49m\u001b[43m,\u001b[49m\u001b[43m \u001b[49m\u001b[43my\u001b[49m\u001b[43m,\u001b[49m\u001b[43m \u001b[49m\u001b[38;5;241;43m*\u001b[39;49m\u001b[38;5;241;43m*\u001b[39;49m\u001b[43mcheck_params\u001b[49m\u001b[43m)\u001b[49m\n\u001b[0;32m    597\u001b[0m     out \u001b[38;5;241m=\u001b[39m X, y\n\u001b[0;32m    599\u001b[0m \u001b[38;5;28;01mif\u001b[39;00m \u001b[38;5;129;01mnot\u001b[39;00m no_val_X \u001b[38;5;129;01mand\u001b[39;00m check_params\u001b[38;5;241m.\u001b[39mget(\u001b[38;5;124m\"\u001b[39m\u001b[38;5;124mensure_2d\u001b[39m\u001b[38;5;124m\"\u001b[39m, \u001b[38;5;28;01mTrue\u001b[39;00m):\n",
      "File \u001b[1;32m~\\AppData\\Local\\Programs\\Python\\Python38\\lib\\site-packages\\sklearn\\utils\\validation.py:1074\u001b[0m, in \u001b[0;36mcheck_X_y\u001b[1;34m(X, y, accept_sparse, accept_large_sparse, dtype, order, copy, force_all_finite, ensure_2d, allow_nd, multi_output, ensure_min_samples, ensure_min_features, y_numeric, estimator)\u001b[0m\n\u001b[0;32m   1069\u001b[0m         estimator_name \u001b[38;5;241m=\u001b[39m _check_estimator_name(estimator)\n\u001b[0;32m   1070\u001b[0m     \u001b[38;5;28;01mraise\u001b[39;00m \u001b[38;5;167;01mValueError\u001b[39;00m(\n\u001b[0;32m   1071\u001b[0m         \u001b[38;5;124mf\u001b[39m\u001b[38;5;124m\"\u001b[39m\u001b[38;5;132;01m{\u001b[39;00mestimator_name\u001b[38;5;132;01m}\u001b[39;00m\u001b[38;5;124m requires y to be passed, but the target y is None\u001b[39m\u001b[38;5;124m\"\u001b[39m\n\u001b[0;32m   1072\u001b[0m     )\n\u001b[1;32m-> 1074\u001b[0m X \u001b[38;5;241m=\u001b[39m \u001b[43mcheck_array\u001b[49m\u001b[43m(\u001b[49m\n\u001b[0;32m   1075\u001b[0m \u001b[43m    \u001b[49m\u001b[43mX\u001b[49m\u001b[43m,\u001b[49m\n\u001b[0;32m   1076\u001b[0m \u001b[43m    \u001b[49m\u001b[43maccept_sparse\u001b[49m\u001b[38;5;241;43m=\u001b[39;49m\u001b[43maccept_sparse\u001b[49m\u001b[43m,\u001b[49m\n\u001b[0;32m   1077\u001b[0m \u001b[43m    \u001b[49m\u001b[43maccept_large_sparse\u001b[49m\u001b[38;5;241;43m=\u001b[39;49m\u001b[43maccept_large_sparse\u001b[49m\u001b[43m,\u001b[49m\n\u001b[0;32m   1078\u001b[0m \u001b[43m    \u001b[49m\u001b[43mdtype\u001b[49m\u001b[38;5;241;43m=\u001b[39;49m\u001b[43mdtype\u001b[49m\u001b[43m,\u001b[49m\n\u001b[0;32m   1079\u001b[0m \u001b[43m    \u001b[49m\u001b[43morder\u001b[49m\u001b[38;5;241;43m=\u001b[39;49m\u001b[43morder\u001b[49m\u001b[43m,\u001b[49m\n\u001b[0;32m   1080\u001b[0m \u001b[43m    \u001b[49m\u001b[43mcopy\u001b[49m\u001b[38;5;241;43m=\u001b[39;49m\u001b[43mcopy\u001b[49m\u001b[43m,\u001b[49m\n\u001b[0;32m   1081\u001b[0m \u001b[43m    \u001b[49m\u001b[43mforce_all_finite\u001b[49m\u001b[38;5;241;43m=\u001b[39;49m\u001b[43mforce_all_finite\u001b[49m\u001b[43m,\u001b[49m\n\u001b[0;32m   1082\u001b[0m \u001b[43m    \u001b[49m\u001b[43mensure_2d\u001b[49m\u001b[38;5;241;43m=\u001b[39;49m\u001b[43mensure_2d\u001b[49m\u001b[43m,\u001b[49m\n\u001b[0;32m   1083\u001b[0m \u001b[43m    \u001b[49m\u001b[43mallow_nd\u001b[49m\u001b[38;5;241;43m=\u001b[39;49m\u001b[43mallow_nd\u001b[49m\u001b[43m,\u001b[49m\n\u001b[0;32m   1084\u001b[0m \u001b[43m    \u001b[49m\u001b[43mensure_min_samples\u001b[49m\u001b[38;5;241;43m=\u001b[39;49m\u001b[43mensure_min_samples\u001b[49m\u001b[43m,\u001b[49m\n\u001b[0;32m   1085\u001b[0m \u001b[43m    \u001b[49m\u001b[43mensure_min_features\u001b[49m\u001b[38;5;241;43m=\u001b[39;49m\u001b[43mensure_min_features\u001b[49m\u001b[43m,\u001b[49m\n\u001b[0;32m   1086\u001b[0m \u001b[43m    \u001b[49m\u001b[43mestimator\u001b[49m\u001b[38;5;241;43m=\u001b[39;49m\u001b[43mestimator\u001b[49m\u001b[43m,\u001b[49m\n\u001b[0;32m   1087\u001b[0m \u001b[43m    \u001b[49m\u001b[43minput_name\u001b[49m\u001b[38;5;241;43m=\u001b[39;49m\u001b[38;5;124;43m\"\u001b[39;49m\u001b[38;5;124;43mX\u001b[39;49m\u001b[38;5;124;43m\"\u001b[39;49m\u001b[43m,\u001b[49m\n\u001b[0;32m   1088\u001b[0m \u001b[43m\u001b[49m\u001b[43m)\u001b[49m\n\u001b[0;32m   1090\u001b[0m y \u001b[38;5;241m=\u001b[39m _check_y(y, multi_output\u001b[38;5;241m=\u001b[39mmulti_output, y_numeric\u001b[38;5;241m=\u001b[39my_numeric, estimator\u001b[38;5;241m=\u001b[39mestimator)\n\u001b[0;32m   1092\u001b[0m check_consistent_length(X, y)\n",
      "File \u001b[1;32m~\\AppData\\Local\\Programs\\Python\\Python38\\lib\\site-packages\\sklearn\\utils\\validation.py:899\u001b[0m, in \u001b[0;36mcheck_array\u001b[1;34m(array, accept_sparse, accept_large_sparse, dtype, order, copy, force_all_finite, ensure_2d, allow_nd, ensure_min_samples, ensure_min_features, estimator, input_name)\u001b[0m\n\u001b[0;32m    893\u001b[0m         \u001b[38;5;28;01mraise\u001b[39;00m \u001b[38;5;167;01mValueError\u001b[39;00m(\n\u001b[0;32m    894\u001b[0m             \u001b[38;5;124m\"\u001b[39m\u001b[38;5;124mFound array with dim \u001b[39m\u001b[38;5;132;01m%d\u001b[39;00m\u001b[38;5;124m. \u001b[39m\u001b[38;5;132;01m%s\u001b[39;00m\u001b[38;5;124m expected <= 2.\u001b[39m\u001b[38;5;124m\"\u001b[39m\n\u001b[0;32m    895\u001b[0m             \u001b[38;5;241m%\u001b[39m (array\u001b[38;5;241m.\u001b[39mndim, estimator_name)\n\u001b[0;32m    896\u001b[0m         )\n\u001b[0;32m    898\u001b[0m     \u001b[38;5;28;01mif\u001b[39;00m force_all_finite:\n\u001b[1;32m--> 899\u001b[0m         \u001b[43m_assert_all_finite\u001b[49m\u001b[43m(\u001b[49m\n\u001b[0;32m    900\u001b[0m \u001b[43m            \u001b[49m\u001b[43marray\u001b[49m\u001b[43m,\u001b[49m\n\u001b[0;32m    901\u001b[0m \u001b[43m            \u001b[49m\u001b[43minput_name\u001b[49m\u001b[38;5;241;43m=\u001b[39;49m\u001b[43minput_name\u001b[49m\u001b[43m,\u001b[49m\n\u001b[0;32m    902\u001b[0m \u001b[43m            \u001b[49m\u001b[43mestimator_name\u001b[49m\u001b[38;5;241;43m=\u001b[39;49m\u001b[43mestimator_name\u001b[49m\u001b[43m,\u001b[49m\n\u001b[0;32m    903\u001b[0m \u001b[43m            \u001b[49m\u001b[43mallow_nan\u001b[49m\u001b[38;5;241;43m=\u001b[39;49m\u001b[43mforce_all_finite\u001b[49m\u001b[43m \u001b[49m\u001b[38;5;241;43m==\u001b[39;49m\u001b[43m \u001b[49m\u001b[38;5;124;43m\"\u001b[39;49m\u001b[38;5;124;43mallow-nan\u001b[39;49m\u001b[38;5;124;43m\"\u001b[39;49m\u001b[43m,\u001b[49m\n\u001b[0;32m    904\u001b[0m \u001b[43m        \u001b[49m\u001b[43m)\u001b[49m\n\u001b[0;32m    906\u001b[0m \u001b[38;5;28;01mif\u001b[39;00m ensure_min_samples \u001b[38;5;241m>\u001b[39m \u001b[38;5;241m0\u001b[39m:\n\u001b[0;32m    907\u001b[0m     n_samples \u001b[38;5;241m=\u001b[39m _num_samples(array)\n",
      "File \u001b[1;32m~\\AppData\\Local\\Programs\\Python\\Python38\\lib\\site-packages\\sklearn\\utils\\validation.py:146\u001b[0m, in \u001b[0;36m_assert_all_finite\u001b[1;34m(X, allow_nan, msg_dtype, estimator_name, input_name)\u001b[0m\n\u001b[0;32m    124\u001b[0m         \u001b[38;5;28;01mif\u001b[39;00m (\n\u001b[0;32m    125\u001b[0m             \u001b[38;5;129;01mnot\u001b[39;00m allow_nan\n\u001b[0;32m    126\u001b[0m             \u001b[38;5;129;01mand\u001b[39;00m estimator_name\n\u001b[1;32m   (...)\u001b[0m\n\u001b[0;32m    130\u001b[0m             \u001b[38;5;66;03m# Improve the error message on how to handle missing values in\u001b[39;00m\n\u001b[0;32m    131\u001b[0m             \u001b[38;5;66;03m# scikit-learn.\u001b[39;00m\n\u001b[0;32m    132\u001b[0m             msg_err \u001b[38;5;241m+\u001b[39m\u001b[38;5;241m=\u001b[39m (\n\u001b[0;32m    133\u001b[0m                 \u001b[38;5;124mf\u001b[39m\u001b[38;5;124m\"\u001b[39m\u001b[38;5;130;01m\\n\u001b[39;00m\u001b[38;5;132;01m{\u001b[39;00mestimator_name\u001b[38;5;132;01m}\u001b[39;00m\u001b[38;5;124m does not accept missing values\u001b[39m\u001b[38;5;124m\"\u001b[39m\n\u001b[0;32m    134\u001b[0m                 \u001b[38;5;124m\"\u001b[39m\u001b[38;5;124m encoded as NaN natively. For supervised learning, you might want\u001b[39m\u001b[38;5;124m\"\u001b[39m\n\u001b[1;32m   (...)\u001b[0m\n\u001b[0;32m    144\u001b[0m                 \u001b[38;5;124m\"\u001b[39m\u001b[38;5;124m#estimators-that-handle-nan-values\u001b[39m\u001b[38;5;124m\"\u001b[39m\n\u001b[0;32m    145\u001b[0m             )\n\u001b[1;32m--> 146\u001b[0m         \u001b[38;5;28;01mraise\u001b[39;00m \u001b[38;5;167;01mValueError\u001b[39;00m(msg_err)\n\u001b[0;32m    148\u001b[0m \u001b[38;5;66;03m# for object dtype data, we only check for NaNs (GH-13254)\u001b[39;00m\n\u001b[0;32m    149\u001b[0m \u001b[38;5;28;01melif\u001b[39;00m X\u001b[38;5;241m.\u001b[39mdtype \u001b[38;5;241m==\u001b[39m np\u001b[38;5;241m.\u001b[39mdtype(\u001b[38;5;124m\"\u001b[39m\u001b[38;5;124mobject\u001b[39m\u001b[38;5;124m\"\u001b[39m) \u001b[38;5;129;01mand\u001b[39;00m \u001b[38;5;129;01mnot\u001b[39;00m allow_nan:\n",
      "\u001b[1;31mValueError\u001b[0m: Input X contains NaN.\nLinearRegression does not accept missing values encoded as NaN natively. For supervised learning, you might want to consider sklearn.ensemble.HistGradientBoostingClassifier and Regressor which accept missing values encoded as NaNs natively. Alternatively, it is possible to preprocess the data, for instance by using an imputer transformer in a pipeline or drop samples with missing values. See https://scikit-learn.org/stable/modules/impute.html You can find a list of all estimators that handle NaN values at the following page: https://scikit-learn.org/stable/modules/impute.html#estimators-that-handle-nan-values"
     ]
    }
   ],
   "source": [
    "cols = features_dict[\"baseline\"] + features_dict[\"most_memorable_characteristics\"][\"80%\"]\n",
    "linear_regression(cols)"
   ]
  },
  {
   "cell_type": "code",
   "execution_count": 331,
   "id": "9913460b",
   "metadata": {},
   "outputs": [
    {
     "name": "stdout",
     "output_type": "stream",
     "text": [
      "Linear Regression:\n",
      "R^2:\t\t Train: 0.1062 , Valid: 0.0737\n",
      "MSE:\t\t\t\t Valid: 0.1829\n",
      "Accuracy:\t Train: 0.2019 , Valid: 0.2452\n",
      "\n",
      "Decision Tree Classifier:\n",
      "Accuracy:\t Train: 0.2966 , Valid: 0.2201\n"
     ]
    }
   ],
   "source": [
    "cols = scaled_numeric_cols + ingr_number_scaled_col + ingr_dummy_cols\n",
    "lr_dtc(cols)"
   ]
  },
  {
   "cell_type": "markdown",
   "id": "80e64ba7",
   "metadata": {},
   "source": [
    "## Full model"
   ]
  },
  {
   "cell_type": "code",
   "execution_count": 332,
   "id": "0d3be672",
   "metadata": {},
   "outputs": [],
   "source": [
    "import statsmodels.api as sm"
   ]
  },
  {
   "cell_type": "code",
   "execution_count": 339,
   "id": "7dff1b19",
   "metadata": {},
   "outputs": [
    {
     "name": "stdout",
     "output_type": "stream",
     "text": [
      "['review_date_01', 'cocoa_percent_p4', 'no_ingredients_exp', 'sugar', 'sweetener', 'cocoa_butter', 'vanilla', 'lecithin', 'salt', 'manufac_Soma', 'manufac_Fresco', 'manufac_Arete', 'manufac_Bonnat', 'manufac_A. Morin', 'loc_U.S.A.', 'loc_France', 'loc_Canada', 'loc_U.K.', 'loc_Italy', 'loc_Belgium', 'loc_Ecuador', 'loc_Australia', 'org_Venezuela', 'org_Peru', 'org_Dominican Republic', 'org_Ecuador', 'org_Madagascar', 'org_Blend', 'org_Nicaragua', 'org_Brazil', 'org_Colombia', 'org_Tanzania', 'org_Bolivia', 'org_Belize', 'org_Vietnam', 'org_Guatemala', 'org_Mexico', 'flavour1', 'flavour2', 'flavour3', 'flavour4', 'flavour5', 'flavour6', 'flavour7', 'flavour8', 'flavour9', 'flavour10', 'flavour11', 'flavour12', 'flavour13', 'flavour14', 'flavour15', 'flavour16', 'flavour17', 'flavour18', 'flavour19', 'flavour20', 'flavour21', 'flavour22']\n"
     ]
    }
   ],
   "source": [
    "regressors_lr = (\n",
    "    scaled_numeric_cols\n",
    "    + ingr_number_scaled_col\n",
    "    + ingr_seperated_cols\n",
    "    + manufac_dummy_cols\n",
    "    + location_dummy_cols\n",
    "    + origin_dummy_cols\n",
    "    + flavour_emb_pca80_cols\n",
    ")\n",
    "print(regressors_lr)"
   ]
  },
  {
   "cell_type": "code",
   "execution_count": 340,
   "id": "639a7ca5",
   "metadata": {},
   "outputs": [],
   "source": [
    "X_train_lr = X_train.loc[:, regressors_lr]\n",
    "X_test_lr = X_test.loc[:, regressors_lr]"
   ]
  },
  {
   "cell_type": "code",
   "execution_count": 341,
   "id": "683982dd",
   "metadata": {},
   "outputs": [
    {
     "name": "stdout",
     "output_type": "stream",
     "text": [
      "R^2:\t\t Train: 0.3813 , Valid: 0.2975\n",
      "MSE:\t\t\t\t Valid: 0.1387\n",
      "Accuracy:\t Train: 0.2812 , Valid: 0.2703\n"
     ]
    }
   ],
   "source": [
    "lr = LinearRegression()\n",
    "lr.fit(X_train_lr, y_train)\n",
    "print_scores(lr, X_train_lr, X_test_lr)"
   ]
  },
  {
   "cell_type": "markdown",
   "id": "32f6de45",
   "metadata": {},
   "source": [
    "with scaled_numeric_cols, ingr_seperated_cols, location_dummy_cols (5%), origin_dummy_cols (5%) only: $\\newline$\n",
    "Train R2 =  0.11503917722373813 , Valid R2 =  0.057128032451005284 , Valid MSE =  0.19577608470025032"
   ]
  },
  {
   "cell_type": "code",
   "execution_count": 186,
   "id": "2beeb2a7",
   "metadata": {
    "scrolled": true
   },
   "outputs": [
    {
     "name": "stdout",
     "output_type": "stream",
     "text": [
      "                            OLS Regression Results                            \n",
      "==============================================================================\n",
      "Dep. Variable:                 rating   R-squared:                       0.370\n",
      "Model:                            OLS   Adj. R-squared:                  0.352\n",
      "Method:                 Least Squares   F-statistic:                     21.09\n",
      "Date:                Wed, 29 Jun 2022   Prob (F-statistic):          5.50e-161\n",
      "Time:                        09:21:50   Log-Likelihood:                -778.06\n",
      "No. Observations:                2070   AIC:                             1670.\n",
      "Df Residuals:                    2013   BIC:                             1991.\n",
      "Df Model:                          56                                         \n",
      "Covariance Type:            nonrobust                                         \n",
      "==========================================================================================\n",
      "                             coef    std err          t      P>|t|      [0.025      0.975]\n",
      "------------------------------------------------------------------------------------------\n",
      "const                      2.9589      0.063     47.017      0.000       2.835       3.082\n",
      "review_date_01             0.0862      0.037      2.304      0.021       0.013       0.160\n",
      "cocoa_percent_p4          -0.3663      0.088     -4.148      0.000      -0.539      -0.193\n",
      "no_ingredients_exp         0.0005      0.001      0.847      0.397      -0.001       0.002\n",
      "sugar                      0.3072      0.049      6.212      0.000       0.210       0.404\n",
      "sweetener                  0.1777      0.071      2.520      0.012       0.039       0.316\n",
      "cocoa_butter               0.0235      0.021      1.136      0.256      -0.017       0.064\n",
      "vanilla                   -0.2108      0.048     -4.373      0.000      -0.305      -0.116\n",
      "lecithin                  -0.0647      0.040     -1.602      0.109      -0.144       0.015\n",
      "salt                      -0.1236      0.088     -1.408      0.159      -0.296       0.049\n",
      "manufac_Soma               0.2074      0.065      3.196      0.001       0.080       0.335\n",
      "manufac_Fresco             0.1379      0.063      2.188      0.029       0.014       0.261\n",
      "manufac_Arete              0.2350      0.071      3.322      0.001       0.096       0.374\n",
      "manufac_Bonnat             0.2034      0.083      2.438      0.015       0.040       0.367\n",
      "manufac_A. Morin           0.1312      0.081      1.622      0.105      -0.027       0.290\n",
      "loc_U.S.A.                -0.0500      0.021     -2.374      0.018      -0.091      -0.009\n",
      "loc_France                 0.0253      0.042      0.600      0.549      -0.057       0.108\n",
      "loc_Canada                 0.0032      0.041      0.079      0.937      -0.077       0.083\n",
      "loc_U.K.                  -0.0622      0.040     -1.566      0.118      -0.140       0.016\n",
      "loc_Italy                  0.0525      0.050      1.050      0.294      -0.046       0.150\n",
      "loc_Belgium               -0.0864      0.050     -1.739      0.082      -0.184       0.011\n",
      "loc_Ecuador               -0.1160      0.069     -1.690      0.091      -0.251       0.019\n",
      "loc_Australia              0.1033      0.057      1.819      0.069      -0.008       0.215\n",
      "org_Venezuela              0.0799      0.031      2.576      0.010       0.019       0.141\n",
      "org_Peru                  -0.0165      0.031     -0.535      0.592      -0.077       0.044\n",
      "org_Dominican Republic     0.0374      0.032      1.181      0.238      -0.025       0.100\n",
      "org_Ecuador                0.0901      0.038      2.400      0.016       0.016       0.164\n",
      "org_Madagascar             0.0426      0.035      1.224      0.221      -0.026       0.111\n",
      "org_Blend                 -0.0335      0.038     -0.882      0.378      -0.108       0.041\n",
      "org_Nicaragua              0.0197      0.043      0.463      0.644      -0.064       0.103\n",
      "org_Brazil                 0.0868      0.050      1.749      0.081      -0.011       0.184\n",
      "org_Colombia               0.0242      0.049      0.499      0.618      -0.071       0.119\n",
      "org_Tanzania              -0.0106      0.049     -0.217      0.829      -0.107       0.085\n",
      "org_Bolivia                0.0065      0.049      0.133      0.894      -0.089       0.102\n",
      "org_Belize                 0.0485      0.051      0.957      0.339      -0.051       0.148\n",
      "org_Vietnam                0.0418      0.051      0.819      0.413      -0.058       0.142\n",
      "org_Guatemala              0.0873      0.052      1.687      0.092      -0.014       0.189\n",
      "org_Mexico                -0.1168      0.057     -2.036      0.042      -0.229      -0.004\n",
      "flavour1                  -0.3329      0.024    -13.621      0.000      -0.381      -0.285\n",
      "flavour2                  -0.2353      0.031     -7.570      0.000      -0.296      -0.174\n",
      "flavour3                   0.1232      0.034      3.589      0.000       0.056       0.191\n",
      "flavour4                  -0.1627      0.040     -4.042      0.000      -0.242      -0.084\n",
      "flavour5                  -0.1558      0.045     -3.469      0.001      -0.244      -0.068\n",
      "flavour6                   0.5363      0.047     11.481      0.000       0.445       0.628\n",
      "flavour7                  -0.0348      0.049     -0.707      0.480      -0.131       0.062\n",
      "flavour8                  -0.5781      0.054    -10.690      0.000      -0.684      -0.472\n",
      "flavour9                   0.0588      0.063      0.940      0.347      -0.064       0.181\n",
      "flavour10                  0.3859      0.063      6.140      0.000       0.263       0.509\n",
      "flavour11                 -0.0743      0.064     -1.165      0.244      -0.199       0.051\n",
      "flavour12                 -0.5599      0.070     -8.015      0.000      -0.697      -0.423\n",
      "flavour13                  0.1297      0.075      1.740      0.082      -0.017       0.276\n",
      "flavour14                  0.0956      0.080      1.199      0.231      -0.061       0.252\n",
      "flavour15                 -0.2775      0.084     -3.309      0.001      -0.442      -0.113\n",
      "flavour16                 -0.3704      0.089     -4.153      0.000      -0.545      -0.195\n",
      "flavour17                 -0.6904      0.089     -7.771      0.000      -0.865      -0.516\n",
      "flavour18                 -0.0331      0.096     -0.347      0.729      -0.221       0.154\n",
      "flavour19                 -0.1694      0.096     -1.757      0.079      -0.359       0.020\n",
      "==============================================================================\n",
      "Omnibus:                       48.457   Durbin-Watson:                   2.040\n",
      "Prob(Omnibus):                  0.000   Jarque-Bera (JB):               65.355\n",
      "Skew:                          -0.270   Prob(JB):                     6.43e-15\n",
      "Kurtosis:                       3.683   Cond. No.                         736.\n",
      "==============================================================================\n",
      "\n",
      "Notes:\n",
      "[1] Standard Errors assume that the covariance matrix of the errors is correctly specified.\n"
     ]
    }
   ],
   "source": [
    "X = sm.add_constant(X_train_lr)\n",
    "est = sm.OLS(y_train, X).fit()\n",
    "print(est.summary())"
   ]
  },
  {
   "cell_type": "markdown",
   "id": "6b143483",
   "metadata": {},
   "source": [
    "## Backward Elimination"
   ]
  },
  {
   "cell_type": "code",
   "execution_count": 187,
   "id": "83328c2d",
   "metadata": {},
   "outputs": [
    {
     "name": "stdout",
     "output_type": "stream",
     "text": [
      "drop: ['loc_Canada']\n",
      "drop: ['org_Bolivia']\n",
      "drop: ['org_Tanzania']\n",
      "drop: ['flavour18']\n",
      "drop: ['org_Nicaragua']\n",
      "drop: ['org_Colombia']\n",
      "drop: ['loc_France']\n",
      "drop: ['flavour7']\n",
      "drop: ['org_Peru']\n",
      "drop: ['no_ingredients_exp']\n",
      "drop: ['org_Blend']\n",
      "drop: ['loc_Italy']\n",
      "drop: ['org_Vietnam']\n",
      "drop: ['flavour9']\n",
      "drop: ['salt']\n",
      "drop: ['org_Belize']\n",
      "drop: ['flavour14']\n",
      "drop: ['flavour11']\n",
      "drop: ['cocoa_butter']\n",
      "drop: ['org_Dominican Republic']\n",
      "drop: ['org_Madagascar']\n",
      "drop: ['lecithin']\n",
      "drop: ['org_Guatemala']\n",
      "drop: ['flavour19']\n",
      "drop: ['loc_U.K.']\n"
     ]
    }
   ],
   "source": [
    "est = sm.OLS(y_train, X).fit()\n",
    "p = est.pvalues.max()\n",
    "drop_cols = []\n",
    "\n",
    "while p > 0.1:\n",
    "    drop = est.pvalues[est.pvalues==p].index.to_list()\n",
    "    print(\"drop:\", drop)\n",
    "    \n",
    "    drop_cols = drop_cols + drop\n",
    "    X_reduced = X.loc[:, ~X.columns.isin(drop_cols)]\n",
    "    est = sm.OLS(y_train, X_reduced).fit()\n",
    "    \n",
    "    p = est.pvalues.max()"
   ]
  },
  {
   "cell_type": "code",
   "execution_count": 188,
   "id": "68a65bba",
   "metadata": {},
   "outputs": [
    {
     "name": "stdout",
     "output_type": "stream",
     "text": [
      "Index(['review_date_01', 'cocoa_percent_p4', 'sugar', 'sweetener', 'vanilla',\n",
      "       'manufac_Soma', 'manufac_Fresco', 'manufac_Arete', 'manufac_Bonnat',\n",
      "       'manufac_A. Morin', 'loc_U.S.A.', 'loc_Belgium', 'loc_Ecuador',\n",
      "       'loc_Australia', 'org_Venezuela', 'org_Ecuador', 'org_Brazil',\n",
      "       'org_Mexico', 'flavour1', 'flavour2', 'flavour3', 'flavour4',\n",
      "       'flavour5', 'flavour6', 'flavour8', 'flavour10', 'flavour12',\n",
      "       'flavour13', 'flavour15', 'flavour16', 'flavour17'],\n",
      "      dtype='object')\n"
     ]
    }
   ],
   "source": [
    "X_train_reduced = X_train_lr.loc[:, ~X_train_lr.columns.isin(drop_cols)]\n",
    "X_test_reduced = X_test_lr.loc[:, ~X_test_lr.columns.isin(drop_cols)]\n",
    "print(X_train_reduced.columns)"
   ]
  },
  {
   "cell_type": "code",
   "execution_count": 189,
   "id": "5d305a10",
   "metadata": {},
   "outputs": [
    {
     "name": "stdout",
     "output_type": "stream",
     "text": [
      "R^2:\t\t Train: 0.3622 , Valid: 0.2668\n",
      "MSE:\t\t\t\t Valid: 0.1448\n",
      "Accuracy:\t Train: 0.2763 , Valid: 0.2587\n"
     ]
    }
   ],
   "source": [
    "lr_reduced = LinearRegression()\n",
    "lr_reduced.fit(X_train_reduced, y_train)\n",
    "print_scores(lr_reduced, X_train_reduced, X_test_reduced)"
   ]
  },
  {
   "cell_type": "markdown",
   "id": "36ef15ff",
   "metadata": {},
   "source": [
    "## Lasso"
   ]
  },
  {
   "cell_type": "code",
   "execution_count": 342,
   "id": "64bf49bf",
   "metadata": {},
   "outputs": [],
   "source": [
    "from sklearn.linear_model import Lasso"
   ]
  },
  {
   "cell_type": "code",
   "execution_count": 352,
   "id": "3151a881",
   "metadata": {},
   "outputs": [],
   "source": [
    "regressors_clf = (\n",
    "    scaled_numeric_cols\n",
    "    + ingr_number_scaled_col\n",
    "    + ingr_seperated_cols\n",
    "    + ingr_dummy_cols\n",
    "    + manufac_dummy_cols\n",
    "    + location_dummy_cols\n",
    "    + origin_dummy_cols\n",
    "    + flavour_emb_pca95_cols\n",
    ")"
   ]
  },
  {
   "cell_type": "code",
   "execution_count": 353,
   "id": "ecc8998a",
   "metadata": {},
   "outputs": [],
   "source": [
    "X_train_clf = X_train.loc[:, regressors_clf]\n",
    "X_test_clf = X_test.loc[:, regressors_clf]"
   ]
  },
  {
   "cell_type": "code",
   "execution_count": 354,
   "id": "d516408b",
   "metadata": {},
   "outputs": [
    {
     "name": "stdout",
     "output_type": "stream",
     "text": [
      "R^2:\t\t Train: 0.4241 , Valid: 0.3443\n",
      "MSE:\t\t\t\t Valid: 0.1295\n",
      "Accuracy:\t Train: 0.2889 , Valid: 0.2934\n"
     ]
    }
   ],
   "source": [
    "clf = Lasso(alpha=0.001)\n",
    "clf.fit(X_train_clf, y_train)\n",
    "print_scores(clf, X_train_clf, X_test_clf)"
   ]
  },
  {
   "cell_type": "code",
   "execution_count": 355,
   "id": "21ac4f7c",
   "metadata": {
    "scrolled": true
   },
   "outputs": [
    {
     "name": "stderr",
     "output_type": "stream",
     "text": [
      "C:\\Users\\Ella\\AppData\\Local\\Programs\\Python\\Python38\\lib\\site-packages\\sklearn\\linear_model\\_coordinate_descent.py:648: ConvergenceWarning: Objective did not converge. You might want to increase the number of iterations, check the scale of the features or consider increasing regularisation. Duality gap: 1.871e-01, tolerance: 4.078e-02\n",
      "  model = cd_fast.enet_coordinate_descent(\n",
      "C:\\Users\\Ella\\AppData\\Local\\Programs\\Python\\Python38\\lib\\site-packages\\sklearn\\linear_model\\_coordinate_descent.py:648: ConvergenceWarning: Objective did not converge. You might want to increase the number of iterations, check the scale of the features or consider increasing regularisation. Duality gap: 9.137e-02, tolerance: 4.078e-02\n",
      "  model = cd_fast.enet_coordinate_descent(\n",
      "C:\\Users\\Ella\\AppData\\Local\\Programs\\Python\\Python38\\lib\\site-packages\\sklearn\\linear_model\\_coordinate_descent.py:648: ConvergenceWarning: Objective did not converge. You might want to increase the number of iterations, check the scale of the features or consider increasing regularisation. Duality gap: 5.322e-02, tolerance: 4.078e-02\n",
      "  model = cd_fast.enet_coordinate_descent(\n",
      "C:\\Users\\Ella\\AppData\\Local\\Programs\\Python\\Python38\\lib\\site-packages\\sklearn\\linear_model\\_coordinate_descent.py:648: ConvergenceWarning: Objective did not converge. You might want to increase the number of iterations, check the scale of the features or consider increasing regularisation. Duality gap: 4.426e-02, tolerance: 4.078e-02\n",
      "  model = cd_fast.enet_coordinate_descent(\n",
      "C:\\Users\\Ella\\AppData\\Local\\Programs\\Python\\Python38\\lib\\site-packages\\sklearn\\linear_model\\_coordinate_descent.py:648: ConvergenceWarning: Objective did not converge. You might want to increase the number of iterations, check the scale of the features or consider increasing regularisation. Duality gap: 4.415e-02, tolerance: 4.078e-02\n",
      "  model = cd_fast.enet_coordinate_descent(\n"
     ]
    }
   ],
   "source": [
    "alphas = np.arange(5e-05, 1e-03, 1e-05)\n",
    "lasso_score = []\n",
    "lasso_mse = []\n",
    "\n",
    "for alpha in alphas:\n",
    "    clf = Lasso(alpha=alpha)\n",
    "    clf.fit(X_train_clf, y_train)\n",
    "    score_ = clf.score(X_test_clf, y_test)\n",
    "    lasso_score.append(score_)\n",
    "    mse_ = mse(clf.predict(X_test_clf), y_test)\n",
    "    lasso_mse.append(mse_)"
   ]
  },
  {
   "cell_type": "code",
   "execution_count": 356,
   "id": "ac4d96bb",
   "metadata": {},
   "outputs": [
    {
     "data": {
      "text/plain": [
       "1    0.00006\n",
       "Name: alpha, dtype: float64"
      ]
     },
     "execution_count": 356,
     "metadata": {},
     "output_type": "execute_result"
    }
   ],
   "source": [
    "lasso_score_df = pd.DataFrame({\"alpha\": alphas, \"score\": lasso_score})\n",
    "lasso_score_df.loc[lasso_score_df[\"score\"]==lasso_score_df[\"score\"].max(), \"alpha\"]"
   ]
  },
  {
   "cell_type": "code",
   "execution_count": 357,
   "id": "eb8829ae",
   "metadata": {
    "cell_style": "split"
   },
   "outputs": [
    {
     "data": {
      "text/plain": [
       "[<matplotlib.lines.Line2D at 0x23ba4a24760>]"
      ]
     },
     "execution_count": 357,
     "metadata": {},
     "output_type": "execute_result"
    },
    {
     "data": {
      "image/png": "[encoded data removed]",
      "text/plain": [
       "<Figure size 432x288 with 1 Axes>"
      ]
     },
     "metadata": {
      "needs_background": "light"
     },
     "output_type": "display_data"
    }
   ],
   "source": [
    "plt.plot(alphas, lasso_score)"
   ]
  },
  {
   "cell_type": "code",
   "execution_count": 358,
   "id": "14b7446d",
   "metadata": {
    "cell_style": "split"
   },
   "outputs": [
    {
     "data": {
      "text/plain": [
       "[<matplotlib.lines.Line2D at 0x23ba4d3a490>]"
      ]
     },
     "execution_count": 358,
     "metadata": {},
     "output_type": "execute_result"
    },
    {
     "data": {
      "image/png": "[encoded data removed]",
      "text/plain": [
       "<Figure size 432x288 with 1 Axes>"
      ]
     },
     "metadata": {
      "needs_background": "light"
     },
     "output_type": "display_data"
    }
   ],
   "source": [
    "plt.plot(alphas, lasso_mse)"
   ]
  },
  {
   "cell_type": "code",
   "execution_count": 360,
   "id": "ea90a1fa",
   "metadata": {},
   "outputs": [
    {
     "name": "stdout",
     "output_type": "stream",
     "text": [
      "R^2:\t\t Train: 0.5005 , Valid: 0.3985\n",
      "MSE:\t\t\t\t Valid: 0.1187\n",
      "Accuracy:\t Train: 0.3425 , Valid: 0.3205\n"
     ]
    },
    {
     "name": "stderr",
     "output_type": "stream",
     "text": [
      "C:\\Users\\Ella\\AppData\\Local\\Programs\\Python\\Python38\\lib\\site-packages\\sklearn\\linear_model\\_coordinate_descent.py:648: ConvergenceWarning: Objective did not converge. You might want to increase the number of iterations, check the scale of the features or consider increasing regularisation. Duality gap: 9.137e-02, tolerance: 4.078e-02\n",
      "  model = cd_fast.enet_coordinate_descent(\n"
     ]
    }
   ],
   "source": [
    "clf = Lasso(alpha=0.00006)\n",
    "clf.fit(X_train_clf, y_train)\n",
    "print_scores(clf, X_train_clf, X_test_clf)"
   ]
  },
  {
   "cell_type": "markdown",
   "id": "8e9a83f8",
   "metadata": {
    "heading_collapsed": true
   },
   "source": [
    "# Pure text embedding model"
   ]
  },
  {
   "cell_type": "markdown",
   "id": "314d12be",
   "metadata": {
    "hidden": true
   },
   "source": [
    "Predict the rating using the column \"most_memorable_characteristics\" only."
   ]
  },
  {
   "cell_type": "code",
   "execution_count": 193,
   "id": "adb5244f",
   "metadata": {
    "hidden": true
   },
   "outputs": [
    {
     "name": "stdout",
     "output_type": "stream",
     "text": [
      "Version:  2.9.1\n",
      "Eager mode:  True\n",
      "Hub version:  0.12.0\n",
      "GPU is NOT AVAILABLE\n"
     ]
    }
   ],
   "source": [
    "import tensorflow as tf\n",
    "\n",
    "print(\"Version: \", tf.__version__)\n",
    "print(\"Eager mode: \", tf.executing_eagerly())\n",
    "print(\"Hub version: \", hub.__version__)\n",
    "print(\"GPU is\", \"available\" if tf.config.list_physical_devices('GPU') else \"NOT AVAILABLE\")"
   ]
  },
  {
   "cell_type": "code",
   "execution_count": 203,
   "id": "59a577d6",
   "metadata": {
    "hidden": true
   },
   "outputs": [],
   "source": [
    "model_url = \"https://tfhub.dev/google/Wiki-words-250-with-normalization/2\"\n",
    "hub_layer = hub.KerasLayer(model_url, input_shape=[], dtype=tf.string, trainable=False)"
   ]
  },
  {
   "cell_type": "code",
   "execution_count": 271,
   "id": "457bdef0",
   "metadata": {
    "hidden": true
   },
   "outputs": [
    {
     "name": "stdout",
     "output_type": "stream",
     "text": [
      "Model: \"sequential_4\"\n",
      "_________________________________________________________________\n",
      " Layer (type)                Output Shape              Param #   \n",
      "=================================================================\n",
      " keras_layer_1 (KerasLayer)  (None, 250)               252343750 \n",
      "                                                                 \n",
      " dense_8 (Dense)             (None, 16)                4016      \n",
      "                                                                 \n",
      " dense_9 (Dense)             (None, 1)                 17        \n",
      "                                                                 \n",
      "=================================================================\n",
      "Total params: 252,347,783\n",
      "Trainable params: 4,033\n",
      "Non-trainable params: 252,343,750\n",
      "_________________________________________________________________\n"
     ]
    }
   ],
   "source": [
    "model = tf.keras.Sequential()\n",
    "model.add(hub_layer)\n",
    "model.add(tf.keras.layers.Dense(16, activation=\"relu\"))\n",
    "model.add(tf.keras.layers.Dense(1))\n",
    "\n",
    "model.summary()"
   ]
  },
  {
   "cell_type": "code",
   "execution_count": 272,
   "id": "0b72928a",
   "metadata": {
    "hidden": true
   },
   "outputs": [],
   "source": [
    "model.compile(\n",
    "    optimizer=\"adam\",\n",
    "    loss=tf.losses.MeanSquaredError(),\n",
    "    metrics=[tf.metrics.MeanAbsoluteError(name=\"MAE\")],\n",
    ")"
   ]
  },
  {
   "cell_type": "code",
   "execution_count": 273,
   "id": "deb0c4f2",
   "metadata": {
    "hidden": true
   },
   "outputs": [],
   "source": [
    "early_stopping = tf.keras.callbacks.EarlyStopping(patience=5, restore_best_weights=True)"
   ]
  },
  {
   "cell_type": "code",
   "execution_count": 274,
   "id": "9f39cbd1",
   "metadata": {
    "hidden": true,
    "scrolled": true
   },
   "outputs": [
    {
     "name": "stdout",
     "output_type": "stream",
     "text": [
      "Epoch 1/200\n",
      "30/30 [==============================] - 1s 21ms/step - loss: 6.7317 - MAE: 2.5249 - val_loss: 3.2452 - val_MAE: 1.7279\n",
      "Epoch 2/200\n",
      "30/30 [==============================] - 0s 15ms/step - loss: 1.6393 - MAE: 1.1097 - val_loss: 0.5850 - val_MAE: 0.6135\n",
      "Epoch 3/200\n",
      "30/30 [==============================] - 0s 15ms/step - loss: 0.5477 - MAE: 0.5825 - val_loss: 0.4867 - val_MAE: 0.5496\n",
      "Epoch 4/200\n",
      "30/30 [==============================] - 0s 13ms/step - loss: 0.4916 - MAE: 0.5486 - val_loss: 0.4525 - val_MAE: 0.5298\n",
      "Epoch 5/200\n",
      "30/30 [==============================] - 0s 14ms/step - loss: 0.4595 - MAE: 0.5300 - val_loss: 0.4375 - val_MAE: 0.5187\n",
      "Epoch 6/200\n",
      "30/30 [==============================] - 0s 14ms/step - loss: 0.4384 - MAE: 0.5168 - val_loss: 0.4246 - val_MAE: 0.5101\n",
      "Epoch 7/200\n",
      "30/30 [==============================] - 0s 14ms/step - loss: 0.4218 - MAE: 0.5061 - val_loss: 0.4142 - val_MAE: 0.5033\n",
      "Epoch 8/200\n",
      "30/30 [==============================] - 0s 14ms/step - loss: 0.4089 - MAE: 0.4994 - val_loss: 0.4022 - val_MAE: 0.4949\n",
      "Epoch 9/200\n",
      "30/30 [==============================] - 0s 12ms/step - loss: 0.3940 - MAE: 0.4890 - val_loss: 0.3913 - val_MAE: 0.4863\n",
      "Epoch 10/200\n",
      "30/30 [==============================] - 0s 16ms/step - loss: 0.3817 - MAE: 0.4816 - val_loss: 0.3776 - val_MAE: 0.4771\n",
      "Epoch 11/200\n",
      "30/30 [==============================] - 0s 13ms/step - loss: 0.3697 - MAE: 0.4737 - val_loss: 0.3657 - val_MAE: 0.4686\n",
      "Epoch 12/200\n",
      "30/30 [==============================] - 0s 15ms/step - loss: 0.3579 - MAE: 0.4657 - val_loss: 0.3536 - val_MAE: 0.4588\n",
      "Epoch 13/200\n",
      "30/30 [==============================] - 0s 15ms/step - loss: 0.3470 - MAE: 0.4590 - val_loss: 0.3443 - val_MAE: 0.4508\n",
      "Epoch 14/200\n",
      "30/30 [==============================] - 0s 15ms/step - loss: 0.3345 - MAE: 0.4499 - val_loss: 0.3308 - val_MAE: 0.4418\n",
      "Epoch 15/200\n",
      "30/30 [==============================] - 0s 14ms/step - loss: 0.3238 - MAE: 0.4418 - val_loss: 0.3202 - val_MAE: 0.4328\n",
      "Epoch 16/200\n",
      "30/30 [==============================] - 0s 14ms/step - loss: 0.3130 - MAE: 0.4343 - val_loss: 0.3109 - val_MAE: 0.4256\n",
      "Epoch 17/200\n",
      "30/30 [==============================] - 0s 14ms/step - loss: 0.3027 - MAE: 0.4267 - val_loss: 0.3013 - val_MAE: 0.4176\n",
      "Epoch 18/200\n",
      "30/30 [==============================] - 0s 14ms/step - loss: 0.2942 - MAE: 0.4209 - val_loss: 0.2917 - val_MAE: 0.4098\n",
      "Epoch 19/200\n",
      "30/30 [==============================] - 0s 17ms/step - loss: 0.2840 - MAE: 0.4132 - val_loss: 0.2825 - val_MAE: 0.4024\n",
      "Epoch 20/200\n",
      "30/30 [==============================] - 0s 15ms/step - loss: 0.2739 - MAE: 0.4054 - val_loss: 0.2717 - val_MAE: 0.3942\n",
      "Epoch 21/200\n",
      "30/30 [==============================] - 0s 16ms/step - loss: 0.2653 - MAE: 0.3996 - val_loss: 0.2645 - val_MAE: 0.3882\n",
      "Epoch 22/200\n",
      "30/30 [==============================] - 0s 15ms/step - loss: 0.2566 - MAE: 0.3926 - val_loss: 0.2574 - val_MAE: 0.3828\n",
      "Epoch 23/200\n",
      "30/30 [==============================] - 0s 13ms/step - loss: 0.2485 - MAE: 0.3866 - val_loss: 0.2500 - val_MAE: 0.3774\n",
      "Epoch 24/200\n",
      "30/30 [==============================] - 0s 15ms/step - loss: 0.2410 - MAE: 0.3807 - val_loss: 0.2426 - val_MAE: 0.3721\n",
      "Epoch 25/200\n",
      "30/30 [==============================] - 0s 14ms/step - loss: 0.2337 - MAE: 0.3756 - val_loss: 0.2365 - val_MAE: 0.3677\n",
      "Epoch 26/200\n",
      "30/30 [==============================] - 0s 15ms/step - loss: 0.2259 - MAE: 0.3696 - val_loss: 0.2306 - val_MAE: 0.3622\n",
      "Epoch 27/200\n",
      "30/30 [==============================] - 0s 14ms/step - loss: 0.2185 - MAE: 0.3639 - val_loss: 0.2237 - val_MAE: 0.3574\n",
      "Epoch 28/200\n",
      "30/30 [==============================] - 0s 15ms/step - loss: 0.2118 - MAE: 0.3584 - val_loss: 0.2180 - val_MAE: 0.3525\n",
      "Epoch 29/200\n",
      "30/30 [==============================] - 0s 17ms/step - loss: 0.2059 - MAE: 0.3536 - val_loss: 0.2118 - val_MAE: 0.3468\n",
      "Epoch 30/200\n",
      "30/30 [==============================] - 0s 13ms/step - loss: 0.2001 - MAE: 0.3493 - val_loss: 0.2076 - val_MAE: 0.3435\n",
      "Epoch 31/200\n",
      "30/30 [==============================] - 0s 15ms/step - loss: 0.1944 - MAE: 0.3448 - val_loss: 0.2048 - val_MAE: 0.3409\n",
      "Epoch 32/200\n",
      "30/30 [==============================] - 0s 14ms/step - loss: 0.1877 - MAE: 0.3385 - val_loss: 0.1970 - val_MAE: 0.3352\n",
      "Epoch 33/200\n",
      "30/30 [==============================] - 0s 15ms/step - loss: 0.1828 - MAE: 0.3344 - val_loss: 0.1930 - val_MAE: 0.3326\n",
      "Epoch 34/200\n",
      "30/30 [==============================] - 0s 15ms/step - loss: 0.1780 - MAE: 0.3298 - val_loss: 0.1888 - val_MAE: 0.3291\n",
      "Epoch 35/200\n",
      "30/30 [==============================] - 0s 16ms/step - loss: 0.1727 - MAE: 0.3257 - val_loss: 0.1838 - val_MAE: 0.3254\n",
      "Epoch 36/200\n",
      "30/30 [==============================] - 0s 16ms/step - loss: 0.1679 - MAE: 0.3216 - val_loss: 0.1803 - val_MAE: 0.3248\n",
      "Epoch 37/200\n",
      "30/30 [==============================] - 0s 13ms/step - loss: 0.1628 - MAE: 0.3163 - val_loss: 0.1764 - val_MAE: 0.3197\n",
      "Epoch 38/200\n",
      "30/30 [==============================] - 0s 15ms/step - loss: 0.1585 - MAE: 0.3123 - val_loss: 0.1745 - val_MAE: 0.3176\n",
      "Epoch 39/200\n",
      "30/30 [==============================] - 0s 14ms/step - loss: 0.1545 - MAE: 0.3086 - val_loss: 0.1698 - val_MAE: 0.3159\n",
      "Epoch 40/200\n",
      "30/30 [==============================] - 0s 15ms/step - loss: 0.1508 - MAE: 0.3043 - val_loss: 0.1680 - val_MAE: 0.3150\n",
      "Epoch 41/200\n",
      "30/30 [==============================] - 0s 12ms/step - loss: 0.1468 - MAE: 0.3016 - val_loss: 0.1649 - val_MAE: 0.3109\n",
      "Epoch 42/200\n",
      "30/30 [==============================] - 0s 15ms/step - loss: 0.1442 - MAE: 0.2981 - val_loss: 0.1633 - val_MAE: 0.3083\n",
      "Epoch 43/200\n",
      "30/30 [==============================] - 0s 3ms/step - loss: 0.1401 - MAE: 0.2957 - val_loss: 0.1634 - val_MAE: 0.3072\n",
      "Epoch 44/200\n",
      "30/30 [==============================] - 0s 13ms/step - loss: 0.1377 - MAE: 0.2921 - val_loss: 0.1569 - val_MAE: 0.3044\n",
      "Epoch 45/200\n",
      "30/30 [==============================] - 0s 13ms/step - loss: 0.1349 - MAE: 0.2899 - val_loss: 0.1543 - val_MAE: 0.3014\n",
      "Epoch 46/200\n",
      "30/30 [==============================] - 0s 3ms/step - loss: 0.1317 - MAE: 0.2865 - val_loss: 0.1557 - val_MAE: 0.3026\n",
      "Epoch 47/200\n",
      "30/30 [==============================] - 0s 15ms/step - loss: 0.1296 - MAE: 0.2841 - val_loss: 0.1530 - val_MAE: 0.3001\n",
      "Epoch 48/200\n",
      "30/30 [==============================] - 0s 15ms/step - loss: 0.1277 - MAE: 0.2812 - val_loss: 0.1515 - val_MAE: 0.2980\n",
      "Epoch 49/200\n",
      "30/30 [==============================] - 0s 15ms/step - loss: 0.1248 - MAE: 0.2787 - val_loss: 0.1485 - val_MAE: 0.2947\n",
      "Epoch 50/200\n",
      "30/30 [==============================] - 0s 3ms/step - loss: 0.1230 - MAE: 0.2764 - val_loss: 0.1491 - val_MAE: 0.2946\n",
      "Epoch 51/200\n",
      "30/30 [==============================] - 0s 13ms/step - loss: 0.1209 - MAE: 0.2744 - val_loss: 0.1458 - val_MAE: 0.2942\n",
      "Epoch 52/200\n",
      "30/30 [==============================] - 0s 3ms/step - loss: 0.1194 - MAE: 0.2720 - val_loss: 0.1474 - val_MAE: 0.2923\n",
      "Epoch 53/200\n",
      "30/30 [==============================] - 0s 3ms/step - loss: 0.1183 - MAE: 0.2709 - val_loss: 0.1466 - val_MAE: 0.2944\n",
      "Epoch 54/200\n",
      "30/30 [==============================] - 0s 16ms/step - loss: 0.1164 - MAE: 0.2685 - val_loss: 0.1456 - val_MAE: 0.2943\n",
      "Epoch 55/200\n",
      "30/30 [==============================] - 0s 13ms/step - loss: 0.1148 - MAE: 0.2668 - val_loss: 0.1423 - val_MAE: 0.2901\n",
      "Epoch 56/200\n",
      "30/30 [==============================] - 0s 3ms/step - loss: 0.1131 - MAE: 0.2649 - val_loss: 0.1460 - val_MAE: 0.2896\n",
      "Epoch 57/200\n",
      "30/30 [==============================] - 0s 16ms/step - loss: 0.1124 - MAE: 0.2637 - val_loss: 0.1423 - val_MAE: 0.2863\n",
      "Epoch 58/200\n",
      "30/30 [==============================] - 0s 12ms/step - loss: 0.1115 - MAE: 0.2625 - val_loss: 0.1403 - val_MAE: 0.2871\n",
      "Epoch 59/200\n",
      "30/30 [==============================] - 0s 3ms/step - loss: 0.1125 - MAE: 0.2635 - val_loss: 0.1427 - val_MAE: 0.2908\n",
      "Epoch 60/200\n",
      "30/30 [==============================] - 0s 16ms/step - loss: 0.1096 - MAE: 0.2600 - val_loss: 0.1392 - val_MAE: 0.2850\n",
      "Epoch 61/200\n",
      "30/30 [==============================] - 0s 3ms/step - loss: 0.1090 - MAE: 0.2590 - val_loss: 0.1441 - val_MAE: 0.2858\n",
      "Epoch 62/200\n",
      "30/30 [==============================] - 0s 3ms/step - loss: 0.1081 - MAE: 0.2578 - val_loss: 0.1427 - val_MAE: 0.2846\n"
     ]
    },
    {
     "name": "stdout",
     "output_type": "stream",
     "text": [
      "Epoch 63/200\n",
      "30/30 [==============================] - 0s 3ms/step - loss: 0.1075 - MAE: 0.2578 - val_loss: 0.1409 - val_MAE: 0.2829\n",
      "Epoch 64/200\n",
      "30/30 [==============================] - 0s 13ms/step - loss: 0.1064 - MAE: 0.2558 - val_loss: 0.1384 - val_MAE: 0.2831\n",
      "Epoch 65/200\n",
      "30/30 [==============================] - 0s 12ms/step - loss: 0.1057 - MAE: 0.2545 - val_loss: 0.1380 - val_MAE: 0.2812\n",
      "Epoch 66/200\n",
      "30/30 [==============================] - 0s 3ms/step - loss: 0.1072 - MAE: 0.2567 - val_loss: 0.1393 - val_MAE: 0.2815\n",
      "Epoch 67/200\n",
      "30/30 [==============================] - 0s 3ms/step - loss: 0.1050 - MAE: 0.2537 - val_loss: 0.1406 - val_MAE: 0.2892\n",
      "Epoch 68/200\n",
      "30/30 [==============================] - 0s 3ms/step - loss: 0.1041 - MAE: 0.2518 - val_loss: 0.1381 - val_MAE: 0.2807\n",
      "Epoch 69/200\n",
      "30/30 [==============================] - 0s 13ms/step - loss: 0.1037 - MAE: 0.2518 - val_loss: 0.1362 - val_MAE: 0.2808\n",
      "Epoch 70/200\n",
      "30/30 [==============================] - 0s 3ms/step - loss: 0.1058 - MAE: 0.2552 - val_loss: 0.1363 - val_MAE: 0.2793\n",
      "Epoch 71/200\n",
      "30/30 [==============================] - 0s 15ms/step - loss: 0.1032 - MAE: 0.2511 - val_loss: 0.1356 - val_MAE: 0.2823\n",
      "Epoch 72/200\n",
      "30/30 [==============================] - 0s 15ms/step - loss: 0.1047 - MAE: 0.2531 - val_loss: 0.1349 - val_MAE: 0.2790\n",
      "Epoch 73/200\n",
      "30/30 [==============================] - 0s 3ms/step - loss: 0.1030 - MAE: 0.2513 - val_loss: 0.1381 - val_MAE: 0.2796\n",
      "Epoch 74/200\n",
      "30/30 [==============================] - 0s 13ms/step - loss: 0.1017 - MAE: 0.2480 - val_loss: 0.1345 - val_MAE: 0.2778\n",
      "Epoch 75/200\n",
      "30/30 [==============================] - 0s 3ms/step - loss: 0.1032 - MAE: 0.2510 - val_loss: 0.1360 - val_MAE: 0.2785\n",
      "Epoch 76/200\n",
      "30/30 [==============================] - 0s 13ms/step - loss: 0.1012 - MAE: 0.2482 - val_loss: 0.1339 - val_MAE: 0.2787\n",
      "Epoch 77/200\n",
      "30/30 [==============================] - 0s 3ms/step - loss: 0.1017 - MAE: 0.2485 - val_loss: 0.1375 - val_MAE: 0.2801\n",
      "Epoch 78/200\n",
      "30/30 [==============================] - 0s 3ms/step - loss: 0.1018 - MAE: 0.2479 - val_loss: 0.1346 - val_MAE: 0.2784\n",
      "Epoch 79/200\n",
      "30/30 [==============================] - 0s 3ms/step - loss: 0.1010 - MAE: 0.2477 - val_loss: 0.1359 - val_MAE: 0.2778\n",
      "Epoch 80/200\n",
      "30/30 [==============================] - 0s 3ms/step - loss: 0.1008 - MAE: 0.2470 - val_loss: 0.1349 - val_MAE: 0.2781\n",
      "Epoch 81/200\n",
      "30/30 [==============================] - 0s 6ms/step - loss: 0.1001 - MAE: 0.2467 - val_loss: 0.1367 - val_MAE: 0.2786\n"
     ]
    }
   ],
   "source": [
    "fitted = model.fit(\n",
    "    X_train[\"most_memorable_characteristics\"],\n",
    "    y_train,\n",
    "    epochs=200,\n",
    "    batch_size=64,\n",
    "    validation_data=(X_val[\"most_memorable_characteristics\"], y_val),\n",
    "    callbacks=[early_stopping],\n",
    "    verbose=1,\n",
    ")"
   ]
  },
  {
   "cell_type": "code",
   "execution_count": 275,
   "id": "5df3e98b",
   "metadata": {
    "hidden": true
   },
   "outputs": [],
   "source": [
    "MAE = fitted.history['MAE']\n",
    "val_MAE = fitted.history['val_MAE']\n",
    "loss = fitted.history['loss']\n",
    "val_loss = fitted.history['val_loss']\n",
    "\n",
    "epochs = range(1, len(MAE) + 1)"
   ]
  },
  {
   "cell_type": "code",
   "execution_count": 276,
   "id": "a51e3a39",
   "metadata": {
    "cell_style": "split",
    "hidden": true
   },
   "outputs": [
    {
     "data": {
      "image/png": "[encoded data removed]",
      "text/plain": [
       "<Figure size 432x288 with 1 Axes>"
      ]
     },
     "metadata": {
      "needs_background": "light"
     },
     "output_type": "display_data"
    }
   ],
   "source": [
    "plt.plot(epochs, loss, label='Training loss')\n",
    "plt.plot(epochs, val_loss, label='Validation loss')\n",
    "plt.ylim(0,1)\n",
    "plt.xlabel('Epochs')\n",
    "plt.ylabel('Loss')\n",
    "plt.legend()\n",
    "plt.show()"
   ]
  },
  {
   "cell_type": "code",
   "execution_count": 277,
   "id": "b741aa49",
   "metadata": {
    "cell_style": "split",
    "hidden": true
   },
   "outputs": [
    {
     "data": {
      "image/png": "[encoded data removed]",
      "text/plain": [
       "<Figure size 432x288 with 1 Axes>"
      ]
     },
     "metadata": {
      "needs_background": "light"
     },
     "output_type": "display_data"
    }
   ],
   "source": [
    "plt.plot(epochs, MAE, label='Training MAE')\n",
    "plt.plot(epochs, val_MAE, label='Validation MAE')\n",
    "plt.ylim(0,1)\n",
    "plt.xlabel('Epochs')\n",
    "plt.ylabel('MAE')\n",
    "plt.legend()\n",
    "plt.show()"
   ]
  },
  {
   "cell_type": "code",
   "execution_count": 278,
   "id": "7917f59c",
   "metadata": {
    "hidden": true
   },
   "outputs": [],
   "source": [
    "y_pred_train = model.predict(X_train[\"most_memorable_characteristics\"], verbose=False).reshape(-1)\n",
    "y_pred = model.predict(X_test[\"most_memorable_characteristics\"], verbose=False).reshape(-1)"
   ]
  },
  {
   "cell_type": "code",
   "execution_count": 281,
   "id": "159e64df",
   "metadata": {
    "hidden": true
   },
   "outputs": [
    {
     "data": {
      "text/plain": [
       "172.54"
      ]
     },
     "execution_count": 281,
     "metadata": {},
     "output_type": "execute_result"
    }
   ],
   "source": [
    "14.90 + 29.25 + 128.39"
   ]
  },
  {
   "cell_type": "code",
   "execution_count": 279,
   "id": "16aba4a0",
   "metadata": {
    "hidden": true
   },
   "outputs": [
    {
     "name": "stdout",
     "output_type": "stream",
     "text": [
      "MSE:\t\t Train: 0.1002 \tTest: 0.1130\n",
      "MdAE:\t\t Train: 0.2091 \tTest: 0.2105\n",
      "Accuracy:\t Train: 0.3162 \tTest: 0.3265\n"
     ]
    }
   ],
   "source": [
    "print_scores(y_pred_train, y_pred)"
   ]
  },
  {
   "cell_type": "code",
   "execution_count": 280,
   "id": "e67c6d0b",
   "metadata": {
    "hidden": true
   },
   "outputs": [
    {
     "data": {
      "image/png": "[encoded data removed]",
      "text/plain": [
       "<Figure size 432x288 with 1 Axes>"
      ]
     },
     "metadata": {
      "needs_background": "light"
     },
     "output_type": "display_data"
    }
   ],
   "source": [
    "histogram_residuals(y_test, y_pred, \"text_embedding\")"
   ]
  },
  {
   "cell_type": "markdown",
   "id": "065f9d10",
   "metadata": {
    "heading_collapsed": true
   },
   "source": [
    "# Old Code"
   ]
  },
  {
   "cell_type": "code",
   "execution_count": 182,
   "id": "d3f1979a",
   "metadata": {
    "hidden": true
   },
   "outputs": [
    {
     "data": {
      "image/png": "[encoded data removed]",
      "text/plain": [
       "<Figure size 576x576 with 2 Axes>"
      ]
     },
     "metadata": {
      "needs_background": "light"
     },
     "output_type": "display_data"
    }
   ],
   "source": [
    "cm = confusion_matrix(y_test_cat, y_pred_dtc)\n",
    "fig, ax = plt.subplots(figsize=(8,8))\n",
    "disp = ConfusionMatrixDisplay(cm, display_labels=dtc.classes_)\n",
    "disp.plot(ax=ax)\n",
    "plt.show()"
   ]
  },
  {
   "cell_type": "markdown",
   "id": "56b6b77e",
   "metadata": {
    "heading_collapsed": true
   },
   "source": [
    "# Random Forests"
   ]
  },
  {
   "cell_type": "code",
   "execution_count": 361,
   "id": "7c7cc645",
   "metadata": {
    "hidden": true
   },
   "outputs": [],
   "source": [
    "from sklearn.tree import DecisionTreeRegressor\n",
    "from sklearn.ensemble import RandomForestRegressor\n",
    "from sklearn.inspection import permutation_importance"
   ]
  },
  {
   "cell_type": "code",
   "execution_count": 367,
   "id": "693c5ce0",
   "metadata": {
    "hidden": true
   },
   "outputs": [],
   "source": [
    "regressors_rf = (\n",
    "    scaled_numeric_cols\n",
    "    + ingr_number_scaled_col\n",
    "    + ingr_seperated_cols\n",
    "    + ingr_dummy_cols\n",
    "    + manufac_dummy_cols\n",
    "    + location_dummy_cols\n",
    "    + origin_dummy_cols\n",
    "    + flavour_emb_pca95_cols\n",
    ")"
   ]
  },
  {
   "cell_type": "code",
   "execution_count": 368,
   "id": "c50a01ae",
   "metadata": {
    "hidden": true
   },
   "outputs": [],
   "source": [
    "X_train_rf = X_train.loc[:, regressors_rf]\n",
    "X_test_rf = X_test.loc[:, regressors_rf]"
   ]
  },
  {
   "cell_type": "code",
   "execution_count": 364,
   "id": "c4043b3f",
   "metadata": {
    "hidden": true
   },
   "outputs": [
    {
     "name": "stdout",
     "output_type": "stream",
     "text": [
      "R^2:\t\t Train: 0.2320 , Valid: 0.0938\n",
      "MSE:\t\t\t\t Valid: 0.1789\n",
      "Accuracy:\t Train: 0.2536 , Valid: 0.2336\n"
     ]
    }
   ],
   "source": [
    "dt = DecisionTreeRegressor(min_samples_leaf=100)\n",
    "dt.fit(X_train_rf, y_train)\n",
    "print_scores(dt, X_train_rf, X_test_rf)"
   ]
  },
  {
   "cell_type": "code",
   "execution_count": 369,
   "id": "99c9c269",
   "metadata": {
    "hidden": true
   },
   "outputs": [
    {
     "name": "stdout",
     "output_type": "stream",
     "text": [
      "R^2:\t\t Train: 0.3314 , Valid: 0.2135\n",
      "MSE:\t\t\t\t Valid: 0.1553\n",
      "Accuracy:\t Train: 0.2493 , Valid: 0.2606\n"
     ]
    }
   ],
   "source": [
    "rf = RandomForestRegressor(min_samples_leaf=50, max_depth=5, random_state=42)\n",
    "rf.fit(X_train_rf, y_train)\n",
    "print_scores(rf, X_train_rf, X_test_rf)"
   ]
  },
  {
   "cell_type": "code",
   "execution_count": 201,
   "id": "e777662d",
   "metadata": {
    "hidden": true
   },
   "outputs": [],
   "source": [
    "fi_df = pd.DataFrame(\n",
    "    data={'Feature': X_train_rf.columns, 'Feature importance': rf.feature_importances_}, \n",
    "    columns = ['Feature', 'Feature importance']\n",
    ")\n",
    "fi_df.sort_values('Feature importance', inplace=True, ascending=False)"
   ]
  },
  {
   "cell_type": "code",
   "execution_count": 202,
   "id": "20892b2d",
   "metadata": {
    "hidden": true
   },
   "outputs": [
    {
     "data": {
      "image/png": "[encoded data removed]",
      "text/plain": [
       "<Figure size 842.4x595.44 with 1 Axes>"
      ]
     },
     "metadata": {},
     "output_type": "display_data"
    }
   ],
   "source": [
    "sns.set(rc={'figure.figsize':(11.7,8.27)})\n",
    "sns.barplot(data=fi_df[fi_df[\"Feature importance\"] > 0], x='Feature importance', y='Feature')\n",
    "plt.xscale('log')"
   ]
  },
  {
   "cell_type": "code",
   "execution_count": 203,
   "id": "2cfa4adb",
   "metadata": {
    "hidden": true
   },
   "outputs": [],
   "source": [
    "per_imp = permutation_importance(rf, X_train_rf, y_train, n_repeats=1, n_jobs=-1)\n",
    "pi_df = pd.DataFrame(\n",
    "    data={'Feature': X_train_rf.columns, 'Permutation importance': per_imp[\"importances_mean\"]}, \n",
    "    columns = ['Feature', 'Permutation importance']\n",
    ")\n",
    "pi_df.sort_values('Permutation importance', inplace=True, ascending=False)"
   ]
  },
  {
   "cell_type": "code",
   "execution_count": 204,
   "id": "938ad1c0",
   "metadata": {
    "hidden": true
   },
   "outputs": [
    {
     "data": {
      "image/png": "[encoded data removed]",
      "text/plain": [
       "<Figure size 842.4x595.44 with 1 Axes>"
      ]
     },
     "metadata": {},
     "output_type": "display_data"
    }
   ],
   "source": [
    "sns.barplot(data=pi_df[pi_df[\"Permutation importance\"] > 0], x='Permutation importance', y='Feature')\n",
    "plt.xscale('log')"
   ]
  },
  {
   "cell_type": "code",
   "execution_count": 205,
   "id": "a822c7c7",
   "metadata": {
    "hidden": true,
    "scrolled": true
   },
   "outputs": [
    {
     "data": {
      "text/plain": [
       "['flavour3',\n",
       " 'flavour21',\n",
       " 'cocoa_percent',\n",
       " 'flavour23',\n",
       " 'flavour2',\n",
       " 'flavour40',\n",
       " 'flavour13',\n",
       " 'loc_U.S.A.',\n",
       " 'ingr_3- B,S,C',\n",
       " 'review_date_01',\n",
       " 'flavour38',\n",
       " 'review_date',\n",
       " 'flavour12',\n",
       " 'flavour42',\n",
       " 'flavour31',\n",
       " 'flavour15',\n",
       " 'flavour18',\n",
       " 'flavour36',\n",
       " 'no_ingredients_exp',\n",
       " 'flavour41',\n",
       " 'flavour27',\n",
       " 'flavour33',\n",
       " 'flavour8',\n",
       " 'flavour26',\n",
       " 'flavour29',\n",
       " 'flavour19',\n",
       " 'flavour4',\n",
       " 'flavour24',\n",
       " 'sugar',\n",
       " 'flavour14',\n",
       " 'flavour10',\n",
       " 'flavour5',\n",
       " 'vanilla',\n",
       " 'cocoa_percent_p4',\n",
       " 'flavour39',\n",
       " 'flavour37',\n",
       " 'flavour22',\n",
       " 'flavour32',\n",
       " 'flavour25',\n",
       " 'flavour16',\n",
       " 'flavour7',\n",
       " 'flavour9',\n",
       " 'flavour6',\n",
       " 'flavour11',\n",
       " 'flavour20',\n",
       " 'flavour30',\n",
       " 'flavour1',\n",
       " 'flavour28',\n",
       " 'flavour17',\n",
       " 'no_ingredients',\n",
       " 'flavour34',\n",
       " 'flavour35']"
      ]
     },
     "execution_count": 205,
     "metadata": {},
     "output_type": "execute_result"
    }
   ],
   "source": [
    "regressors_lr_fi = list(\n",
    "    set(fi_df[fi_df[\"Feature importance\"] > 0].Feature).intersection(\n",
    "        pi_df[pi_df[\"Permutation importance\"] > 0].Feature\n",
    "    )\n",
    ")\n",
    "regressors_lr_fi"
   ]
  },
  {
   "cell_type": "code",
   "execution_count": 206,
   "id": "8d4e1984",
   "metadata": {
    "hidden": true
   },
   "outputs": [
    {
     "name": "stdout",
     "output_type": "stream",
     "text": [
      "R^2:\t\t Train: 0.4302 , Valid: 0.3663\n",
      "MSE:\t\t\t\t Valid: 0.1251\n",
      "Accuracy:\t Train: 0.3005 , Valid: 0.2915\n"
     ]
    }
   ],
   "source": [
    "# repeat linear regression with features selected by importance in random forest\n",
    "X_train_lr_fi = X_train.loc[:, regressors_lr_fi]\n",
    "X_test_lr_fi = X_test.loc[:, regressors_lr_fi]\n",
    "\n",
    "lr_reduced = LinearRegression()\n",
    "lr_reduced.fit(X_train_lr_fi, y_train)\n",
    "print_scores(lr_reduced, X_train_lr_fi, X_test_lr_fi)"
   ]
  },
  {
   "cell_type": "code",
   "execution_count": null,
   "id": "1fa7861e",
   "metadata": {
    "hidden": true
   },
   "outputs": [],
   "source": []
  }
 ],
 "metadata": {
  "kernelspec": {
   "display_name": "Python 3 (ipykernel)",
   "language": "python",
   "name": "python3"
  },
  "language_info": {
   "codemirror_mode": {
    "name": "ipython",
    "version": 3
   },
   "file_extension": ".py",
   "mimetype": "text/x-python",
   "name": "python",
   "nbconvert_exporter": "python",
   "pygments_lexer": "ipython3",
   "version": "3.8.9"
  },
  "toc": {
   "base_numbering": 1,
   "nav_menu": {},
   "number_sections": true,
   "sideBar": true,
   "skip_h1_title": false,
   "title_cell": "Table of Contents",
   "title_sidebar": "Contents",
   "toc_cell": false,
   "toc_position": {
    "height": "calc(100% - 180px)",
    "left": "10px",
    "top": "150px",
    "width": "428.8px"
   },
   "toc_section_display": true,
   "toc_window_display": true
  }
 },
 "nbformat": 4,
 "nbformat_minor": 5
}
